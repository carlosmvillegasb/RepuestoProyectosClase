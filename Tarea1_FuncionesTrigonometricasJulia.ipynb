{
 "metadata": {
  "language": "Julia",
  "name": "",
  "signature": "sha256:2332fb944b9d7c130f3d06fb53fd842b157d2f8ca3969f56e1f8837bcd54db0a"
 },
 "nbformat": 3,
 "nbformat_minor": 0,
 "worksheets": [
  {
   "cells": [
    {
     "cell_type": "heading",
     "level": 1,
     "metadata": {},
     "source": [
      "Tarea 1"
     ]
    },
    {
     "cell_type": "heading",
     "level": 2,
     "metadata": {},
     "source": [
      "Carlos Mauricio Villegas Burgos"
     ]
    },
    {
     "cell_type": "heading",
     "level": 3,
     "metadata": {},
     "source": [
      "Preguntas"
     ]
    },
    {
     "cell_type": "markdown",
     "metadata": {},
     "source": [
      "1. Implementa una funci\u00f3n `mi_sin` usando recursi\u00f3n.\n",
      "Puedes utilizar el operador `%`, que calcula el resto de una divis\u00edon (ver abajo).  Calcula $\\sin(1)$. \n",
      "\n",
      "2. Implementa una versi\u00f3n de la funci\u00f3n exponencial que calcule el exponencial de su argumento $x$. Para hacerlo, no utilices primero construye un arreglo \n",
      "\n",
      "2. Implementa una funci\u00f3n `mi_sin2` que utiliza un arreglo. Calcula $\\sin(1)$. \n",
      "\n",
      "3. Implementa una funci\u00f3n `mi_sin3` que utiliza la f\u00f3rmula de Euler. Calcula $\\sin(1)$. \n",
      "\n",
      "4. \u00bfFuncionan estas funciones con argumentos que sean n\u00fameros complejos?\n",
      "\n",
      "5. \u00bfC\u00f3mo podr\u00edas implementar `mi_cos` sin mayor dificultad? Hazlo.\n",
      "\n",
      "6. Verifica unas relaciones trigonom\u00e9tricas con tus funciones."
     ]
    },
    {
     "cell_type": "heading",
     "level": 4,
     "metadata": {},
     "source": [
      "Respuesta 1."
     ]
    },
    {
     "cell_type": "markdown",
     "metadata": {},
     "source": [
      "Primero definimos la funci\u00f3n con recursi\u00f3n usando serie de Taylor. El argumento $n$ es el n\u00famero de t\u00e9rminos de la serie de Taylor a calcular con la funci\u00f3n, y el argumento $x$ es la variable de dicha serie. La serie de Taylor del $\\sin(x)$ es la siguiente:"
     ]
    },
    {
     "cell_type": "markdown",
     "metadata": {},
     "source": [
      "$$\\sin(x)=\\sum_{n=0}^{\\infty}\\frac{(-1)^n}{(2n+1)!}x^{2n+1}$$"
     ]
    },
    {
     "cell_type": "code",
     "collapsed": false,
     "input": [
      "function mi_sin(x,n)\n",
      "        if n<0 || typeof(n)!=Int64\n",
      "        y=\"eso no es un natural\"\n",
      "    elseif n==0\n",
      "        y=x\n",
      "    else\n",
      "        y=((-1)^n)*(x^(2*n+1))/factorial(big(2*n+1)) + mi_sin(x,n-1)\n",
      "    end\n",
      "    return y\n",
      "end"
     ],
     "language": "python",
     "metadata": {},
     "outputs": [
      {
       "metadata": {},
       "output_type": "pyout",
       "prompt_number": 1,
       "text": [
        "mi_sin (generic function with 1 method)"
       ]
      }
     ],
     "prompt_number": 1
    },
    {
     "cell_type": "markdown",
     "metadata": {},
     "source": [
      "La funci\u00f3n est\u00e1 hecha para devolver un mensaje de error si el argumento $n$ para el n\u00famero de t\u00e9rminos de la serie de Taylor no tiene sentido. Adem\u00e1s, como es una funci\u00f3n recursiva, debe pon\u00e9rsele un l\u00edmite inicial, que en este caso es el primer t\u00e9rmino ($n=0$). Finalmente, se calcula la funci\u00f3n usando el t\u00e9rmino $n$-\u00e9simo sumado a la funci\u00f3n con los $n-1$ restantes. **Nota:** Debe usarse la funcion big() dentro de la funci\u00f3n factorial() para poder calcular los factoriales de los enteros m\u00e1s grandes sin saturar nuestra funci\u00f3n."
     ]
    },
    {
     "cell_type": "code",
     "collapsed": false,
     "input": [
      "mi_sin(1,100)"
     ],
     "language": "python",
     "metadata": {},
     "outputs": [
      {
       "metadata": {},
       "output_type": "pyout",
       "prompt_number": 2,
       "text": [
        "8.414709848078965066525023216302989996225630607983710656727517099919104043912398e-01 with 256 bits of precision"
       ]
      }
     ],
     "prompt_number": 2
    },
    {
     "cell_type": "markdown",
     "metadata": {},
     "source": [
      "Luego, hemos de definir una funci\u00f3n de un s\u00f3lo argumento, $x$, que es el n\u00famero al que le calcularemos su $\\sin$. Para ello, debemos fijar el n\u00famero de t\u00e9rminos de la serie de Taylor en un valor entero razonablemente grande $k$. Luego, se realiza la recursi\u00f3n calculando los $k$ t\u00e9rminos empezando a partir del $n$-\u00e9simo, donde $n$ empieza en $k$ y va disminuyendo hasta $0$. La funci\u00f3n se calcula usando a la funci\u00f3n de dos argumentos definida previamente usando el mismo m\u00e9todo de recursi\u00f3n con los diferentes valores de $n$."
     ]
    },
    {
     "cell_type": "code",
     "collapsed": false,
     "input": [
      "function mi_sin(x)\n",
      "    k=100\n",
      "    n=k\n",
      "    if n==0\n",
      "        y=x\n",
      "    else\n",
      "        y=((-1)^n)*(x^(2*n+1))/factorial(big(2*n+1)) + mi_sin(x,n-1)\n",
      "        n=k-1\n",
      "    end\n",
      "    return y\n",
      "end"
     ],
     "language": "python",
     "metadata": {},
     "outputs": [
      {
       "metadata": {},
       "output_type": "pyout",
       "prompt_number": 3,
       "text": [
        "mi_sin (generic function with 2 methods)"
       ]
      }
     ],
     "prompt_number": 3
    },
    {
     "cell_type": "markdown",
     "metadata": {},
     "source": [
      "Finalmente, calculamos $\\sin(1)$."
     ]
    },
    {
     "cell_type": "code",
     "collapsed": false,
     "input": [
      "mi_sin(1)"
     ],
     "language": "python",
     "metadata": {},
     "outputs": [
      {
       "metadata": {},
       "output_type": "pyout",
       "prompt_number": 4,
       "text": [
        "8.414709848078965066525023216302989996225630607983710656727517099919104043912398e-01 with 256 bits of precision"
       ]
      }
     ],
     "prompt_number": 4
    },
    {
     "cell_type": "markdown",
     "metadata": {},
     "source": [
      "Que es muy similar a lo que se obtiene con la funci\u00f3n predefinida sin()."
     ]
    },
    {
     "cell_type": "code",
     "collapsed": false,
     "input": [
      "sin(1)"
     ],
     "language": "python",
     "metadata": {},
     "outputs": [
      {
       "metadata": {},
       "output_type": "pyout",
       "prompt_number": 5,
       "text": [
        "0.8414709848078965"
       ]
      }
     ],
     "prompt_number": 5
    },
    {
     "cell_type": "heading",
     "level": 4,
     "metadata": {},
     "source": [
      "Respuesta 2."
     ]
    },
    {
     "cell_type": "markdown",
     "metadata": {},
     "source": [
      "Para construir nuestra versi\u00f3n de la exponencial de $x$ usando arreglos sin usar recursi\u00f3n, primero hay que construir un arreglo, que en este caso ser\u00e1 de los t\u00e9rminos de la serie de Taylor. Dada $x$, ahora pueden calcularse m\u00e1s t\u00e9rminos de la serie $\\exp(x)=\\sum_{n=0}^{\\infty}\\frac{x^n}{n!}$ porque no usamos recursi\u00f3n y as\u00ed la funci\u00f3n no se satura tan f\u00e1cilmente. Podemos crear una funci\u00f3n de $x$ que nos entregue un arreglo de los primeros (digamos, 3000) t\u00e9rminos $\\frac{x^n}{n!}$ de la serie de Taylor para luego sumarlos. **Nota:** Ahora tambi\u00e9n usamos big(x) antes de elevar a la $n$ porque como ahora usaremos valores de $n$ mayores, $x^n$ necesitar\u00e1 mayor precisi\u00f3n para que la funci\u00f3n no nos devuelva inf."
     ]
    },
    {
     "cell_type": "code",
     "collapsed": false,
     "input": [
      "taytermexp(x)=[(big(x)^n)/(factorial(big(n))) for n in 0:3000]"
     ],
     "language": "python",
     "metadata": {},
     "outputs": [
      {
       "metadata": {},
       "output_type": "pyout",
       "prompt_number": 6,
       "text": [
        "taytermexp (generic function with 1 method)"
       ]
      }
     ],
     "prompt_number": 6
    },
    {
     "cell_type": "code",
     "collapsed": false,
     "input": [
      "taytermexp(1)"
     ],
     "language": "python",
     "metadata": {},
     "outputs": [
      {
       "metadata": {},
       "output_type": "pyout",
       "prompt_number": 7,
       "text": [
        "3001-element Array{BigFloat,1}:\n",
        " 1e+00                                                                                 \n",
        " 1e+00                                                                                 \n",
        " 5e-01                                                                                 \n",
        " 1.666666666666666666666666666666666666666666666666666666666666666666666666666674e-01  \n",
        " 4.166666666666666666666666666666666666666666666666666666666666666666666666666685e-02  \n",
        " 8.333333333333333333333333333333333333333333333333333333333333333333333333333396e-03  \n",
        " 1.388888888888888888888888888888888888888888888888888888888888888888888888888883e-03  \n",
        " 1.984126984126984126984126984126984126984126984126984126984126984126984126984127e-04  \n",
        " 2.480158730158730158730158730158730158730158730158730158730158730158730158730159e-05  \n",
        " 2.755731922398589065255731922398589065255731922398589065255731922398589065255725e-06  \n",
        " 2.755731922398589065255731922398589065255731922398589065255731922398589065255716e-07  \n",
        " 2.505210838544171877505210838544171877505210838544171877505210838544171877505204e-08  \n",
        " 2.087675698786809897921009032120143231254342365453476564587675698786809897921014e-09  \n",
        " \u22ee                                                                                     \n",
        " 4.191614717561263784408608703958447803468624535578221941088407169878384689129071e-9093\n",
        " 1.401877831960288891106558094969380536277131951698401986986089354474376150210417e-9096\n",
        " 4.686987067737508830179064175758544086516656475086599755887961733448265296591136e-9100\n",
        " 1.566506372906921400460917171042294146563053634721457137663088814655168882550519e-9103\n",
        " 5.233900343825330439227922389048760930715180871104100025603370580204373145841963e-9107\n",
        " 1.748129707356489792661296723129178667573540705111589854910945417569930910434879e-9110\n",
        " 5.836827069637695467984296237493084031965077479504473639101654148814460468897714e-9114\n",
        " 1.94820663205530556341264894442359280105643440570910335083499804700082125130096e-9117 \n",
        " 6.500522629480499043752582397142451788643424777140818654771431588257661832836054e-9121\n",
        " 2.168286400760673463559900732869396860788333814923555255093873111493549644041405e-9124\n",
        " 7.230031346317684106568525284659542716866734961398983844927886333756417619344401e-9128\n",
        " 2.410010448772561368856175094886514238955578320466327948309295444585472539781467e-9131"
       ]
      }
     ],
     "prompt_number": 7
    },
    {
     "cell_type": "markdown",
     "metadata": {},
     "source": [
      "As\u00ed, podemos definir la funci\u00f3n mi_exp(x) como una suma de los t\u00e9rminos de este arreglo:"
     ]
    },
    {
     "cell_type": "code",
     "collapsed": false,
     "input": [
      "mi_exp(x)=sum(taytermexp(x))"
     ],
     "language": "python",
     "metadata": {},
     "outputs": [
      {
       "metadata": {},
       "output_type": "pyout",
       "prompt_number": 8,
       "text": [
        "mi_exp (generic function with 1 method)"
       ]
      }
     ],
     "prompt_number": 8
    },
    {
     "cell_type": "markdown",
     "metadata": {},
     "source": [
      "Esto ofrece resultados razonablemete similares a la funci\u00f3n predefinida exp(), incluso para argumentos grandes (cosa que no suced\u00eda con la funci\u00f3n recursiva)."
     ]
    },
    {
     "cell_type": "code",
     "collapsed": false,
     "input": [
      "mi_exp(202.78)"
     ],
     "language": "python",
     "metadata": {},
     "outputs": [
      {
       "metadata": {},
       "output_type": "pyout",
       "prompt_number": 9,
       "text": [
        "1.164756225383166233967411813788134706104658427168764455354872910831907865638366e+88 with 256 bits of precision"
       ]
      }
     ],
     "prompt_number": 9
    },
    {
     "cell_type": "code",
     "collapsed": false,
     "input": [
      "exp(202.78)"
     ],
     "language": "python",
     "metadata": {},
     "outputs": [
      {
       "metadata": {},
       "output_type": "pyout",
       "prompt_number": 10,
       "text": [
        "1.1647562253831663e88"
       ]
      }
     ],
     "prompt_number": 10
    },
    {
     "cell_type": "heading",
     "level": 4,
     "metadata": {},
     "source": [
      "Respuesta 3."
     ]
    },
    {
     "cell_type": "markdown",
     "metadata": {},
     "source": [
      "Para implementar ahora una funci\u00f3n mi_sin2 que calcule el $\\sin$ de $x$ usando un arreglo, podemos simplemente definir el arreglo dentro de la suma que define a la funci\u00f3n para evitar usar una funci\u00f3n adicional que construya el arreglo."
     ]
    },
    {
     "cell_type": "code",
     "collapsed": false,
     "input": [
      "mi_sin2(x)=sum([((-1)^n)*(big(x)^(2*n+1))/factorial(big(2*n+1)) for n in 0:1001])"
     ],
     "language": "python",
     "metadata": {},
     "outputs": [
      {
       "metadata": {},
       "output_type": "pyout",
       "prompt_number": 11,
       "text": [
        "mi_sin2 (generic function with 1 method)"
       ]
      }
     ],
     "prompt_number": 11
    },
    {
     "cell_type": "markdown",
     "metadata": {},
     "source": [
      "La podemos probar para calcular el $\\sin(1)$ como nos piden."
     ]
    },
    {
     "cell_type": "code",
     "collapsed": false,
     "input": [
      "mi_sin2(1)"
     ],
     "language": "python",
     "metadata": {},
     "outputs": [
      {
       "metadata": {},
       "output_type": "pyout",
       "prompt_number": 12,
       "text": [
        "8.414709848078965066525023216302989996225630607983710656727517099919104043912398e-01 with 256 bits of precision"
       ]
      }
     ],
     "prompt_number": 12
    },
    {
     "cell_type": "markdown",
     "metadata": {},
     "source": [
      "Que es razonablemente parecido a lo que ofrece la funci\u00f3n predefinida sin()."
     ]
    },
    {
     "cell_type": "code",
     "collapsed": false,
     "input": [
      "sin(1)"
     ],
     "language": "python",
     "metadata": {},
     "outputs": [
      {
       "metadata": {},
       "output_type": "pyout",
       "prompt_number": 13,
       "text": [
        "0.8414709848078965"
       ]
      }
     ],
     "prompt_number": 13
    },
    {
     "cell_type": "heading",
     "level": 4,
     "metadata": {},
     "source": [
      "Respuesta 4."
     ]
    },
    {
     "cell_type": "markdown",
     "metadata": {},
     "source": [
      "La f\u00f3rmula de Euler para el $\\sin(x)$ es la siguiente:"
     ]
    },
    {
     "cell_type": "markdown",
     "metadata": {},
     "source": [
      "$$\\sin(x)=\\frac{e^{ix}-e^{-ix}}{2i}$$"
     ]
    },
    {
     "cell_type": "markdown",
     "metadata": {},
     "source": [
      "Por ende, s\u00f3lo debemos definir la funci\u00f3n mi_sin3 as\u00ed:"
     ]
    },
    {
     "cell_type": "code",
     "collapsed": false,
     "input": [
      "mi_sin3(x)=(exp(im*x)-exp(-im*x))/(2im)"
     ],
     "language": "python",
     "metadata": {},
     "outputs": [
      {
       "metadata": {},
       "output_type": "pyout",
       "prompt_number": 14,
       "text": [
        "mi_sin3 (generic function with 1 method)"
       ]
      }
     ],
     "prompt_number": 14
    },
    {
     "cell_type": "markdown",
     "metadata": {},
     "source": [
      "Ahora calculamos $\\sin(1)$ con mi_sin(1)"
     ]
    },
    {
     "cell_type": "code",
     "collapsed": false,
     "input": [
      "mi_sin3(1)"
     ],
     "language": "python",
     "metadata": {},
     "outputs": [
      {
       "metadata": {},
       "output_type": "pyout",
       "prompt_number": 15,
       "text": [
        "0.8414709848078965 + 0.0im"
       ]
      }
     ],
     "prompt_number": 15
    },
    {
     "cell_type": "heading",
     "level": 4,
     "metadata": {},
     "source": [
      "Respuesta 5."
     ]
    },
    {
     "cell_type": "markdown",
     "metadata": {},
     "source": [
      "Probemos si estas funciones sirven con argumentos complejos:"
     ]
    },
    {
     "cell_type": "code",
     "collapsed": false,
     "input": [
      "mi_sin(im)"
     ],
     "language": "python",
     "metadata": {},
     "outputs": [
      {
       "metadata": {},
       "output_type": "pyout",
       "prompt_number": 16,
       "text": [
        "0e+00 with 256 bits of precision + 1.175201193643801456882381850595600815155717981334095870229565413013307567304335e+00 with 256 bits of precisionim"
       ]
      }
     ],
     "prompt_number": 16
    },
    {
     "cell_type": "markdown",
     "metadata": {},
     "source": [
      "Como vemos, con esta funci\u00f3n, corroboramos que $\\sin(i)=i\\sinh(1)$, lo cu\u00e1l es acorde con que $\\sin(x+iy)=\\sin(x)\\cosh(y)+i\\cos(x)\\sinh(y)$ con $x$ y $y$ reales."
     ]
    },
    {
     "cell_type": "code",
     "collapsed": false,
     "input": [
      "sinh(1)"
     ],
     "language": "python",
     "metadata": {},
     "outputs": [
      {
       "metadata": {},
       "output_type": "pyout",
       "prompt_number": 17,
       "text": [
        "1.1752011936438014"
       ]
      }
     ],
     "prompt_number": 17
    },
    {
     "cell_type": "markdown",
     "metadata": {},
     "source": [
      "Si usamos un complejo con parte real e imaginaria como argumento, obtenemos:"
     ]
    },
    {
     "cell_type": "code",
     "collapsed": false,
     "input": [
      "mi_sin(1+im)"
     ],
     "language": "python",
     "metadata": {},
     "outputs": [
      {
       "metadata": {},
       "output_type": "pyout",
       "prompt_number": 18,
       "text": [
        "1.29845758141597729482604236580781562031343656163520807340184210367391171441968e+00 with 256 bits of precision + 6.349639147847361082550822029915097815170819514193794105269529419319753121371858e-01 with 256 bits of precisionim"
       ]
      }
     ],
     "prompt_number": 18
    },
    {
     "cell_type": "markdown",
     "metadata": {},
     "source": [
      "Veamos si las partes real e imaginaria de esta respuesta concuerdan con lo que nos dice la f\u00f3rmula del seno de un n\u00famero complejo. Sin embargo, en vez de calcularlas, simplemente podemos comparar con la funci\u00f3n predefinida sin() que ya lo tiene implementado."
     ]
    },
    {
     "cell_type": "code",
     "collapsed": false,
     "input": [
      "sin(im)"
     ],
     "language": "python",
     "metadata": {},
     "outputs": [
      {
       "metadata": {},
       "output_type": "pyout",
       "prompt_number": 19,
       "text": [
        "0.0 + 1.1752011936438014im"
       ]
      }
     ],
     "prompt_number": 19
    },
    {
     "cell_type": "code",
     "collapsed": false,
     "input": [
      "sin(1+im)"
     ],
     "language": "python",
     "metadata": {},
     "outputs": [
      {
       "metadata": {},
       "output_type": "pyout",
       "prompt_number": 20,
       "text": [
        "1.2984575814159773 + 0.6349639147847361im"
       ]
      }
     ],
     "prompt_number": 20
    },
    {
     "cell_type": "markdown",
     "metadata": {},
     "source": [
      "Por ende, vemos que la funci\u00f3n mi_sin (definida de modo recursivo) s\u00ed funciona con argumentos complejos."
     ]
    },
    {
     "cell_type": "markdown",
     "metadata": {},
     "source": [
      "Veamos si ocurre lo mismo con la funci\u00f3n mi_exp definida con arreglos."
     ]
    },
    {
     "cell_type": "code",
     "collapsed": false,
     "input": [
      "mi_exp(im)"
     ],
     "language": "python",
     "metadata": {},
     "outputs": [
      {
       "metadata": {},
       "output_type": "pyout",
       "prompt_number": 21,
       "text": [
        "5.40302305868139717400936607442976603732310420617922227670097255381100394774458e-01 with 256 bits of precision + 8.414709848078965066525023216302989996225630607983710656727517099919104043912226e-01 with 256 bits of precisionim"
       ]
      }
     ],
     "prompt_number": 21
    },
    {
     "cell_type": "markdown",
     "metadata": {},
     "source": [
      "Evaluar $\\exp(i)$ te\u00f3ricamente devuelve $\\cos(1)+i\\sin(1)$ por la f\u00f3rmula de Euler $e^{ix}=\\cos(x)+i\\sin(x)$. Vemos que al menos la parte imaginaria, que es $i\\sin(1)$ concuerda con nuestros c\u00e1lculos anteriores de $\\sin(1)$. Sin embargo, comparemos con la funci\u00f3n predefinida exp() que ya lo tiene implementado porque es m\u00e1s sencillo."
     ]
    },
    {
     "cell_type": "code",
     "collapsed": false,
     "input": [
      "exp(im)"
     ],
     "language": "python",
     "metadata": {},
     "outputs": [
      {
       "metadata": {},
       "output_type": "pyout",
       "prompt_number": 22,
       "text": [
        "0.5403023058681398 + 0.8414709848078965im"
       ]
      }
     ],
     "prompt_number": 22
    },
    {
     "cell_type": "markdown",
     "metadata": {},
     "source": [
      "Si usamos un argumento con parte real e imaginaria:"
     ]
    },
    {
     "cell_type": "code",
     "collapsed": false,
     "input": [
      "mi_exp(3+4im)"
     ],
     "language": "python",
     "metadata": {},
     "outputs": [
      {
       "metadata": {},
       "output_type": "pyout",
       "prompt_number": 23,
       "text": [
        "-1.312878308146215808032755514537412835753215574240448127295635264279578805720064e+01 with 256 bits of precision - 1.520078446306795456220348102334273780594479306362442843237621553091015697783351e+01 with 256 bits of precisionim"
       ]
      }
     ],
     "prompt_number": 23
    },
    {
     "cell_type": "code",
     "collapsed": false,
     "input": [
      "exp(3+4im)"
     ],
     "language": "python",
     "metadata": {},
     "outputs": [
      {
       "metadata": {},
       "output_type": "pyout",
       "prompt_number": 24,
       "text": [
        "-13.128783081462158 - 15.200784463067954im"
       ]
      }
     ],
     "prompt_number": 24
    },
    {
     "cell_type": "markdown",
     "metadata": {},
     "source": [
      "Por lo tanto, la funci\u00f3n exponencial definida con arreglos s\u00ed sirve con argumentos complejos. Esto nos hace pensar que la funci\u00f3n mi_sin2, definida tambi\u00e9n con arreglos, debe servir tambi\u00e9n. Para verificarlo, usaremos los mismos argumentos que usamos en la funci\u00f3n mi_sin:"
     ]
    },
    {
     "cell_type": "code",
     "collapsed": false,
     "input": [
      "mi_sin2(im)"
     ],
     "language": "python",
     "metadata": {},
     "outputs": [
      {
       "metadata": {},
       "output_type": "pyout",
       "prompt_number": 25,
       "text": [
        "0e+00 with 256 bits of precision + 1.175201193643801456882381850595600815155717981334095870229565413013307567304335e+00 with 256 bits of precisionim"
       ]
      }
     ],
     "prompt_number": 25
    },
    {
     "cell_type": "code",
     "collapsed": false,
     "input": [
      "mi_sin2(1+im)"
     ],
     "language": "python",
     "metadata": {},
     "outputs": [
      {
       "metadata": {},
       "output_type": "pyout",
       "prompt_number": 26,
       "text": [
        "1.298457581415977294826042365807815620313436561635208073401842103673911714419646e+00 with 256 bits of precision + 6.349639147847361082550822029915097815170819514193794105269529419319753121371944e-01 with 256 bits of precisionim"
       ]
      }
     ],
     "prompt_number": 26
    },
    {
     "cell_type": "markdown",
     "metadata": {},
     "source": [
      "Vemos que da resultados similares a mi_sin y sin, d\u00e1ndonos a entender que s\u00ed sirve."
     ]
    },
    {
     "cell_type": "markdown",
     "metadata": {},
     "source": [
      "Finalmente, vemos qu\u00e9 pasa con la funci\u00f3n mi_sin3, que fue construida a partir de la funci\u00f3n exp predefinida."
     ]
    },
    {
     "cell_type": "code",
     "collapsed": false,
     "input": [
      "mi_sin3(im)"
     ],
     "language": "python",
     "metadata": {},
     "outputs": [
      {
       "metadata": {},
       "output_type": "pyout",
       "prompt_number": 27,
       "text": [
        "0.0 + 1.1752011936438014im"
       ]
      }
     ],
     "prompt_number": 27
    },
    {
     "cell_type": "code",
     "collapsed": false,
     "input": [
      "mi_sin3(1+im)"
     ],
     "language": "python",
     "metadata": {},
     "outputs": [
      {
       "metadata": {},
       "output_type": "pyout",
       "prompt_number": 28,
       "text": [
        "1.2984575814159773 + 0.6349639147847361im"
       ]
      }
     ],
     "prompt_number": 28
    },
    {
     "cell_type": "markdown",
     "metadata": {},
     "source": [
      "Vemos que su respuesta es exactamente igual a la de la funci\u00f3n predefinida sin."
     ]
    },
    {
     "cell_type": "markdown",
     "metadata": {},
     "source": [
      "Como ya vimos que la funci\u00f3n mi_exp s\u00ed sirve para n\u00fameros complejos, podemos hacer por curiosidad una funci\u00f3n mi_sin4 que use la f\u00f3rmula de Euler con nuestra funci\u00f3n mi_exp:"
     ]
    },
    {
     "cell_type": "code",
     "collapsed": false,
     "input": [
      "mi_sin4(x)=(mi_exp(im*x)-mi_exp(-im*x))/(2im)"
     ],
     "language": "python",
     "metadata": {},
     "outputs": [
      {
       "metadata": {},
       "output_type": "pyout",
       "prompt_number": 29,
       "text": [
        "mi_sin4 (generic function with 1 method)"
       ]
      }
     ],
     "prompt_number": 29
    },
    {
     "cell_type": "code",
     "collapsed": false,
     "input": [
      "mi_sin4(im)"
     ],
     "language": "python",
     "metadata": {},
     "outputs": [
      {
       "metadata": {},
       "output_type": "pyout",
       "prompt_number": 30,
       "text": [
        "0e+00 with 256 bits of precision + 1.1752011936438014568823818505956008151557179813340958702295654130133075673043e+00 with 256 bits of precisionim"
       ]
      }
     ],
     "prompt_number": 30
    },
    {
     "cell_type": "code",
     "collapsed": false,
     "input": [
      "mi_sin4(1+im)"
     ],
     "language": "python",
     "metadata": {},
     "outputs": [
      {
       "metadata": {},
       "output_type": "pyout",
       "prompt_number": 31,
       "text": [
        "1.298457581415977294826042365807815620313436561635208073401842103673911714419629e+00 with 256 bits of precision + 6.349639147847361082550822029915097815170819514193794105269529419319753121371771e-01 with 256 bits of precisionim"
       ]
      }
     ],
     "prompt_number": 31
    },
    {
     "cell_type": "markdown",
     "metadata": {},
     "source": [
      "Y efectivamente, s\u00ed funciona."
     ]
    },
    {
     "cell_type": "heading",
     "level": 4,
     "metadata": {},
     "source": [
      "Respuesta 6."
     ]
    },
    {
     "cell_type": "markdown",
     "metadata": {},
     "source": [
      "S\u00ed podemos implementar la funci\u00f3n $\\cos$ del mismo modo en que definimos la funci\u00f3n $\\sin$, pero usando la serie de Taylor correspondiente:"
     ]
    },
    {
     "cell_type": "markdown",
     "metadata": {},
     "source": [
      "$$\\cos(x)=\\sum_{n=0}^{\\infty}\\frac{(-1)^n}{(2n)!}x^{2n}$$"
     ]
    },
    {
     "cell_type": "markdown",
     "metadata": {},
     "source": [
      "Sin embargo, lo haremos con arreglos porque los resultados son m\u00e1s precisos que con recursi\u00f3n y tiene m\u00e1s chiste que usar la f\u00f3rmula de Euler."
     ]
    },
    {
     "cell_type": "code",
     "collapsed": false,
     "input": [
      "mi_cos(x)=sum([((-1)^n)*(big(x)^(2*n))/factorial(big(2*n)) for n in 0:1001])"
     ],
     "language": "python",
     "metadata": {},
     "outputs": [
      {
       "metadata": {},
       "output_type": "pyout",
       "prompt_number": 32,
       "text": [
        "mi_cos (generic function with 1 method)"
       ]
      }
     ],
     "prompt_number": 32
    },
    {
     "cell_type": "markdown",
     "metadata": {},
     "source": [
      "La probamos para algunos valores (tanto reales como complejos) y la comparamos con la funci\u00f3n predefinida cos:"
     ]
    },
    {
     "cell_type": "code",
     "collapsed": false,
     "input": [
      "mi_cos(1)"
     ],
     "language": "python",
     "metadata": {},
     "outputs": [
      {
       "metadata": {},
       "output_type": "pyout",
       "prompt_number": 33,
       "text": [
        "5.403023058681397174009366074429766037323104206179222276700972553811003947744926e-01 with 256 bits of precision"
       ]
      }
     ],
     "prompt_number": 33
    },
    {
     "cell_type": "code",
     "collapsed": false,
     "input": [
      "cos(1)"
     ],
     "language": "python",
     "metadata": {},
     "outputs": [
      {
       "metadata": {},
       "output_type": "pyout",
       "prompt_number": 34,
       "text": [
        "0.5403023058681398"
       ]
      }
     ],
     "prompt_number": 34
    },
    {
     "cell_type": "code",
     "collapsed": false,
     "input": [
      "mi_cos(im)"
     ],
     "language": "python",
     "metadata": {},
     "outputs": [
      {
       "metadata": {},
       "output_type": "pyout",
       "prompt_number": 35,
       "text": [
        "1.54308063481524377847790562075706168260152911236586370473740221471076906304922e+00 with 256 bits of precision + 0e+00 with 256 bits of precisionim"
       ]
      }
     ],
     "prompt_number": 35
    },
    {
     "cell_type": "code",
     "collapsed": false,
     "input": [
      "cos(im)"
     ],
     "language": "python",
     "metadata": {},
     "outputs": [
      {
       "metadata": {},
       "output_type": "pyout",
       "prompt_number": 36,
       "text": [
        "1.5430806348152437 - 0.0im"
       ]
      }
     ],
     "prompt_number": 36
    },
    {
     "cell_type": "code",
     "collapsed": false,
     "input": [
      "mi_cos(3.43-5.7im)"
     ],
     "language": "python",
     "metadata": {},
     "outputs": [
      {
       "metadata": {},
       "output_type": "pyout",
       "prompt_number": 37,
       "text": [
        "-1.432634060511300049439002578172392279797599198088619023780320571021560716695871e+02 with 256 bits of precision - 4.250231089768370321365517361887181387864093087753233463112233879544175321449234e+01 with 256 bits of precisionim"
       ]
      }
     ],
     "prompt_number": 37
    },
    {
     "cell_type": "code",
     "collapsed": false,
     "input": [
      "cos(3.43-5.7im)"
     ],
     "language": "python",
     "metadata": {},
     "outputs": [
      {
       "metadata": {},
       "output_type": "pyout",
       "prompt_number": 38,
       "text": [
        "-143.26340605113 - 42.50231089768371im"
       ]
      }
     ],
     "prompt_number": 38
    },
    {
     "cell_type": "code",
     "collapsed": false,
     "input": [
      "mi_cos(20.15)"
     ],
     "language": "python",
     "metadata": {},
     "outputs": [
      {
       "metadata": {},
       "output_type": "pyout",
       "prompt_number": 39,
       "text": [
        "2.670709068262131253883493075287280227392891382809401299666715869400350584612725e-01 with 256 bits of precision"
       ]
      }
     ],
     "prompt_number": 39
    },
    {
     "cell_type": "code",
     "collapsed": false,
     "input": [
      "cos(20.15)"
     ],
     "language": "python",
     "metadata": {},
     "outputs": [
      {
       "metadata": {},
       "output_type": "pyout",
       "prompt_number": 40,
       "text": [
        "0.26707090682621315"
       ]
      }
     ],
     "prompt_number": 40
    },
    {
     "cell_type": "markdown",
     "metadata": {},
     "source": [
      "Por ende, parece que est\u00e1 implementado correctamente."
     ]
    },
    {
     "cell_type": "heading",
     "level": 4,
     "metadata": {},
     "source": [
      "Respuesta 7."
     ]
    },
    {
     "cell_type": "markdown",
     "metadata": {},
     "source": [
      "Probaremos ahora las relaciones trigonom\u00e9tricas con nuestras funciones definidas con arreglos, mi_sin2 y mi_cos."
     ]
    },
    {
     "cell_type": "markdown",
     "metadata": {},
     "source": [
      "Podr\u00edamos verificar algunas relaciones trigonom\u00e9tricas para las funciones $\\sin$ y $\\cos$ como las de paridad o imparidad y de periodicidad, as\u00ed como la definici\u00f3n de tangente (comparando con la funci\u00f3n predefinida tan) y la identidad pitag\u00f3rica. Las relaciones que verificaremos son estas:"
     ]
    },
    {
     "cell_type": "markdown",
     "metadata": {},
     "source": [
      "$$\\sin(-x)=-\\sin(x)$$\n",
      "$$\\cos(-x)=\\cos(x)$$\n",
      "$$\\sin(x+2\\pi)=\\sin(x)$$\n",
      "$$\\cos(x+2\\pi)=\\cos(x)$$\n",
      "$$\\sin\\left(\\frac{\\pi}{2}-x\\right)=\\cos(x)$$\n",
      "$$\\cos\\left(\\frac{\\pi}{2}-x\\right)=\\sin(x)$$\n",
      "$$\\tan(x)=\\frac{\\sin(x)}{\\cos(x)}$$\n",
      "$$\\cos^{2}(x)+\\sin^{2}(x)=1$$"
     ]
    },
    {
     "cell_type": "markdown",
     "metadata": {},
     "source": [
      "Para ello, crearemos varias funciones que nos den arreglos de dos n\u00fameros: uno que sea el lado izquierdo de cada igualdad y otro que sea el lado derecho, con el fin de ver posteriormente que para cada valor de $x$ ambos elementos son iguales, demostrando as\u00ed la identidad."
     ]
    },
    {
     "cell_type": "code",
     "collapsed": false,
     "input": [
      "id1(x)=[mi_sin2(-x),-mi_sin2(x)]"
     ],
     "language": "python",
     "metadata": {},
     "outputs": [
      {
       "metadata": {},
       "output_type": "pyout",
       "prompt_number": 41,
       "text": [
        "id1 (generic function with 1 method)"
       ]
      }
     ],
     "prompt_number": 41
    },
    {
     "cell_type": "code",
     "collapsed": false,
     "input": [
      "id2(x)=[mi_cos(-x),mi_cos(x)]"
     ],
     "language": "python",
     "metadata": {},
     "outputs": [
      {
       "metadata": {},
       "output_type": "pyout",
       "prompt_number": 42,
       "text": [
        "id2 (generic function with 1 method)"
       ]
      }
     ],
     "prompt_number": 42
    },
    {
     "cell_type": "code",
     "collapsed": false,
     "input": [
      "id3(x)=[mi_sin2(x+(2*pi)),mi_sin2(x)]"
     ],
     "language": "python",
     "metadata": {},
     "outputs": [
      {
       "metadata": {},
       "output_type": "pyout",
       "prompt_number": 43,
       "text": [
        "id3 (generic function with 1 method)"
       ]
      }
     ],
     "prompt_number": 43
    },
    {
     "cell_type": "code",
     "collapsed": false,
     "input": [
      "id4(x)=[mi_cos(x+(2*pi)),mi_cos(x)]"
     ],
     "language": "python",
     "metadata": {},
     "outputs": [
      {
       "metadata": {},
       "output_type": "pyout",
       "prompt_number": 44,
       "text": [
        "id4 (generic function with 1 method)"
       ]
      }
     ],
     "prompt_number": 44
    },
    {
     "cell_type": "code",
     "collapsed": false,
     "input": [
      "id5(x)=[mi_sin2((pi/2)-x),mi_cos(x)]"
     ],
     "language": "python",
     "metadata": {},
     "outputs": [
      {
       "metadata": {},
       "output_type": "pyout",
       "prompt_number": 45,
       "text": [
        "id5 (generic function with 1 method)"
       ]
      }
     ],
     "prompt_number": 45
    },
    {
     "cell_type": "code",
     "collapsed": false,
     "input": [
      "id6(x)=[mi_cos((pi/2)-x),mi_sin2(x)]"
     ],
     "language": "python",
     "metadata": {},
     "outputs": [
      {
       "metadata": {},
       "output_type": "pyout",
       "prompt_number": 46,
       "text": [
        "id6 (generic function with 1 method)"
       ]
      }
     ],
     "prompt_number": 46
    },
    {
     "cell_type": "code",
     "collapsed": false,
     "input": [
      "id7(x)=[tan(x),mi_sin2(x)/mi_cos(x)]"
     ],
     "language": "python",
     "metadata": {},
     "outputs": [
      {
       "metadata": {},
       "output_type": "pyout",
       "prompt_number": 47,
       "text": [
        "id7 (generic function with 1 method)"
       ]
      }
     ],
     "prompt_number": 47
    },
    {
     "cell_type": "code",
     "collapsed": false,
     "input": [
      "id8(x)=[((mi_cos(x))^2)+((mi_sin2(x))^2),1]"
     ],
     "language": "python",
     "metadata": {},
     "outputs": [
      {
       "metadata": {},
       "output_type": "pyout",
       "prompt_number": 48,
       "text": [
        "id8 (generic function with 1 method)"
       ]
      }
     ],
     "prompt_number": 48
    },
    {
     "cell_type": "markdown",
     "metadata": {},
     "source": [
      "Ahora, usaremos estas funciones para construir arreglos con un n\u00famero significativo de valores de $x$ en un intervalo razonable para verificar que en todos ellos, ambos lados son iguales. Usamos el intervalo $[-10,\\,10]$ para ver qu\u00e9 ocurre con nuestras funciones para valores m\u00e1s grandes que los del intervalo $[-2\\pi,\\,2\\pi]$. El motivo por el que damos saltos de s\u00f3lo $0.1$ es que con saltos m\u00e1s peque\u00f1os los arreglos tienen m\u00e1s elementos, y como la funci\u00f3n debe calcular 500 t\u00e9rminos para cada n\u00famero, calcular un n\u00famero demasiado grande de elementos podr\u00eda hacer que construir nuestros arreglos tarde demasiado. (Y los instructores deben de poder correr bien este notebook en poco tiempo)."
     ]
    },
    {
     "cell_type": "code",
     "collapsed": false,
     "input": [
      "Id1=[id1(x) for x in -10:0.1:10]"
     ],
     "language": "python",
     "metadata": {},
     "outputs": [
      {
       "metadata": {},
       "output_type": "pyout",
       "prompt_number": 49,
       "text": [
        "201-element Array{Array{BigFloat,1},1}:\n",
        " BigFloat[-5.440211108893698134047476618513772816836430129162238915741840126167572096390156e-01,-5.440211108893698134047476618513772816836430129162238915741840126167572096390156e-01]\n",
        " BigFloat[-4.575358937753213603179752075557523054234494172524066236145956365190040284911267e-01,-4.575358937753213603179752075557523054234494172524066236145956365190040284911267e-01]\n",
        " BigFloat[-3.66479129251928409276881753111717725047228243951487638319228527982373830845008e-01,-3.66479129251928409276881753111717725047228243951487638319228527982373830845008e-01]  \n",
        " BigFloat[-2.717606264109424405363663820456748910676205587494847741905668923345396388773399e-01,-2.717606264109424405363663820456748910676205587494847741905668923345396388773399e-01]\n",
        " BigFloat[-1.74326781222979635292700263667430220726998172500297072124261231784242361433398e-01,-1.74326781222979635292700263667430220726998172500297072124261231784242361433398e-01]  \n",
        " BigFloat[-7.515112046180930728348250453400693763441042555629182640422246293446473995215927e-02,-7.515112046180930728348250453400693763441042555629182640422246293446473995215927e-02]\n",
        " BigFloat[2.477542545335776591745857335138351339705046718626582661102963799057039291451828e-02,2.477542545335776591745857335138351339705046718626582661102963799057039291451828e-02]  \n",
        " BigFloat[1.244544235070617029709090410377199980460428420204835503271150346450449354545273e-01,1.244544235070617029709090410377199980460428420204835503271150346450449354545273e-01]  \n",
        " BigFloat[2.228899141002476501961227485560846902557056252459253442865145213230570906558505e-01,2.228899141002476501961227485560846902557056252459253442865145213230570906558505e-01]  \n",
        " BigFloat[3.190983623493521074923476425781543780189251382682527578067141392814034912028566e-01,3.190983623493521074923476425781543780189251382682527578067141392814034912028566e-01]  \n",
        " BigFloat[4.121184852417565697562725663524351793438765268869727622356051615560967103061951e-01,4.121184852417565697562725663524351793438765268869727622356051615560967103061951e-01]  \n",
        " BigFloat[5.010208564578846745518240484640182316531127224094810089760646302380249991848196e-01,5.010208564578846745518240484640182316531127224094810089760646302380249991848196e-01]  \n",
        " BigFloat[5.849171928917616772146821445380744441912938140795329692949274272161314809302565e-01,5.849171928917616772146821445380744441912938140795329692949274272161314809302565e-01]  \n",
        " \u22ee                                                                                                                                                                                    \n",
        " BigFloat[-5.010208564578846745518240484640182316531127224094810089760646302380249991848196e-01,-5.010208564578846745518240484640182316531127224094810089760646302380249991848196e-01]\n",
        " BigFloat[-4.121184852417565697562725663524351793438765268869727622356051615560967103061951e-01,-4.121184852417565697562725663524351793438765268869727622356051615560967103061951e-01]\n",
        " BigFloat[-3.190983623493521074923476425781543780189251382682527578067141392814034912028566e-01,-3.190983623493521074923476425781543780189251382682527578067141392814034912028566e-01]\n",
        " BigFloat[-2.228899141002476501961227485560846902557056252459253442865145213230570906558505e-01,-2.228899141002476501961227485560846902557056252459253442865145213230570906558505e-01]\n",
        " BigFloat[-1.244544235070617029709090410377199980460428420204835503271150346450449354545273e-01,-1.244544235070617029709090410377199980460428420204835503271150346450449354545273e-01]\n",
        " BigFloat[-2.477542545335776591745857335138351339705046718626582661102963799057039291451828e-02,-2.477542545335776591745857335138351339705046718626582661102963799057039291451828e-02]\n",
        " BigFloat[7.515112046180930728348250453400693763441042555629182640422246293446473995215927e-02,7.515112046180930728348250453400693763441042555629182640422246293446473995215927e-02]  \n",
        " BigFloat[1.74326781222979635292700263667430220726998172500297072124261231784242361433398e-01,1.74326781222979635292700263667430220726998172500297072124261231784242361433398e-01]    \n",
        " BigFloat[2.717606264109424405363663820456748910676205587494847741905668923345396388773399e-01,2.717606264109424405363663820456748910676205587494847741905668923345396388773399e-01]  \n",
        " BigFloat[3.66479129251928409276881753111717725047228243951487638319228527982373830845008e-01,3.66479129251928409276881753111717725047228243951487638319228527982373830845008e-01]    \n",
        " BigFloat[4.575358937753213603179752075557523054234494172524066236145956365190040284911267e-01,4.575358937753213603179752075557523054234494172524066236145956365190040284911267e-01]  \n",
        " BigFloat[5.440211108893698134047476618513772816836430129162238915741840126167572096390156e-01,5.440211108893698134047476618513772816836430129162238915741840126167572096390156e-01]  "
       ]
      }
     ],
     "prompt_number": 49
    },
    {
     "cell_type": "code",
     "collapsed": false,
     "input": [
      "Id2=[id2(x) for x in -10:0.1:10]"
     ],
     "language": "python",
     "metadata": {},
     "outputs": [
      {
       "metadata": {},
       "output_type": "pyout",
       "prompt_number": 50,
       "text": [
        "201-element Array{Array{BigFloat,1},1}:\n",
        " BigFloat[-8.39071529076452452258863947824064834519930165133168546835953731048792586864851e-01,-8.39071529076452452258863947824064834519930165133168546835953731048792586864851e-01]  \n",
        " BigFloat[-8.891911526253608920850358629094465125173156501207399565132456633089268257598323e-01,-8.891911526253608920850358629094465125173156501207399565132456633089268257598323e-01]\n",
        " BigFloat[-9.304262721047532581502946544448859797733145711990083200778737198842390467798863e-01,-9.304262721047532581502946544448859797733145711990083200778737198842390467798863e-01]\n",
        " BigFloat[-9.623648798313102271678953328012615985729084391940637518232908456488717843586882e-01,-9.623648798313102271678953328012615985729084391940637518232908456488717843586882e-01]\n",
        " BigFloat[-9.84687855794126971953656103098002941343404790107632933520278740766087452225832e-01,-9.84687855794126971953656103098002941343404790107632933520278740766087452225832e-01]  \n",
        " BigFloat[-9.97172156196378472891601640177988039324099215430169283389445135062264472722351e-01,-9.97172156196378472891601640177988039324099215430169283389445135062264472722351e-01]  \n",
        " BigFloat[-9.996930420352064809799467112976020324542234797653493200542256139466428884348695e-01,-9.996930420352064809799467112976020324542234797653493200542256139466428884348695e-01]\n",
        " BigFloat[-9.922253254526034961870957907891504644723271528211568633161314762996925331134468e-01,-9.922253254526034961870957907891504644723271528211568633161314762996925331134468e-01]\n",
        " BigFloat[-9.748436214041635835686360003523556487956932669655242488314481075291163009018406e-01,-9.748436214041635835686360003523556487956932669655242488314481075291163009018406e-01]\n",
        " BigFloat[-9.47721602131111911352554909437230451129648554313011011577527716768567198483386e-01,-9.47721602131111911352554909437230451129648554313011011577527716768567198483386e-01]  \n",
        " BigFloat[-9.11130261884676988368294711181165311246347566569347262124782765780546406657194e-01,-9.11130261884676988368294711181165311246347566569347262124782765780546406657194e-01]  \n",
        " BigFloat[-8.654352092411122376381926884523241487804550284170156764418600773204334446213917e-01,-8.654352092411122376381926884523241487804550284170156764418600773204334446213917e-01]\n",
        " BigFloat[-8.110930140616559784977479346500973653142394086125535045854471056413564901572331e-01,-8.110930140616559784977479346500973653142394086125535045854471056413564901572331e-01]\n",
        " \u22ee                                                                                                                                                                                    \n",
        " BigFloat[-8.654352092411122376381926884523241487804550284170156764418600773204334446213917e-01,-8.654352092411122376381926884523241487804550284170156764418600773204334446213917e-01]\n",
        " BigFloat[-9.11130261884676988368294711181165311246347566569347262124782765780546406657194e-01,-9.11130261884676988368294711181165311246347566569347262124782765780546406657194e-01]  \n",
        " BigFloat[-9.47721602131111911352554909437230451129648554313011011577527716768567198483386e-01,-9.47721602131111911352554909437230451129648554313011011577527716768567198483386e-01]  \n",
        " BigFloat[-9.748436214041635835686360003523556487956932669655242488314481075291163009018406e-01,-9.748436214041635835686360003523556487956932669655242488314481075291163009018406e-01]\n",
        " BigFloat[-9.922253254526034961870957907891504644723271528211568633161314762996925331134468e-01,-9.922253254526034961870957907891504644723271528211568633161314762996925331134468e-01]\n",
        " BigFloat[-9.996930420352064809799467112976020324542234797653493200542256139466428884348695e-01,-9.996930420352064809799467112976020324542234797653493200542256139466428884348695e-01]\n",
        " BigFloat[-9.97172156196378472891601640177988039324099215430169283389445135062264472722351e-01,-9.97172156196378472891601640177988039324099215430169283389445135062264472722351e-01]  \n",
        " BigFloat[-9.84687855794126971953656103098002941343404790107632933520278740766087452225832e-01,-9.84687855794126971953656103098002941343404790107632933520278740766087452225832e-01]  \n",
        " BigFloat[-9.623648798313102271678953328012615985729084391940637518232908456488717843586882e-01,-9.623648798313102271678953328012615985729084391940637518232908456488717843586882e-01]\n",
        " BigFloat[-9.304262721047532581502946544448859797733145711990083200778737198842390467798863e-01,-9.304262721047532581502946544448859797733145711990083200778737198842390467798863e-01]\n",
        " BigFloat[-8.891911526253608920850358629094465125173156501207399565132456633089268257598323e-01,-8.891911526253608920850358629094465125173156501207399565132456633089268257598323e-01]\n",
        " BigFloat[-8.39071529076452452258863947824064834519930165133168546835953731048792586864851e-01,-8.39071529076452452258863947824064834519930165133168546835953731048792586864851e-01]  "
       ]
      }
     ],
     "prompt_number": 50
    },
    {
     "cell_type": "code",
     "collapsed": false,
     "input": [
      "Id3=[id3(x) for x in -10:0.1:10]"
     ],
     "language": "python",
     "metadata": {},
     "outputs": [
      {
       "metadata": {},
       "output_type": "pyout",
       "prompt_number": 51,
       "text": [
        "201-element Array{Array{BigFloat,1},1}:\n",
        " BigFloat[5.440211108893700189180001296819164964373194498636069334733717315771136037443328e-01,5.440211108893698134047476618513772816836430129162238915741840126167572096390156e-01]  \n",
        " BigFloat[4.5753589377532157810699498611449942402044733205083046299686991380211581666318e-01,4.575358937753213603179752075557523054234494172524066236145956365190040284911267e-01]    \n",
        " BigFloat[3.664791292519286371655929482497742619977558001303569291129129188294489212528653e-01,3.66479129251928409276881753111717725047228243951487638319228527982373830845008e-01]   \n",
        " BigFloat[2.717606264109426762477803214939172137645714513749608846427203983570932614797484e-01,2.717606264109424405363663820456748910676205587494847741905668923345396388773399e-01]  \n",
        " BigFloat[1.743267812229798764716664151770416577200014670582843455177056260626997361004863e-01,1.74326781222979635292700263667430220726998172500297072124261231784242361433398e-01]   \n",
        " BigFloat[7.515112046180955152022036148588421868414453985293174990270965171761214376482766e-02,7.515112046180930728348250453400693763441042555629182640422246293446473995215927e-02]  \n",
        " BigFloat[-2.477542545335752106328176169218112408833989331246823048698419189750968967023279e-02,-2.477542545335776591745857335138351339705046718626582661102963799057039291451828e-02]\n",
        " BigFloat[-1.24454423507061459945795271343385854742460515651724119237383289261281488205118e-01,-1.244544235070617029709090410377199980460428420204835503271150346450449354545273e-01] \n",
        " BigFloat[-2.228899141002474114282986241914534441957806972399949520214358916049951021572284e-01,-2.228899141002476501961227485560846902557056252459253442865145213230570906558505e-01]\n",
        " BigFloat[-3.190983623493518753675023360446308569061121384290028949555239600925149168277786e-01,-3.190983623493521074923476425781543780189251382682527578067141392814034912028566e-01]\n",
        " BigFloat[-4.121184852417563465937208016805588358258743709873608360726930312840753581225118e-01,-4.121184852417565697562725663524351793438765268869727622356051615560967103061951e-01]\n",
        " BigFloat[-5.010208564578844625813322751544134457698847779917179425742401629517320476086563e-01,-5.010208564578846745518240484640182316531127224094810089760646302380249991848196e-01]\n",
        " BigFloat[-5.849171928917614785541894482608338286194485681592257725053181650648871922764865e-01,-5.849171928917616772146821445380744441912938140795329692949274272161314809302565e-01]\n",
        " \u22ee                                                                                                                                                                                    \n",
        " BigFloat[5.010208564578848865223158217735929610991090534324196786867996778761602588832798e-01,5.010208564578846745518240484640182316531127224094810089760646302380249991848196e-01]  \n",
        " BigFloat[4.121184852417567929188243310242867997126843983545964406700132466351566473536179e-01,4.121184852417565697562725663524351793438765268869727622356051615560967103061951e-01]  \n",
        " BigFloat[3.190983623493523396171929491116587562961155453475372552354963921057655636149549e-01,3.190983623493521074923476425781543780189251382682527578067141392814034912028566e-01]  \n",
        " BigFloat[2.228899141002478889639468729207025650624654129508788765997422359577090776413925e-01,2.228899141002476501961227485560846902557056252459253442865145213230570906558505e-01]  \n",
        " BigFloat[1.244544235070619459960228107320466752800591580836232335388373118994220178025701e-01,1.244544235070617029709090410377199980460428420204835503271150346450449354545273e-01]  \n",
        " BigFloat[2.477542545335801077163538501058441641829330974415633164950320456941389972382413e-02,2.477542545335776591745857335138351339705046718626582661102963799057039291451828e-02]  \n",
        " BigFloat[-7.515112046180906304674464758212514823955268733141826741056264582252831620825876e-02,-7.515112046180930728348250453400693763441042555629182640422246293446473995215927e-02]\n",
        " BigFloat[-1.743267812229793941137341121578083258021741132568970097967779736343623403754433e-01,-1.74326781222979635292700263667430220726998172500297072124261231784242361433398e-01] \n",
        " BigFloat[-2.717606264109422048249524425974162653443495811115466903522713286400584587000515e-01,-2.717606264109424405363663820456748910676205587494847741905668923345396388773399e-01]\n",
        " BigFloat[-3.664791292519281813881705579736392028703312086138522867597780963854705791768205e-01,-3.66479129251928409276881753111717725047228243951487638319228527982373830845008e-01] \n",
        " BigFloat[-4.575358937753195630081699287442592850114017587448997270677602979988698889291611e-01,-4.575358937753213603179752075557523054234494172524066236145956365190040284911267e-01]\n",
        " BigFloat[-5.440211108893696078914951940208054308906453398247864725976043111180677904374652e-01,-5.440211108893698134047476618513772816836430129162238915741840126167572096390156e-01]"
       ]
      }
     ],
     "prompt_number": 51
    },
    {
     "cell_type": "code",
     "collapsed": false,
     "input": [
      "Id4=[id4(x) for x in -10:0.1:10]"
     ],
     "language": "python",
     "metadata": {},
     "outputs": [
      {
       "metadata": {},
       "output_type": "pyout",
       "prompt_number": 52,
       "text": [
        "201-element Array{Array{BigFloat,1},1}:\n",
        " BigFloat[-8.390715290764523190121215239732348102144299295579040097954096571105842110466497e-01,-8.39071529076452452258863947824064834519930165133168546835953731048792586864851e-01] \n",
        " BigFloat[-8.891911526253607800210623015152804905556465031795418119905611796767626408619357e-01,-8.891911526253608920850358629094465125173156501207399565132456633089268257598323e-01]\n",
        " BigFloat[-9.304262721047531683887961359082070553734670476682631547142735541342495924588199e-01,-9.304262721047532581502946544448859797733145711990083200778737198842390467798863e-01]\n",
        " BigFloat[-9.623648798313101606057390791131707077086024138157820386103129653878928152380064e-01,-9.623648798313102271678953328012615985729084391940637518232908456488717843586882e-01]\n",
        " BigFloat[-9.846878557941269292559091770213892670000834884736249200926624624524741774089396e-01,-9.84687855794126971953656103098002941343404790107632933520278740766087452225832e-01] \n",
        " BigFloat[-9.971721561963784544848858149995728718960438536655447625999610068073648455438335e-01,-9.97172156196378472891601640177988039324099215430169283389445135062264472722351e-01] \n",
        " BigFloat[-9.996930420352064870481758070912619445231848235267754434688404762150194749762177e-01,-9.996930420352064809799467112976020324542234797653493200542256139466428884348695e-01]\n",
        " BigFloat[-9.922253254526035266696380683195653349628533792038776326961364486537367378601781e-01,-9.922253254526034961870957907891504644723271528211568633161314762996925331134468e-01]\n",
        " BigFloat[-9.74843621404163638160919973371683795024507978682037666409337103279697076525847e-01,-9.748436214041635835686360003523556487956932669655242488314481075291163009018406e-01] \n",
        " BigFloat[-9.477216021311119895091125222964691648785564684563533542160387384624326562322048e-01,-9.47721602131111911352554909437230451129648554313011011577527716768567198483386e-01] \n",
        " BigFloat[-9.111302618846770893082114753357164783570370991118209748483579497764038292117686e-01,-9.11130261884676988368294711181165311246347566569347262124782765780546406657194e-01] \n",
        " BigFloat[-8.654352092411123603529103218950902012104488533958317901773277566891374491878827e-01,-8.654352092411122376381926884523241487804550284170156764418600773204334446213917e-01]\n",
        " BigFloat[-8.110930140616561217611415428802526881374846334461677437745968647737723380825605e-01,-8.110930140616559784977479346500973653142394086125535045854471056413564901572331e-01]\n",
        " \u22ee                                                                                                                                                                                    \n",
        " BigFloat[-8.654352092411121149234750550095061785536084286485648235080598140941366885867491e-01,-8.654352092411122376381926884523241487804550284170156764418600773204334446213917e-01]\n",
        " BigFloat[-9.111302618846768874283779470265594850747164018447632991630909878809181193602924e-01,-9.11130261884676988368294711181165311246347566569347262124782765780546406657194e-01] \n",
        " BigFloat[-9.477216021311118331959972965779348831909791960146459204185050319468608385120232e-01,-9.47721602131111911352554909437230451129648554313011011577527716768567198483386e-01] \n",
        " BigFloat[-9.748436214041635289763520273329690213165678989864346610303461597185647647669645e-01,-9.748436214041635835686360003523556487956932669655242488314481075291163009018406e-01]\n",
        " BigFloat[-9.922253254526034657045535132586760699962628309369150790067997585576691852037341e-01,-9.922253254526034961870957907891504644723271528211568633161314762996925331134468e-01]\n",
        " BigFloat[-9.996930420352064749117176155038821484084840843023061681653891858158107326701224e-01,-9.996930420352064809799467112976020324542234797653493200542256139466428884348695e-01]\n",
        " BigFloat[-9.971721561963784912983174653563433860043044357350961251330723431910724323188625e-01,-9.97172156196378472891601640177988039324099215430169283389445135062264472722351e-01] \n",
        " BigFloat[-9.846878557941270146514030291745575438769422689240389056700770434055827470992974e-01,-9.84687855794126971953656103098002941343404790107632933520278740766087452225832e-01] \n",
        " BigFloat[-9.62364879831310293730051586489294756791493776151241101486211787499888461228417e-01,-9.623648798313102271678953328012615985729084391940637518232908456488717843586882e-01] \n",
        " BigFloat[-9.304262721047533479117931729815090875370167064448711488468168940757397703348457e-01,-9.304262721047532581502946544448859797733145711990083200778737198842390467798863e-01]\n",
        " BigFloat[-8.8919115262536181689602360320035133823208452954600385204146113487145647462823e-01,-8.891911526253608920850358629094465125173156501207399565132456633089268257598323e-01]  \n",
        " BigFloat[-8.390715290764525855056063716748445225960669825942289238616005218427767423294749e-01,-8.39071529076452452258863947824064834519930165133168546835953731048792586864851e-01] "
       ]
      }
     ],
     "prompt_number": 52
    },
    {
     "cell_type": "code",
     "collapsed": false,
     "input": [
      "Id5=[id5(x) for x in -10:0.1:10]"
     ],
     "language": "python",
     "metadata": {},
     "outputs": [
      {
       "metadata": {},
       "output_type": "pyout",
       "prompt_number": 53,
       "text": [
        "201-element Array{Array{BigFloat,1},1}:\n",
        " BigFloat[-8.390715290764524855705495537867644755604671899469525281335401662270729399573122e-01,-8.39071529076452452258863947824064834519930165133168546835953731048792586864851e-01] \n",
        " BigFloat[-8.891911526253609201010292532579796831756716477444480859731616290906935795441078e-01,-8.891911526253608920850358629094465125173156501207399565132456633089268257598323e-01]\n",
        " BigFloat[-9.304262721047532805906692840790469895238787351623920911469672988515917039220595e-01,-9.304262721047532581502946544448859797733145711990083200778737198842390467798863e-01]\n",
        " BigFloat[-9.623648798313102438084343962232753005630910879729926033921460062872769645709977e-01,-9.623648798313102271678953328012615985729084391940637518232908456488717843586882e-01]\n",
        " BigFloat[-9.846878557941269826280928346171471299589563932009846747457268822867895101274254e-01,-9.84687855794126971953656103098002941343404790107632933520278740766087452225832e-01] \n",
        " BigFloat[-9.971721561963784774932805964725824841892614712682907850673470985191599458388816e-01,-9.97172156196378472891601640177988039324099215430169283389445135062264472722351e-01] \n",
        " BigFloat[-9.996930420352064794628894373491776838156115732466009083671781382282071466439494e-01,-9.996930420352064809799467112976020324542234797653493200542256139466428884348695e-01]\n",
        " BigFloat[-9.922253254526034885664602214065374462269552688032925803712649136961372844977798e-01,-9.922253254526034961870957907891504644723271528211568633161314762996925331134468e-01]\n",
        " BigFloat[-9.748436214041635699205650070975144745431285489952404376646826005687340065110429e-01,-9.748436214041635835686360003523556487956932669655242488314481075291163009018406e-01]\n",
        " BigFloat[-9.477216021311118918134155062224118892252713501277699713649152315259998266366827e-01,-9.47721602131111911352554909437230451129648554313011011577527716768567198483386e-01] \n",
        " BigFloat[-9.111302618846769631333155201425189789904030534050375673010143231220909326851094e-01,-9.11130261884676988368294711181165311246347566569347262124782765780546406657194e-01] \n",
        " BigFloat[-8.65435209241112206959513280091624523517198326111143653448492217203065627433359e-01,-8.654352092411122376381926884523241487804550284170156764418600773204334446213917e-01] \n",
        " BigFloat[-8.11093014061655942681899532592550931829162554527713023814292913940137106585255e-01,-8.110930140616559784977479346500973653142394086125535045854471056413564901572331e-01] \n",
        " \u22ee                                                                                                                                                                                    \n",
        " BigFloat[-8.65435209241112268316872096813020529181408432298535528235332150931493858624769e-01,-8.654352092411122376381926884523241487804550284170156764418600773204334446213917e-01] \n",
        " BigFloat[-9.111302618846770136032739022198082273109832277222750663086689213040053694510876e-01,-9.11130261884676988368294711181165311246347566569347262124782765780546406657194e-01] \n",
        " BigFloat[-9.477216021311119308916943126520454596471656682385631300076082230489906802350974e-01,-9.47721602131111911352554909437230451129648554313011011577527716768567198483386e-01] \n",
        " BigFloat[-9.74843621404163597216706993607193167970113568919397049359262804968619987235137e-01,-9.748436214041635835686360003523556487956932669655242488314481075291163009018406e-01] \n",
        " BigFloat[-9.922253254526035038077313601717597624686029058701760828279151172990632103227819e-01,-9.922253254526034961870957907891504644723271528211568633161314762996925331134468e-01]\n",
        " BigFloat[-9.996930420352064824970039852460226328442867580527466674616342417811080559638882e-01,-9.996930420352064809799467112976020324542234797653493200542256139466428884348695e-01]\n",
        " BigFloat[-9.971721561963784682899226838833898556621963257508166767711771140799654677997427e-01,-9.97172156196378472891601640177988039324099215430169283389445135062264472722351e-01] \n",
        " BigFloat[-9.846878557941269612792193715788550607397416980881810647149669757484495978808881e-01,-9.84687855794126971953656103098002941343404790107632933520278740766087452225832e-01] \n",
        " BigFloat[-9.623648798313102105273562693792442882923682473888158775325571263429328089267163e-01,-9.623648798313102271678953328012615985729084391940637518232908456488717843586882e-01]\n",
        " BigFloat[-9.304262721047532357099200248107214814829913204678194029716140789281309337889135e-01,-9.304262721047532581502946544448859797733145711990083200778737198842390467798863e-01]\n",
        " BigFloat[-8.891911526253608640690424725609100079261351368522902212346322225703774511092684e-01,-8.891911526253608920850358629094465125173156501207399565132456633089268257598323e-01]\n",
        " BigFloat[-8.390715290764524189471783418613620474650579266872468055374362156592536394644088e-01,-8.39071529076452452258863947824064834519930165133168546835953731048792586864851e-01] "
       ]
      }
     ],
     "prompt_number": 53
    },
    {
     "cell_type": "code",
     "collapsed": false,
     "input": [
      "Id6=[id6(x) for x in -10:0.1:10]"
     ],
     "language": "python",
     "metadata": {},
     "outputs": [
      {
       "metadata": {},
       "output_type": "pyout",
       "prompt_number": 54,
       "text": [
        "201-element Array{Array{BigFloat,1},1}:\n",
        " BigFloat[5.440211108893697620264345448937373786140799605313880401328332027519531978008932e-01,5.440211108893698134047476618513772816836430129162238915741840126167572096390156e-01]  \n",
        " BigFloat[4.575358937753213058707202629160612370621211355852499963141854989497962430068824e-01,4.575358937753213603179752075557523054234494172524066236145956365190040284911267e-01]  \n",
        " BigFloat[3.664791292519283523047039543272001556179761237876790899949485003035732771032117e-01,3.66479129251928409276881753111717725047228243951487638319228527982373830845008e-01]   \n",
        " BigFloat[2.717606264109423816085128971836117630455203223093662030813489035984120370852929e-01,2.717606264109424405363663820456748910676205587494847741905668923345396388773399e-01]  \n",
        " BigFloat[1.743267812229795749979587257900257274269003543781393328270534364018143558342366e-01,1.74326781222979635292700263667430220726998172500297072124261231784242361433398e-01]   \n",
        " BigFloat[7.515112046180924622429804029603691294305133074277300180084496875245908885896925e-02,7.515112046180930728348250453400693763441042555629182640422246293446473995215927e-02]  \n",
        " BigFloat[-2.47754254533578271310027762661838784918112776371785277333561778017446587658329e-02,-2.477542545335776591745857335138351339705046718626582661102963799057039291451828e-02] \n",
        " BigFloat[-1.244544235070617637271874834613023672985687345029898213870599446953335611348051e-01,-1.244544235070617029709090410377199980460428420204835503271150346450449354545273e-01]\n",
        " BigFloat[-2.2288991410024770988807877964724041251237980407593983045408153846878952011301e-01,-2.228899141002476501961227485560846902557056252459253442865145213230570906558505e-01]  \n",
        " BigFloat[-3.190983623493521655235589692115322672290623581098645906528031706092227464228703e-01,-3.190983623493521074923476425781543780189251382682527578067141392814034912028566e-01]\n",
        " BigFloat[-4.121184852417566255469105075204004022313154589199005335377120149024452714065747e-01,-4.121184852417565697562725663524351793438765268869727622356051615560967103061951e-01]\n",
        " BigFloat[-5.010208564578847275444469917914147318056022689214771898727140656470067816344127e-01,-5.010208564578846745518240484640182316531127224094810089760646302380249991848196e-01]\n",
        " BigFloat[-5.849171928917617268798053186073791153637420847330192409815246913222961142981276e-01,-5.849171928917616772146821445380744441912938140795329692949274272161314809302565e-01]\n",
        " \u22ee                                                                                                                                                                                    \n",
        " BigFloat[5.010208564578846215592011051366198529732962000603083032862221060922291741394573e-01,5.010208564578846745518240484640182316531127224094810089760646302380249991848196e-01]  \n",
        " BigFloat[4.121184852417565139656346251844684112596129520770457254504668053779461105234994e-01,4.121184852417565697562725663524351793438765268869727622356051615560967103061951e-01]  \n",
        " BigFloat[3.190983623493520494611363159447752923815615063791430896217246125501939745270921e-01,3.190983623493521074923476425781543780189251382682527578067141392814034912028566e-01]  \n",
        " BigFloat[2.22889914100247590504166717464928132295708625147099804371956821980694803432229e-01,2.228899141002476501961227485560846902557056252459253442865145213230570906558505e-01]   \n",
        " BigFloat[1.244544235070616422146305986141371621641690738938760450247945328344826876165154e-01,1.244544235070617029709090410377199980460428420204835503271150346450449354545273e-01]  \n",
        " BigFloat[2.477542545335770470391437043658305540932292352810893229585485570932218647482874e-02,2.477542545335776591745857335138351339705046718626582661102963799057039291451828e-02]  \n",
        " BigFloat[-7.515112046180936834266696877197668055419929387429604878915166784460048388672907e-02,-7.515112046180930728348250453400693763441042555629182640422246293446473995215927e-02]\n",
        " BigFloat[-1.743267812229796955874418015448340604063571928296165121130915981716430944802354e-01,-1.74326781222979635292700263667430220726998172500297072124261231784242361433398e-01] \n",
        " BigFloat[-2.717606264109424994642198669077370001505757898763244719631510024613962558763172e-01,-2.717606264109424405363663820456748910676205587494847741905668923345396388773399e-01]\n",
        " BigFloat[-3.664791292519284662490595518962339203998322716678733078456481781078701719131428e-01,-3.66479129251928409276881753111717725047228243951487638319228527982373830845008e-01] \n",
        " BigFloat[-4.575358937753214147652301521954416582999461777327471284411749157150368106877796e-01,-4.575358937753213603179752075557523054234494172524066236145956365190040284911267e-01]\n",
        " BigFloat[-5.440211108893698647830607788090151450007484880420563444481978235633555988915046e-01,-5.440211108893698134047476618513772816836430129162238915741840126167572096390156e-01]"
       ]
      }
     ],
     "prompt_number": 54
    },
    {
     "cell_type": "code",
     "collapsed": false,
     "input": [
      "Id7=[id7(x) for x in -10:0.1:10]"
     ],
     "language": "python",
     "metadata": {},
     "outputs": [
      {
       "metadata": {},
       "output_type": "pyout",
       "prompt_number": 55,
       "text": [
        "201-element Array{Array{T,1},1}:\n",
        " BigFloat[-6.483608274590866304976088940748013556003570556640625e-01,-6.483608274590866712591249330098086768168743429837249756336279673958556003739594e-01]    \n",
        " BigFloat[-5.145529084769167038615478304564021527767181396484375e-01,-5.145529084769166646497409031301577805988552438400786435859906212931521783447225e-01]    \n",
        " BigFloat[-3.9388304075174251916990897370851598680019378662109375e-01,-3.938830407517425275669681849551631200200396028015842576283775419064675936935921e-01]   \n",
        " BigFloat[-2.82388345736991619450151347336941398680210113525390625e-01,-2.82388345736991635053404414943968645374529038987011911478722151532158677876523e-01]   \n",
        " BigFloat[-1.770376065848697777482811943627893924713134765625e-01,-1.770376065848697776957297586238155955960344786725393586420276236243091142639201e-01]       \n",
        " BigFloat[-7.53642387573940641942726870183832943439483642578125e-02,-7.536423875739405740654014205323665789342966267450384287846707728875924158656035e-02]     \n",
        " BigFloat[2.4783032802668282512659203575822175480425357818603515625e-02,2.478303280266828399558475367812279003581953620809344255643834864705704168137985e-02]  \n",
        " BigFloat[1.25429597808634663014260013369494117796421051025390625e-01,1.254295978086346752713449419694190227690667731512510034888413181175201804381646e-01]    \n",
        " BigFloat[2.286417115590265447533369069788022898137569427490234375e-01,2.286417115590265494481397996082861135847630781032837027186771822185895571753481e-01]   \n",
        " BigFloat[3.367005264328739588819416894693858921527862548828125e-01,3.367005264328739632531053148136284285292150355147869773539182989613174773929432e-01]      \n",
        " BigFloat[4.523156594418098475074430098175071179866790771484375e-01,4.523156594418098405903708757987855343087169256619843288072463344895615552649482e-01]      \n",
        " BigFloat[5.789235879335470347228920218185521662235260009765625e-01,5.78923587933546984732898158108897178663717910679415139154001882519790896242473e-01]       \n",
        " BigFloat[7.21146875575602752661552585777826607227325439453125e-01,7.21146875575602801284236770640251293242886971740940149379203572066932813097355e-01]        \n",
        " \u22ee                                                                                                                                                             \n",
        " BigFloat[-5.789235879335470347228920218185521662235260009765625e-01,-5.78923587933546984732898158108897178663717910679415139154001882519790896242473e-01]     \n",
        " BigFloat[-4.523156594418098475074430098175071179866790771484375e-01,-4.523156594418098405903708757987855343087169256619843288072463344895615552649482e-01]    \n",
        " BigFloat[-3.367005264328739588819416894693858921527862548828125e-01,-3.367005264328739632531053148136284285292150355147869773539182989613174773929432e-01]    \n",
        " BigFloat[-2.286417115590265447533369069788022898137569427490234375e-01,-2.286417115590265494481397996082861135847630781032837027186771822185895571753481e-01] \n",
        " BigFloat[-1.25429597808634663014260013369494117796421051025390625e-01,-1.254295978086346752713449419694190227690667731512510034888413181175201804381646e-01]  \n",
        " BigFloat[-2.4783032802668282512659203575822175480425357818603515625e-02,-2.478303280266828399558475367812279003581953620809344255643834864705704168137985e-02]\n",
        " BigFloat[7.53642387573940641942726870183832943439483642578125e-02,7.536423875739405740654014205323665789342966267450384287846707728875924158656035e-02]       \n",
        " BigFloat[1.770376065848697777482811943627893924713134765625e-01,1.770376065848697776957297586238155955960344786725393586420276236243091142639201e-01]         \n",
        " BigFloat[2.82388345736991619450151347336941398680210113525390625e-01,2.82388345736991635053404414943968645374529038987011911478722151532158677876523e-01]     \n",
        " BigFloat[3.9388304075174251916990897370851598680019378662109375e-01,3.938830407517425275669681849551631200200396028015842576283775419064675936935921e-01]     \n",
        " BigFloat[5.145529084769167038615478304564021527767181396484375e-01,5.145529084769166646497409031301577805988552438400786435859906212931521783447225e-01]      \n",
        " BigFloat[6.483608274590866304976088940748013556003570556640625e-01,6.483608274590866712591249330098086768168743429837249756336279673958556003739594e-01]      "
       ]
      }
     ],
     "prompt_number": 55
    },
    {
     "cell_type": "code",
     "collapsed": false,
     "input": [
      "Id8=[id8(x) for x in -10:0.1:10]"
     ],
     "language": "python",
     "metadata": {},
     "outputs": [
      {
       "metadata": {},
       "output_type": "pyout",
       "prompt_number": 56,
       "text": [
        "201-element Array{Array{T,1},1}:\n",
        " BigFloat[9.999999999999999999999999999999999999999999999999999999999999999999999999960101e-01,1e+00]\n",
        " BigFloat[9.999999999999999999999999999999999999999999999999999999999999999999999999900684e-01,1e+00]\n",
        " BigFloat[9.999999999999999999999999999999999999999999999999999999999999999999999999660599e-01,1e+00]\n",
        " BigFloat[9.99999999999999999999999999999999999999999999999999999999999999999999999955446e-01,1e+00] \n",
        " BigFloat[9.999999999999999999999999999999999999999999999999999999999999999999999999968046e-01,1e+00]\n",
        " BigFloat[1.000000000000000000000000000000000000000000000000000000000000000000000000001745e+00,1e+00]\n",
        " BigFloat[9.999999999999999999999999999999999999999999999999999999999999999999999999999395e-01,1e+00]\n",
        " BigFloat[9.999999999999999999999999999999999999999999999999999999999999999999999999919856e-01,1e+00]\n",
        " BigFloat[9.999999999999999999999999999999999999999999999999999999999999999999999999896021e-01,1e+00]\n",
        " BigFloat[9.99999999999999999999999999999999999999999999999999999999999999999999999992262e-01,1e+00] \n",
        " BigFloat[1.000000000000000000000000000000000000000000000000000000000000000000000000011832e+00,1e+00]\n",
        " BigFloat[9.999999999999999999999999999999999999999999999999999999999999999999999999889112e-01,1e+00]\n",
        " BigFloat[1.000000000000000000000000000000000000000000000000000000000000000000000000015752e+00,1e+00]\n",
        " \u22ee                                                                                                   \n",
        " BigFloat[9.999999999999999999999999999999999999999999999999999999999999999999999999889112e-01,1e+00]\n",
        " BigFloat[1.000000000000000000000000000000000000000000000000000000000000000000000000011832e+00,1e+00]\n",
        " BigFloat[9.99999999999999999999999999999999999999999999999999999999999999999999999992262e-01,1e+00] \n",
        " BigFloat[9.999999999999999999999999999999999999999999999999999999999999999999999999896021e-01,1e+00]\n",
        " BigFloat[9.999999999999999999999999999999999999999999999999999999999999999999999999919856e-01,1e+00]\n",
        " BigFloat[9.999999999999999999999999999999999999999999999999999999999999999999999999999395e-01,1e+00]\n",
        " BigFloat[1.000000000000000000000000000000000000000000000000000000000000000000000000001745e+00,1e+00]\n",
        " BigFloat[9.999999999999999999999999999999999999999999999999999999999999999999999999968046e-01,1e+00]\n",
        " BigFloat[9.99999999999999999999999999999999999999999999999999999999999999999999999955446e-01,1e+00] \n",
        " BigFloat[9.999999999999999999999999999999999999999999999999999999999999999999999999660599e-01,1e+00]\n",
        " BigFloat[9.999999999999999999999999999999999999999999999999999999999999999999999999900684e-01,1e+00]\n",
        " BigFloat[9.999999999999999999999999999999999999999999999999999999999999999999999999960101e-01,1e+00]"
       ]
      }
     ],
     "prompt_number": 56
    },
    {
     "cell_type": "markdown",
     "metadata": {},
     "source": [
      "Si uno se pone a ver con detenimiento estos arreglos, puede ver que (en los elementos mostrados), ambas entradas son iguales, por lo que se podr\u00eda comprobar la identidad. Sin embargo, para no cansar la vista y hacerlo m\u00e1s elegante, graficaremos la primera entrada contra la segunda. Si r es un elemento de estos arreglos, la primera entrada es r[1] y la segunda es r[2]. Graficamos simplemente el conjunto de los r[1] para r en Id1 contra el conjunto de los r[2] para r en Id1. Para comprobar que estas identidades se cumplen, todas nuestras gr\u00e1ficas deben dar una recta identidad. Sin embargo, antes de graficar debemos convertir los n\u00fameros a Float64, porque (aparentemente, despu\u00e9s de intentarlo) Julia no es capaz de graficar BigFloat (que es lo que entregan nuestras funciones)."
     ]
    },
    {
     "cell_type": "code",
     "collapsed": false,
     "input": [
      "using PyPlot"
     ],
     "language": "python",
     "metadata": {},
     "outputs": [
      {
       "output_type": "stream",
       "stream": "stderr",
       "text": [
        "INFO: Loading help data...\n"
       ]
      }
     ],
     "prompt_number": 57
    },
    {
     "cell_type": "code",
     "collapsed": false,
     "input": [
      "plot([convert(Float64,r[1]) for r in Id1],[convert(Float64,r[2]) for r in Id1], \"b.\", label=L\"$\\left(\\sin(-x),\\,-\\sin(x)\\right)$\")\n",
      "xlabel(L\"$\\sin(-x)$\")\n",
      "ylabel(L\"$-\\sin(x)$\")\n",
      "    title(L\"$\\sin(-x)=-\\sin(x)$\")\n",
      "   legend()"
     ],
     "language": "python",
     "metadata": {},
     "outputs": [
      {
       "metadata": {},
       "output_type": "display_data",
       "png": "[encoded data removed]",
       "text": [
        "Figure(PyObject <matplotlib.figure.Figure object at 0x7f0000ae6710>)"
       ]
      },
      {
       "metadata": {},
       "output_type": "pyout",
       "prompt_number": 58,
       "text": [
        "PyObject <matplotlib.legend.Legend object at 0x7f002382e890>"
       ]
      }
     ],
     "prompt_number": 58
    },
    {
     "cell_type": "code",
     "collapsed": false,
     "input": [
      "plot([convert(Float64,r[1]) for r in Id2],[convert(Float64,r[2]) for r in Id2], \"g.\", label=L\"$\\left(\\cos(-x),\\,\\cos(x)\\right)$\")\n",
      "xlabel(L\"$\\cos(-x)$\")\n",
      "ylabel(L\"$\\cos(x)$\")\n",
      "    title(L\"$\\cos(-x)=\\cos(x)$\")\n",
      "   legend()"
     ],
     "language": "python",
     "metadata": {},
     "outputs": [
      {
       "metadata": {},
       "output_type": "display_data",
       "png": "[encoded data removed]",
       "text": [
        "Figure(PyObject <matplotlib.figure.Figure object at 0x7f0000ae66d0>)"
       ]
      },
      {
       "metadata": {},
       "output_type": "pyout",
       "prompt_number": 59,
       "text": [
        "PyObject <matplotlib.legend.Legend object at 0x7efffa578bd0>"
       ]
      }
     ],
     "prompt_number": 59
    },
    {
     "cell_type": "code",
     "collapsed": false,
     "input": [
      "plot([convert(Float64,r[1]) for r in Id3],[convert(Float64,r[2]) for r in Id3], \"r.\", label=L\"$\\left(\\sin(x+2\\pi),\\,\\sin(x)\\right)$\")\n",
      "xlabel(L\"$\\sin(x+2\\pi)$\")\n",
      "ylabel(L\"$\\sin(x)$\")\n",
      "title(L\"$\\sin(x+2\\pi)=\\sin(x)$\")\n",
      "   legend()"
     ],
     "language": "python",
     "metadata": {},
     "outputs": [
      {
       "metadata": {},
       "output_type": "display_data",
       "png": "[encoded data removed]",
       "text": [
        "Figure(PyObject <matplotlib.figure.Figure object at 0x7efffa5ef510>)"
       ]
      },
      {
       "metadata": {},
       "output_type": "pyout",
       "prompt_number": 60,
       "text": [
        "PyObject <matplotlib.legend.Legend object at 0x7efffa45aa90>"
       ]
      }
     ],
     "prompt_number": 60
    },
    {
     "cell_type": "code",
     "collapsed": false,
     "input": [
      "plot([convert(Float64,r[1]) for r in Id4],[convert(Float64,r[2]) for r in Id4], \"c.\", label=L\"$\\left(\\cos(x+2\\pi),\\,\\cos(x)\\right)$\")\n",
      "xlabel(L\"$\\cos(x+2\\pi)$\")\n",
      "ylabel(L\"$\\cos(x)$\")\n",
      "title(L\"$\\cos(x+2\\pi)=\\cos(x)$\")\n",
      "   legend()"
     ],
     "language": "python",
     "metadata": {},
     "outputs": [
      {
       "metadata": {},
       "output_type": "display_data",
       "png": "[encoded data removed]",
       "text": [
        "Figure(PyObject <matplotlib.figure.Figure object at 0x7f0020f39890>)"
       ]
      },
      {
       "metadata": {},
       "output_type": "pyout",
       "prompt_number": 61,
       "text": [
        "PyObject <matplotlib.legend.Legend object at 0x7efffa3ccd10>"
       ]
      }
     ],
     "prompt_number": 61
    },
    {
     "cell_type": "code",
     "collapsed": false,
     "input": [
      "plot([convert(Float64,r[1]) for r in Id5],[convert(Float64,r[2]) for r in Id5], \"m.\", label=L\"$\\left(\\sin\\left(\\frac{\\pi}{2}-x\\right),\\,\\cos(x)\\right)$\")\n",
      "xlabel(L\"$\\sin\\left(\\frac{\\pi}{2}-x\\right)$\")\n",
      "ylabel(L\"$\\cos(x)$\")\n",
      "title(L\"$\\sin\\left(\\frac{\\pi}{2}-x\\right)=\\cos(x)$\")\n",
      "   legend()"
     ],
     "language": "python",
     "metadata": {},
     "outputs": [
      {
       "metadata": {},
       "output_type": "display_data",
       "png": "[encoded data removed]",
       "text": [
        "Figure(PyObject <matplotlib.figure.Figure object at 0x7efffa47ff10>)"
       ]
      },
      {
       "metadata": {},
       "output_type": "pyout",
       "prompt_number": 62,
       "text": [
        "PyObject <matplotlib.legend.Legend object at 0x7efffa2c4d90>"
       ]
      }
     ],
     "prompt_number": 62
    },
    {
     "cell_type": "code",
     "collapsed": false,
     "input": [
      "plot([convert(Float64,r[1]) for r in Id6],[convert(Float64,r[2]) for r in Id6], \"y.\", label=L\"$\\left(\\cos\\left(\\frac{\\pi}{2}-x\\right),\\,\\sin(x)\\right)$\")\n",
      "xlabel(L\"$\\cos\\left(\\frac{\\pi}{2}-x\\right)$\")\n",
      "ylabel(L\"$\\sin(x)$\")\n",
      "title(L\"$\\cos\\left(\\frac{\\pi}{2}-x\\right)=\\sin(x)$\")\n",
      "   legend()"
     ],
     "language": "python",
     "metadata": {},
     "outputs": [
      {
       "metadata": {},
       "output_type": "display_data",
       "png": "[encoded data removed]",
       "text": [
        "Figure(PyObject <matplotlib.figure.Figure object at 0x7efffa38a490>)"
       ]
      },
      {
       "metadata": {},
       "output_type": "pyout",
       "prompt_number": 63,
       "text": [
        "PyObject <matplotlib.legend.Legend object at 0x7efffa1f0090>"
       ]
      }
     ],
     "prompt_number": 63
    },
    {
     "cell_type": "code",
     "collapsed": false,
     "input": [
      "plot([convert(Float64,r[1]) for r in Id7],[convert(Float64,r[2]) for r in Id7], \"k.\", label=L\"$\\left(\\tan(x),\\,\\frac{\\sin(x)}{\\cos(x)}\\right)$\")\n",
      "xlabel(L\"$\\tan(x)$\")\n",
      "ylabel(L\"$\\frac{\\sin(x)}{\\cos(x)}$\")\n",
      "title(L\"$\\tan(x)=\\frac{\\sin(x)}{\\cos(x)}$\")\n",
      "   legend()"
     ],
     "language": "python",
     "metadata": {},
     "outputs": [
      {
       "metadata": {},
       "output_type": "display_data",
       "png": "[encoded data removed]",
       "text": [
        "Figure(PyObject <matplotlib.figure.Figure object at 0x7efffa3e5490>)"
       ]
      },
      {
       "metadata": {},
       "output_type": "pyout",
       "prompt_number": 64,
       "text": [
        "PyObject <matplotlib.legend.Legend object at 0x7efffa1193d0>"
       ]
      }
     ],
     "prompt_number": 64
    },
    {
     "cell_type": "code",
     "collapsed": false,
     "input": [
      "plot([convert(Float64,r[1]) for r in Id8],[convert(Float64,r[2]) for r in Id8], \"b.\", label=L\"$\\left(\\cos^{2}(x)+\\sin^{2}(x),\\,1\\right)$\")\n",
      "xlabel(L\"$\\cos^{2}(x)+\\sin^{2}(x)$\")\n",
      "ylabel(L\"$1$\")\n",
      "title(L\"$\\cos^{2}(x)+\\sin^{2}(x)=1$\")\n",
      "   legend()"
     ],
     "language": "python",
     "metadata": {},
     "outputs": [
      {
       "metadata": {},
       "output_type": "display_data",
       "png": "[encoded data removed]",
       "text": [
        "Figure(PyObject <matplotlib.figure.Figure object at 0x7efffa372a10>)"
       ]
      },
      {
       "metadata": {},
       "output_type": "pyout",
       "prompt_number": 65,
       "text": [
        "PyObject <matplotlib.legend.Legend object at 0x7efffa0c06d0>"
       ]
      }
     ],
     "prompt_number": 65
    },
    {
     "cell_type": "code",
     "collapsed": false,
     "input": [
      "[convert(Float64,r[1]) for r in Id8]"
     ],
     "language": "python",
     "metadata": {},
     "outputs": [
      {
       "metadata": {},
       "output_type": "pyout",
       "prompt_number": 66,
       "text": [
        "201-element Array{Any,1}:\n",
        " 1.0\n",
        " 1.0\n",
        " 1.0\n",
        " 1.0\n",
        " 1.0\n",
        " 1.0\n",
        " 1.0\n",
        " 1.0\n",
        " 1.0\n",
        " 1.0\n",
        " 1.0\n",
        " 1.0\n",
        " 1.0\n",
        " \u22ee  \n",
        " 1.0\n",
        " 1.0\n",
        " 1.0\n",
        " 1.0\n",
        " 1.0\n",
        " 1.0\n",
        " 1.0\n",
        " 1.0\n",
        " 1.0\n",
        " 1.0\n",
        " 1.0\n",
        " 1.0"
       ]
      }
     ],
     "prompt_number": 66
    },
    {
     "cell_type": "markdown",
     "metadata": {},
     "source": [
      "Vemos que todas nuestras gr\u00e1ficas nos dan la recta identidad, lo que significa que en todo momento los puntos graficados en el eje horizontal (el lado izquierdo de la relaci\u00f3n respectiva a verificar) eran iguales a los graficados en el eje vertical (el lado derecho de dicha relaci\u00f3n), excepto en el \u00faltimo caso que es s\u00f3lo el punto $(1,\\,1)$ (ya que el lado derecho de esa relaci\u00f3n es constante)."
     ]
    },
    {
     "cell_type": "markdown",
     "metadata": {},
     "source": [
      "De esta forma, pudimos aplicar todo lo visto en clase (desde arreglos hasta gr\u00e1ficas) para verificar que nuestras funciones cumplen estas relaciones trigonom\u00e9tricas. (A pesar de que fue algo extensa la demostraci\u00f3n, vali\u00f3 la pena hacerla para practicar el uso de estos conocimientos de Julia)."
     ]
    }
   ],
   "metadata": {}
  }
 ]
}