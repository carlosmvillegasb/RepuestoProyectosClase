{
 "metadata": {
  "language": "Julia",
  "name": "",
  "signature": "sha256:f8acbe61a827748eda63dd0f1ec0352ac1600a126f09cfe568a03e021b165753"
 },
 "nbformat": 3,
 "nbformat_minor": 0,
 "worksheets": [
  {
   "cells": [
    {
     "cell_type": "heading",
     "level": 1,
     "metadata": {},
     "source": [
      "Tiro parab\u00f3lico"
     ]
    },
    {
     "cell_type": "code",
     "collapsed": false,
     "input": [
      "using PyCall\n",
      "pygui(:gtk)\n",
      "using PyPlot"
     ],
     "language": "python",
     "metadata": {},
     "outputs": [
      {
       "output_type": "stream",
       "stream": "stderr",
       "text": [
        "INFO: Loading help data...\n"
       ]
      }
     ],
     "prompt_number": 1
    },
    {
     "cell_type": "markdown",
     "metadata": {},
     "source": [
      "Consideramos un tiro parab\u00f3lico de una part\u00edcula con posici\u00f3n inicial $(x_{0},\\,y_{0})$ y velocidad inicial $(u,\\,v)$. Entonces, su posici\u00f3n $(x(t),\\,y(t))$ al tiempo $t$ est\u00e1 dada por"
     ]
    },
    {
     "cell_type": "markdown",
     "metadata": {},
     "source": [
      "$$x(t)=x_{0}+ut$$\n",
      "$$y(t)=y_{0}+vt-\\frac{gt^{2}}{2}$$"
     ]
    },
    {
     "cell_type": "code",
     "collapsed": false,
     "input": [
      "const g=9.81"
     ],
     "language": "python",
     "metadata": {},
     "outputs": [
      {
       "metadata": {},
       "output_type": "pyout",
       "prompt_number": 7,
       "text": [
        "9.81"
       ]
      }
     ],
     "prompt_number": 7
    },
    {
     "cell_type": "code",
     "collapsed": false,
     "input": [
      "x(x0,u,t)=x0+u*t"
     ],
     "language": "python",
     "metadata": {},
     "outputs": [
      {
       "metadata": {},
       "output_type": "pyout",
       "prompt_number": 8,
       "text": [
        "x (generic function with 1 method)"
       ]
      }
     ],
     "prompt_number": 8
    },
    {
     "cell_type": "code",
     "collapsed": false,
     "input": [
      "function y(y0,v,t)\n",
      "y0+v*t-0.5*g*t^2\n",
      "end"
     ],
     "language": "python",
     "metadata": {},
     "outputs": [
      {
       "metadata": {},
       "output_type": "pyout",
       "prompt_number": 121,
       "text": [
        "y (generic function with 1 method)"
       ]
      }
     ],
     "prompt_number": 121
    },
    {
     "cell_type": "code",
     "collapsed": false,
     "input": [
      "function tiro_parabolico(x0,y0,u,v,delta_t,t_final)\n",
      "    ts=[0:delta_t:t_final]\n",
      "    xs=[x(x0,u,t) for t in ts]\n",
      "    ys=[y(x0,v,t) for t in ts]\n",
      "    xs=xs[ys.>0]\n",
      "    ys=ys[ys.>0]\n",
      "    return ts,xs,ys\n",
      "end"
     ],
     "language": "python",
     "metadata": {},
     "outputs": [
      {
       "metadata": {},
       "output_type": "pyout",
       "prompt_number": 161,
       "text": [
        "tiro_parabolico (generic function with 2 methods)"
       ]
      }
     ],
     "prompt_number": 161
    },
    {
     "cell_type": "code",
     "collapsed": false,
     "input": [
      "tiro_parabolico(0,0,1,1,0.01,10)"
     ],
     "language": "python",
     "metadata": {},
     "outputs": [
      {
       "metadata": {},
       "output_type": "pyout",
       "prompt_number": 162,
       "text": [
        "([0.0,0.01,0.02,0.03,0.04,0.05,0.06,0.07,0.08,0.09  \u2026  9.91,9.92,9.93,9.94,9.95,9.96,9.97,9.98,9.99,10.0],[0.01,0.02,0.03,0.04,0.05,0.06,0.07,0.08,0.09,0.1,0.11,0.12,0.13,0.14,0.15,0.16,0.17,0.18,0.19,0.2],[0.0095095,0.018038,0.0255855,0.032152,0.0377375,0.042342,0.0459655,0.048608,0.0502695,0.05095,0.0506495,0.049368,0.0471055,0.043862,0.0396375,0.034432,0.0282455,0.021078,0.0129295,0.0038])"
       ]
      }
     ],
     "prompt_number": 162
    },
    {
     "cell_type": "code",
     "collapsed": false,
     "input": [
      "typeof(ans)"
     ],
     "language": "python",
     "metadata": {},
     "outputs": [
      {
       "metadata": {},
       "output_type": "pyout",
       "prompt_number": 163,
       "text": [
        "(Array{Float64,1},Array{Float64,1},Array{Float64,1})"
       ]
      }
     ],
     "prompt_number": 163
    },
    {
     "cell_type": "code",
     "collapsed": false,
     "input": [
      "delta_t=0.01;\n",
      "t_final=5;"
     ],
     "language": "python",
     "metadata": {},
     "outputs": [],
     "prompt_number": 164
    },
    {
     "cell_type": "code",
     "collapsed": false,
     "input": [
      "ts,xs,ys=tiro_parabolico(0,0,1,10,delta_t,t_final);\n",
      "plot(xs,ys)"
     ],
     "language": "python",
     "metadata": {},
     "outputs": [
      {
       "metadata": {},
       "output_type": "display_data",
       "png": "[encoded data removed]",
       "text": [
        "Figure(PyObject <matplotlib.figure.Figure object at 0x12e97190>)"
       ]
      },
      {
       "metadata": {},
       "output_type": "pyout",
       "prompt_number": 165,
       "text": [
        "1-element Array{Any,1}:\n",
        " PyObject <matplotlib.lines.Line2D object at 0x8cdf210>"
       ]
      }
     ],
     "prompt_number": 165
    },
    {
     "cell_type": "code",
     "collapsed": false,
     "input": [
      "function tiro_parabolico(theta)\n",
      "    rapidez=40\n",
      "    x0=0\n",
      "    y0=0\n",
      "    vx=rapidez*cos(theta)\n",
      "    vy=rapidez*sin(theta)\n",
      "    return tiro_parabolico(x0,y0,vx,vy,0.01,8)\n",
      "end"
     ],
     "language": "python",
     "metadata": {},
     "outputs": [
      {
       "metadata": {},
       "output_type": "pyout",
       "prompt_number": 166,
       "text": [
        "tiro_parabolico (generic function with 2 methods)"
       ]
      }
     ],
     "prompt_number": 166
    },
    {
     "cell_type": "code",
     "collapsed": false,
     "input": [
      "tiro_parabolico(pi/6)"
     ],
     "language": "python",
     "metadata": {},
     "outputs": [
      {
       "metadata": {},
       "output_type": "pyout",
       "prompt_number": 167,
       "text": [
        "([0.0,0.01,0.02,0.03,0.04,0.05,0.06,0.07,0.08,0.09  \u2026  7.91,7.92,7.93,7.94,7.95,7.96,7.97,7.98,7.99,8.0],[0.34641,0.69282,1.03923,1.38564,1.73205,2.07846,2.42487,2.77128,3.11769,3.4641  \u2026  137.871,138.218,138.564,138.91,139.257,139.603,139.95,140.296,140.643,140.989],[0.199509,0.398038,0.595585,0.792152,0.987737,1.18234,1.37597,1.56861,1.76027,1.95095  \u2026  1.90284,1.71191,1.52,1.32711,1.13324,0.938385,0.742552,0.545737,0.347942,0.149165])"
       ]
      }
     ],
     "prompt_number": 167
    },
    {
     "cell_type": "code",
     "collapsed": false,
     "input": [
      "function graficar_tirop(theta)\n",
      "    ts,xs,ys=tiro_parabolico(theta)\n",
      "    mulpi=convert(Rational,round(theta/pi,3))\n",
      "    return plot(xs,ys,label=\"($(mulpi))\u03c0\")\n",
      "end "
     ],
     "language": "python",
     "metadata": {},
     "outputs": [
      {
       "metadata": {},
       "output_type": "pyout",
       "prompt_number": 168,
       "text": [
        "graficar_tirop (generic function with 1 method)"
       ]
      }
     ],
     "prompt_number": 168
    },
    {
     "cell_type": "code",
     "collapsed": false,
     "input": [
      "graficar_tirop(pi/4)"
     ],
     "language": "python",
     "metadata": {},
     "outputs": [
      {
       "metadata": {},
       "output_type": "display_data",
       "png": "[encoded data removed]",
       "text": [
        "Figure(PyObject <matplotlib.figure.Figure object at 0x8cc7050>)"
       ]
      },
      {
       "metadata": {},
       "output_type": "pyout",
       "prompt_number": 169,
       "text": [
        "1-element Array{Any,1}:\n",
        " PyObject <matplotlib.lines.Line2D object at 0xf097490>"
       ]
      }
     ],
     "prompt_number": 169
    },
    {
     "cell_type": "code",
     "collapsed": false,
     "input": [
      "figure(figsize=(5,4))\n",
      "[graficar_tirop((pi/4)*(n/5)) for n in 1:10]\n",
      "xlabel(L\"$x(t)$\")\n",
      "ylabel(L\"$y(t)$\")\n",
      "legend()"
     ],
     "language": "python",
     "metadata": {},
     "outputs": [
      {
       "metadata": {},
       "output_type": "display_data",
       "png": "[encoded data removed]",
       "text": [
        "Figure(PyObject <matplotlib.figure.Figure object at 0xb24b090>)"
       ]
      },
      {
       "metadata": {},
       "output_type": "pyout",
       "prompt_number": 170,
       "text": [
        "PyObject <matplotlib.legend.Legend object at 0x8dce310>"
       ]
      }
     ],
     "prompt_number": 170
    },
    {
     "cell_type": "heading",
     "level": 2,
     "metadata": {},
     "source": [
      "Encontrar raices"
     ]
    },
    {
     "cell_type": "code",
     "collapsed": false,
     "input": [
      "function raiz(y,adivinanza)\n",
      "    x0=adivinanza\n",
      "    nx(x0)=0.5*(x0+(y/x0))\n",
      "    x1=nx(x0)\n",
      "    if abs(x1^2-y)<=0.00000000001\n",
      "        x1\n",
      "    else \n",
      "        raiz(y,x1)\n",
      "    end\n",
      "end"
     ],
     "language": "python",
     "metadata": {},
     "outputs": [
      {
       "metadata": {},
       "output_type": "pyout",
       "prompt_number": 6,
       "text": [
        "raiz (generic function with 1 method)"
       ]
      }
     ],
     "prompt_number": 6
    },
    {
     "cell_type": "code",
     "collapsed": false,
     "input": [
      "raiz(2,1)"
     ],
     "language": "python",
     "metadata": {},
     "outputs": [
      {
       "metadata": {},
       "output_type": "pyout",
       "prompt_number": 7,
       "text": [
        "1.4142135623746899"
       ]
      }
     ],
     "prompt_number": 7
    },
    {
     "cell_type": "code",
     "collapsed": false,
     "input": [
      "raiz(x)=raiz(x,x/2)"
     ],
     "language": "python",
     "metadata": {},
     "outputs": [
      {
       "metadata": {},
       "output_type": "pyout",
       "prompt_number": 8,
       "text": [
        "raiz (generic function with 2 methods)"
       ]
      }
     ],
     "prompt_number": 8
    },
    {
     "cell_type": "code",
     "collapsed": false,
     "input": [
      "raiz(2)"
     ],
     "language": "python",
     "metadata": {},
     "outputs": [
      {
       "metadata": {},
       "output_type": "pyout",
       "prompt_number": 9,
       "text": [
        "1.4142135623746899"
       ]
      }
     ],
     "prompt_number": 9
    },
    {
     "cell_type": "code",
     "collapsed": false,
     "input": [
      "raiz(10)"
     ],
     "language": "python",
     "metadata": {},
     "outputs": [
      {
       "metadata": {},
       "output_type": "pyout",
       "prompt_number": 10,
       "text": [
        "3.162277660168379"
       ]
      }
     ],
     "prompt_number": 10
    },
    {
     "cell_type": "code",
     "collapsed": false,
     "input": [
      "raiz(25)"
     ],
     "language": "python",
     "metadata": {},
     "outputs": [
      {
       "metadata": {},
       "output_type": "pyout",
       "prompt_number": 11,
       "text": [
        "5.0"
       ]
      }
     ],
     "prompt_number": 11
    },
    {
     "cell_type": "code",
     "collapsed": false,
     "input": [
      "10244"
     ],
     "language": "python",
     "metadata": {},
     "outputs": [
      {
       "metadata": {},
       "output_type": "pyout",
       "prompt_number": 12,
       "text": [
        "10244"
       ]
      }
     ],
     "prompt_number": 12
    },
    {
     "cell_type": "code",
     "collapsed": false,
     "input": [
      "function biseccion(f::Function,a::Real,b::Real)\n",
      "    if a>=b\n",
      "        error(\"no es un intervalo val\u00eddo\")\n",
      "        elseif f(a)*f(b)>0\n",
      "        error(\"no hay raices\")\n",
      "        elseif f(a)*f(b)<0\n",
      "            c=(a+b)/2\n",
      "            if abs(f(c))<=0.00000000001\n",
      "            c\n",
      "            elseif f(b)*f(c)<0\n",
      "            biseccion(f,c,b)\n",
      "            elseif f(a)*f(c)<0\n",
      "            biseccion(f,a,c)\n",
      "            else\n",
      "            error(\"que pedo?\")\n",
      "            end\n",
      "        elseif f(a)==0 \n",
      "        a\n",
      "        elseif f(b)==0\n",
      "        b\n",
      "    else \n",
      "        error(\"que pedo?\")\n",
      "    end\n",
      "end"
     ],
     "language": "python",
     "metadata": {},
     "outputs": [
      {
       "metadata": {},
       "output_type": "pyout",
       "prompt_number": 109,
       "text": [
        "biseccion (generic function with 1 method)"
       ]
      }
     ],
     "prompt_number": 109
    },
    {
     "cell_type": "code",
     "collapsed": false,
     "input": [
      "f(x)=tan(x)-x"
     ],
     "language": "python",
     "metadata": {},
     "outputs": [
      {
       "metadata": {},
       "output_type": "pyout",
       "prompt_number": 110,
       "text": [
        "f (generic function with 1 method)"
       ]
      }
     ],
     "prompt_number": 110
    },
    {
     "cell_type": "code",
     "collapsed": false,
     "input": [
      "biseccion(f,4.4,4.5)"
     ],
     "language": "python",
     "metadata": {},
     "outputs": [
      {
       "metadata": {},
       "output_type": "pyout",
       "prompt_number": 111,
       "text": [
        "4.493409457909003"
       ]
      }
     ],
     "prompt_number": 111
    },
    {
     "cell_type": "code",
     "collapsed": false,
     "input": [
      "f(4.493409457907547)"
     ],
     "language": "python",
     "metadata": {},
     "outputs": [
      {
       "metadata": {},
       "output_type": "pyout",
       "prompt_number": 101,
       "text": [
        "-3.062883280335882e-11"
       ]
      }
     ],
     "prompt_number": 101
    },
    {
     "cell_type": "code",
     "collapsed": false,
     "input": [
      "figure(figsize=(5,4))\n",
      "plot([1:0.0001:5],[x for x in 1:0.0001:5],\"g-\")\n",
      "plot([1:0.0001:5],[tan(x) for x in 1:0.0001:5],\"r-\")\n",
      "axis([4.2,4.5,0,5])"
     ],
     "language": "python",
     "metadata": {},
     "outputs": [
      {
       "metadata": {},
       "output_type": "display_data",
       "png": "[encoded data removed]",
       "text": [
        "Figure(PyObject <matplotlib.figure.Figure object at 0xea52150>)"
       ]
      },
      {
       "metadata": {},
       "output_type": "pyout",
       "prompt_number": 102,
       "text": [
        "4-element Array{Float64,1}:\n",
        " 4.2\n",
        " 4.5\n",
        " 0.0\n",
        " 5.0"
       ]
      }
     ],
     "prompt_number": 102
    },
    {
     "cell_type": "code",
     "collapsed": false,
     "input": [
      "figure(figsize=(5,4))\n",
      "plot([-5:0.0001:5],[f(x) for x in -5:0.0001:5],\"b-\")\n",
      "axis([-5,5,-10,10])"
     ],
     "language": "python",
     "metadata": {},
     "outputs": [
      {
       "metadata": {},
       "output_type": "display_data",
       "png": "[encoded data removed]",
       "text": [
        "Figure(PyObject <matplotlib.figure.Figure object at 0xf728510>)"
       ]
      },
      {
       "metadata": {},
       "output_type": "pyout",
       "prompt_number": 103,
       "text": [
        "4-element Array{Int64,1}:\n",
        "  -5\n",
        "   5\n",
        " -10\n",
        "  10"
       ]
      }
     ],
     "prompt_number": 103
    },
    {
     "cell_type": "code",
     "collapsed": false,
     "input": [
      "x = [3, 4, 7]\n",
      "for i in x\n",
      "    println(i)\n",
      "end"
     ],
     "language": "python",
     "metadata": {},
     "outputs": [
      {
       "output_type": "stream",
       "stream": "stdout",
       "text": [
        "3\n"
       ]
      },
      {
       "output_type": "stream",
       "stream": "stdout",
       "text": [
        "4\n",
        "7\n"
       ]
      }
     ],
     "prompt_number": 104
    },
    {
     "cell_type": "code",
     "collapsed": false,
     "input": [
      "function suma_num(N::Int)\n",
      "    i=0\n",
      "    for n in 1:N\n",
      "        i=i+n\n",
      "    end\n",
      "    return i\n",
      "end"
     ],
     "language": "python",
     "metadata": {},
     "outputs": [
      {
       "metadata": {},
       "output_type": "pyout",
       "prompt_number": 105,
       "text": [
        "suma_num (generic function with 1 method)"
       ]
      }
     ],
     "prompt_number": 105
    },
    {
     "cell_type": "code",
     "collapsed": false,
     "input": [
      "suma_num(100)"
     ],
     "language": "python",
     "metadata": {},
     "outputs": [
      {
       "metadata": {},
       "output_type": "pyout",
       "prompt_number": 106,
       "text": [
        "5050"
       ]
      }
     ],
     "prompt_number": 106
    },
    {
     "cell_type": "code",
     "collapsed": false,
     "input": [
      "function suma_cuad(N::Int)\n",
      "    i=0\n",
      "    for n in 1:N\n",
      "        i=i+n^2\n",
      "    end\n",
      "    return i\n",
      "end"
     ],
     "language": "python",
     "metadata": {},
     "outputs": [
      {
       "metadata": {},
       "output_type": "pyout",
       "prompt_number": 107,
       "text": [
        "suma_cuad (generic function with 1 method)"
       ]
      }
     ],
     "prompt_number": 107
    },
    {
     "cell_type": "code",
     "collapsed": false,
     "input": [
      "suma_cuad(100)"
     ],
     "language": "python",
     "metadata": {},
     "outputs": [
      {
       "metadata": {},
       "output_type": "pyout",
       "prompt_number": 55,
       "text": [
        "338350"
       ]
      }
     ],
     "prompt_number": 55
    },
    {
     "cell_type": "code",
     "collapsed": false,
     "input": [
      "function divisibles(N::Int)\n",
      "    i=0\n",
      "    for n in 1:N\n",
      "        if (n%2)==0||(n%3)==0||(n%5)==0\n",
      "            i=i+1\n",
      "        else\n",
      "            i=i\n",
      "        end\n",
      "    end\n",
      "    return i\n",
      "end"
     ],
     "language": "python",
     "metadata": {},
     "outputs": [
      {
       "metadata": {},
       "output_type": "pyout",
       "prompt_number": 56,
       "text": [
        "divisibles (generic function with 1 method)"
       ]
      }
     ],
     "prompt_number": 56
    },
    {
     "cell_type": "code",
     "collapsed": false,
     "input": [
      "divisibles(42196157)"
     ],
     "language": "python",
     "metadata": {},
     "outputs": [
      {
       "metadata": {},
       "output_type": "pyout",
       "prompt_number": 97,
       "text": [
        "30943848"
       ]
      }
     ],
     "prompt_number": 97
    },
    {
     "cell_type": "code",
     "collapsed": false,
     "input": [
      "function biseccion_for(f::Function,a::Real,b::Real)\n",
      "        if a>=b\n",
      "        error(\"no es un intervalo val\u00eddo\")\n",
      "        elseif f(a)*f(b)>0\n",
      "        error(\"no hay raices\")\n",
      "        elseif abs(f(a))<=0.00000000001\n",
      "        r=a\n",
      "        elseif abs(f(b))<=0.00000000001\n",
      "        r=b\n",
      "        elseif f(a)*f(b)<0\n",
      "        for n in 1:1000\n",
      "            c=(a+b)/2\n",
      "            if abs(f(c))<=0.00000000001\n",
      "            r=c\n",
      "            elseif f(b)*f(c)<0\n",
      "            a=c    \n",
      "            elseif f(a)*f(c)<0\n",
      "            b=c\n",
      "            else\n",
      "            error(\"que pedo?\")\n",
      "            end\n",
      "            r=c\n",
      "        end\n",
      "    else \n",
      "        error(\"que pedo?\")\n",
      "    end\n",
      "    return r\n",
      "end"
     ],
     "language": "python",
     "metadata": {},
     "outputs": [
      {
       "metadata": {},
       "output_type": "pyout",
       "prompt_number": 113,
       "text": [
        "biseccion_for (generic function with 1 method)"
       ]
      }
     ],
     "prompt_number": 113
    },
    {
     "cell_type": "code",
     "collapsed": false,
     "input": [
      "biseccion_for(x->-sin(x),3,3.2)"
     ],
     "language": "python",
     "metadata": {},
     "outputs": [
      {
       "metadata": {},
       "output_type": "pyout",
       "prompt_number": 117,
       "text": [
        "3.141592653584667"
       ]
      }
     ],
     "prompt_number": 117
    },
    {
     "cell_type": "code",
     "collapsed": false,
     "input": [
      "i=0\n",
      "while i<10\n",
      "    println(i)\n",
      "    i=i+1\n",
      "end"
     ],
     "language": "python",
     "metadata": {},
     "outputs": [
      {
       "output_type": "stream",
       "stream": "stdout",
       "text": [
        "0\n"
       ]
      },
      {
       "output_type": "stream",
       "stream": "stdout",
       "text": [
        "1\n",
        "2\n",
        "3\n",
        "4\n",
        "5\n",
        "6\n",
        "7\n",
        "8\n",
        "9\n"
       ]
      }
     ],
     "prompt_number": 115
    },
    {
     "cell_type": "code",
     "collapsed": false,
     "input": [
      "function biseccion_while(f::Function,a::Real,b::Real)\n",
      "        if a>=b\n",
      "        error(\"no es un intervalo val\u00eddo\")\n",
      "        elseif f(a)*f(b)>0\n",
      "        error(\"no hay raices\")\n",
      "        elseif abs(f(a))<=0.00000000001\n",
      "        r=a\n",
      "        elseif abs(f(b))<=0.00000000001\n",
      "        r=b\n",
      "        elseif f(a)*f(b)<0\n",
      "        while abs(a-b)>0.00000000001\n",
      "            c=(a+b)/2\n",
      "            if abs(f(c))<=0.00000000001\n",
      "            r=c\n",
      "            elseif f(b)*f(c)<0\n",
      "            a=c    \n",
      "            elseif f(a)*f(c)<0\n",
      "            b=c\n",
      "            else\n",
      "            error(\"que pedo?\")\n",
      "            end\n",
      "            r=c\n",
      "        end\n",
      "    else \n",
      "        error(\"que pedo?\")\n",
      "    end\n",
      "    return r\n",
      "end"
     ],
     "language": "python",
     "metadata": {},
     "outputs": [
      {
       "metadata": {},
       "output_type": "pyout",
       "prompt_number": 1,
       "text": [
        "biseccion_while (generic function with 1 method)"
       ]
      }
     ],
     "prompt_number": 1
    },
    {
     "cell_type": "code",
     "collapsed": false,
     "input": [
      "biseccion_while(f,4.4,4.5)"
     ],
     "language": "python",
     "metadata": {},
     "outputs": [
      {
       "ename": "LoadError",
       "evalue": "f not defined\nwhile loading In[2], in expression starting on line 1",
       "output_type": "pyerr",
       "traceback": [
        "f not defined\nwhile loading In[2], in expression starting on line 1"
       ]
      }
     ],
     "prompt_number": 2
    },
    {
     "cell_type": "code",
     "collapsed": false,
     "input": [
      "biseccion_for(f,4.4,4.5)"
     ],
     "language": "python",
     "metadata": {},
     "outputs": [
      {
       "metadata": {},
       "output_type": "pyout",
       "prompt_number": 132,
       "text": [
        "4.493409457909003"
       ]
      }
     ],
     "prompt_number": 132
    },
    {
     "cell_type": "code",
     "collapsed": false,
     "input": [
      "biseccion(f,4.4,4.5)"
     ],
     "language": "python",
     "metadata": {},
     "outputs": [
      {
       "metadata": {},
       "output_type": "pyout",
       "prompt_number": 133,
       "text": [
        "4.493409457909003"
       ]
      }
     ],
     "prompt_number": 133
    },
    {
     "cell_type": "code",
     "collapsed": false,
     "input": [
      "f(4.493409457910458)"
     ],
     "language": "python",
     "metadata": {},
     "outputs": [
      {
       "metadata": {},
       "output_type": "pyout",
       "prompt_number": 134,
       "text": [
        "2.8137492336099967e-11"
       ]
      }
     ],
     "prompt_number": 134
    },
    {
     "cell_type": "code",
     "collapsed": false,
     "input": [
      "f(4.493409457909003)"
     ],
     "language": "python",
     "metadata": {},
     "outputs": [
      {
       "metadata": {},
       "output_type": "pyout",
       "prompt_number": 135,
       "text": [
        "-1.2363443602225743e-12"
       ]
      }
     ],
     "prompt_number": 135
    },
    {
     "cell_type": "code",
     "collapsed": false,
     "input": [
      "biseccion_while(x->sin(x),3,4)"
     ],
     "language": "python",
     "metadata": {},
     "outputs": []
    },
    {
     "cell_type": "code",
     "collapsed": false,
     "input": [
      "biseccion_for(x->sin(x),3,4)"
     ],
     "language": "python",
     "metadata": {},
     "outputs": []
    },
    {
     "cell_type": "code",
     "collapsed": false,
     "input": [
      "biseccion(x->sin(x),3,4)"
     ],
     "language": "python",
     "metadata": {},
     "outputs": []
    },
    {
     "cell_type": "code",
     "collapsed": false,
     "input": [
      "pi"
     ],
     "language": "python",
     "metadata": {},
     "outputs": []
    },
    {
     "cell_type": "code",
     "collapsed": false,
     "input": [
      "rand(1)[1]"
     ],
     "language": "python",
     "metadata": {},
     "outputs": [
      {
       "metadata": {},
       "output_type": "pyout",
       "prompt_number": 10,
       "text": [
        "0.32163615911028964"
       ]
      }
     ],
     "prompt_number": 10
    },
    {
     "cell_type": "code",
     "collapsed": false,
     "input": [],
     "language": "python",
     "metadata": {},
     "outputs": [],
     "prompt_number": 6
    },
    {
     "cell_type": "code",
     "collapsed": false,
     "input": [],
     "language": "python",
     "metadata": {},
     "outputs": []
    }
   ],
   "metadata": {}
  }
 ]
}