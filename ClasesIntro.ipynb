{
 "metadata": {
  "language": "Julia",
  "name": "",
  "signature": "sha256:94558fb8f58474779c024c551ebe6dd78b20c377461c6c5985bebf10525e25de"
 },
 "nbformat": 3,
 "nbformat_minor": 0,
 "worksheets": [
  {
   "cells": [
    {
     "cell_type": "code",
     "collapsed": false,
     "input": [
      "a=3"
     ],
     "language": "python",
     "metadata": {},
     "outputs": [
      {
       "metadata": {},
       "output_type": "pyout",
       "prompt_number": 1,
       "text": [
        "3"
       ]
      }
     ],
     "prompt_number": 1
    },
    {
     "cell_type": "code",
     "collapsed": false,
     "input": [
      "a<3"
     ],
     "language": "python",
     "metadata": {},
     "outputs": [
      {
       "metadata": {},
       "output_type": "pyout",
       "prompt_number": 2,
       "text": [
        "false"
       ]
      }
     ],
     "prompt_number": 2
    },
    {
     "cell_type": "code",
     "collapsed": false,
     "input": [
      "a>=3"
     ],
     "language": "python",
     "metadata": {},
     "outputs": [
      {
       "metadata": {},
       "output_type": "pyout",
       "prompt_number": 3,
       "text": [
        "true"
       ]
      }
     ],
     "prompt_number": 3
    },
    {
     "cell_type": "code",
     "collapsed": false,
     "input": [
      "a==3"
     ],
     "language": "python",
     "metadata": {},
     "outputs": [
      {
       "metadata": {},
       "output_type": "pyout",
       "prompt_number": 4,
       "text": [
        "true"
       ]
      }
     ],
     "prompt_number": 4
    },
    {
     "cell_type": "code",
     "collapsed": false,
     "input": [
      "a!=3"
     ],
     "language": "python",
     "metadata": {},
     "outputs": [
      {
       "metadata": {},
       "output_type": "pyout",
       "prompt_number": 5,
       "text": [
        "false"
       ]
      }
     ],
     "prompt_number": 5
    },
    {
     "cell_type": "code",
     "collapsed": false,
     "input": [
      "a==3&&a!=3"
     ],
     "language": "python",
     "metadata": {},
     "outputs": [
      {
       "metadata": {},
       "output_type": "pyout",
       "prompt_number": 6,
       "text": [
        "false"
       ]
      }
     ],
     "prompt_number": 6
    },
    {
     "cell_type": "code",
     "collapsed": false,
     "input": [
      "a==5||a!=5"
     ],
     "language": "python",
     "metadata": {},
     "outputs": [
      {
       "metadata": {},
       "output_type": "pyout",
       "prompt_number": 7,
       "text": [
        "true"
       ]
      }
     ],
     "prompt_number": 7
    },
    {
     "cell_type": "code",
     "collapsed": false,
     "input": [
      "typeof(a==3)"
     ],
     "language": "python",
     "metadata": {},
     "outputs": [
      {
       "metadata": {},
       "output_type": "pyout",
       "prompt_number": 8,
       "text": [
        "Bool"
       ]
      }
     ],
     "prompt_number": 8
    },
    {
     "cell_type": "code",
     "collapsed": false,
     "input": [
      "abs(7)"
     ],
     "language": "python",
     "metadata": {},
     "outputs": [
      {
       "metadata": {},
       "output_type": "pyout",
       "prompt_number": 9,
       "text": [
        "7"
       ]
      }
     ],
     "prompt_number": 9
    },
    {
     "cell_type": "code",
     "collapsed": false,
     "input": [
      "abs(-9.6725)"
     ],
     "language": "python",
     "metadata": {},
     "outputs": [
      {
       "metadata": {},
       "output_type": "pyout",
       "prompt_number": 10,
       "text": [
        "9.6725"
       ]
      }
     ],
     "prompt_number": 10
    },
    {
     "cell_type": "code",
     "collapsed": false,
     "input": [
      "function fabs(x)\n",
      "    if x>=0\n",
      "        y=x\n",
      "    else\n",
      "        y=-x\n",
      "    end\n",
      "end"
     ],
     "language": "python",
     "metadata": {},
     "outputs": [
      {
       "metadata": {},
       "output_type": "pyout",
       "prompt_number": 11,
       "text": [
        "fabs (generic function with 1 method)"
       ]
      }
     ],
     "prompt_number": 11
    },
    {
     "cell_type": "code",
     "collapsed": false,
     "input": [
      "fabs(9)"
     ],
     "language": "python",
     "metadata": {},
     "outputs": [
      {
       "metadata": {},
       "output_type": "pyout",
       "prompt_number": 12,
       "text": [
        "9"
       ]
      }
     ],
     "prompt_number": 12
    },
    {
     "cell_type": "code",
     "collapsed": false,
     "input": [
      "fabs(0)"
     ],
     "language": "python",
     "metadata": {},
     "outputs": [
      {
       "metadata": {},
       "output_type": "pyout",
       "prompt_number": 13,
       "text": [
        "0"
       ]
      }
     ],
     "prompt_number": 13
    },
    {
     "cell_type": "code",
     "collapsed": false,
     "input": [
      "fabs(-63.751)"
     ],
     "language": "python",
     "metadata": {},
     "outputs": [
      {
       "metadata": {},
       "output_type": "pyout",
       "prompt_number": 14,
       "text": [
        "63.751"
       ]
      }
     ],
     "prompt_number": 14
    },
    {
     "cell_type": "code",
     "collapsed": false,
     "input": [
      "dif(x)=abs(x)-fabs(x)"
     ],
     "language": "python",
     "metadata": {},
     "outputs": [
      {
       "metadata": {},
       "output_type": "pyout",
       "prompt_number": 15,
       "text": [
        "dif (generic function with 1 method)"
       ]
      }
     ],
     "prompt_number": 15
    },
    {
     "cell_type": "code",
     "collapsed": false,
     "input": [
      "dif(pi)"
     ],
     "language": "python",
     "metadata": {},
     "outputs": [
      {
       "metadata": {},
       "output_type": "pyout",
       "prompt_number": 16,
       "text": [
        "0.0"
       ]
      }
     ],
     "prompt_number": 16
    },
    {
     "cell_type": "code",
     "collapsed": false,
     "input": [
      "dif(-96.1542)"
     ],
     "language": "python",
     "metadata": {},
     "outputs": [
      {
       "metadata": {},
       "output_type": "pyout",
       "prompt_number": 17,
       "text": [
        "0.0"
       ]
      }
     ],
     "prompt_number": 17
    },
    {
     "cell_type": "code",
     "collapsed": false,
     "input": [
      "function pt(x)\n",
      "    y=\"tonto\"\n",
      "    return y\n",
      "end"
     ],
     "language": "python",
     "metadata": {},
     "outputs": [
      {
       "metadata": {},
       "output_type": "pyout",
       "prompt_number": 18,
       "text": [
        "pt (generic function with 1 method)"
       ]
      }
     ],
     "prompt_number": 18
    },
    {
     "cell_type": "code",
     "collapsed": false,
     "input": [
      "pt(a)"
     ],
     "language": "python",
     "metadata": {},
     "outputs": [
      {
       "metadata": {},
       "output_type": "pyout",
       "prompt_number": 19,
       "text": [
        "\"tonto\""
       ]
      }
     ],
     "prompt_number": 19
    },
    {
     "cell_type": "code",
     "collapsed": false,
     "input": [
      "pt(b)"
     ],
     "language": "python",
     "metadata": {},
     "outputs": [
      {
       "ename": "LoadError",
       "evalue": "b not defined\nwhile loading In[20], in expression starting on line 1",
       "output_type": "pyerr",
       "traceback": [
        "b not defined\nwhile loading In[20], in expression starting on line 1"
       ]
      }
     ],
     "prompt_number": 20
    },
    {
     "cell_type": "code",
     "collapsed": false,
     "input": [
      "pt(\"b\")"
     ],
     "language": "python",
     "metadata": {},
     "outputs": [
      {
       "metadata": {},
       "output_type": "pyout",
       "prompt_number": 21,
       "text": [
        "\"tonto\""
       ]
      }
     ],
     "prompt_number": 21
    },
    {
     "cell_type": "code",
     "collapsed": false,
     "input": [
      "pt(8133.35)"
     ],
     "language": "python",
     "metadata": {},
     "outputs": [
      {
       "metadata": {},
       "output_type": "pyout",
       "prompt_number": 22,
       "text": [
        "\"tonto\""
       ]
      }
     ],
     "prompt_number": 22
    },
    {
     "cell_type": "code",
     "collapsed": false,
     "input": [
      "factorial(5)"
     ],
     "language": "python",
     "metadata": {},
     "outputs": [
      {
       "metadata": {},
       "output_type": "pyout",
       "prompt_number": 23,
       "text": [
        "120"
       ]
      }
     ],
     "prompt_number": 23
    },
    {
     "cell_type": "code",
     "collapsed": false,
     "input": [
      "function factr(x)\n",
      "    y=1\n",
      "    for j=1:x\n",
      "        y=y*j\n",
      "    end\n",
      "    return y\n",
      "end"
     ],
     "language": "python",
     "metadata": {},
     "outputs": [
      {
       "metadata": {},
       "output_type": "pyout",
       "prompt_number": 24,
       "text": [
        "factr (generic function with 1 method)"
       ]
      }
     ],
     "prompt_number": 24
    },
    {
     "cell_type": "code",
     "collapsed": false,
     "input": [
      "factr(5)"
     ],
     "language": "python",
     "metadata": {},
     "outputs": [
      {
       "metadata": {},
       "output_type": "pyout",
       "prompt_number": 25,
       "text": [
        "120"
       ]
      }
     ],
     "prompt_number": 25
    },
    {
     "cell_type": "code",
     "collapsed": false,
     "input": [
      "factr(63)"
     ],
     "language": "python",
     "metadata": {},
     "outputs": [
      {
       "metadata": {},
       "output_type": "pyout",
       "prompt_number": 26,
       "text": [
        "1585267068834414592"
       ]
      }
     ],
     "prompt_number": 26
    },
    {
     "cell_type": "code",
     "collapsed": false,
     "input": [
      "factr(32)"
     ],
     "language": "python",
     "metadata": {},
     "outputs": [
      {
       "metadata": {},
       "output_type": "pyout",
       "prompt_number": 27,
       "text": [
        "-6045878379276664832"
       ]
      }
     ],
     "prompt_number": 27
    },
    {
     "cell_type": "code",
     "collapsed": false,
     "input": [
      "factr(20)"
     ],
     "language": "python",
     "metadata": {},
     "outputs": [
      {
       "metadata": {},
       "output_type": "pyout",
       "prompt_number": 28,
       "text": [
        "2432902008176640000"
       ]
      }
     ],
     "prompt_number": 28
    },
    {
     "cell_type": "code",
     "collapsed": false,
     "input": [
      "factr(10)"
     ],
     "language": "python",
     "metadata": {},
     "outputs": [
      {
       "metadata": {},
       "output_type": "pyout",
       "prompt_number": 29,
       "text": [
        "3628800"
       ]
      }
     ],
     "prompt_number": 29
    },
    {
     "cell_type": "code",
     "collapsed": false,
     "input": [
      "factorial(10)"
     ],
     "language": "python",
     "metadata": {},
     "outputs": [
      {
       "metadata": {},
       "output_type": "pyout",
       "prompt_number": 30,
       "text": [
        "3628800"
       ]
      }
     ],
     "prompt_number": 30
    },
    {
     "cell_type": "code",
     "collapsed": false,
     "input": [
      "factorial(63.21)"
     ],
     "language": "python",
     "metadata": {},
     "outputs": [
      {
       "ename": "LoadError",
       "evalue": "no method factorial(Float64)\nwhile loading In[31], in expression starting on line 1",
       "output_type": "pyerr",
       "traceback": [
        "no method factorial(Float64)\nwhile loading In[31], in expression starting on line 1"
       ]
      }
     ],
     "prompt_number": 31
    },
    {
     "cell_type": "code",
     "collapsed": false,
     "input": [
      "factorial(63.00)"
     ],
     "language": "python",
     "metadata": {},
     "outputs": [
      {
       "ename": "LoadError",
       "evalue": "no method factorial(Float64)\nwhile loading In[32], in expression starting on line 1",
       "output_type": "pyerr",
       "traceback": [
        "no method factorial(Float64)\nwhile loading In[32], in expression starting on line 1"
       ]
      }
     ],
     "prompt_number": 32
    },
    {
     "cell_type": "code",
     "collapsed": false,
     "input": [
      "typeof(5.0)!=Int64"
     ],
     "language": "python",
     "metadata": {},
     "outputs": [
      {
       "metadata": {},
       "output_type": "pyout",
       "prompt_number": 33,
       "text": [
        "true"
       ]
      }
     ],
     "prompt_number": 33
    },
    {
     "cell_type": "code",
     "collapsed": false,
     "input": [
      "function fact(x)\n",
      "    if typeof(x)!=Int64\n",
      "        y=\"tonto, eso no es un entero\"\n",
      "    elseif x==0\n",
      "        y=1\n",
      "    else\n",
      "    y=1\n",
      "    for j=1:x\n",
      "        y=y*j\n",
      "    end\n",
      "    return y\n",
      "end"
     ],
     "language": "python",
     "metadata": {},
     "outputs": [
      {
       "ename": "LoadError",
       "evalue": "syntax: incomplete: \"function\" at In[34]:1 requires end\nwhile loading In[34], in expression starting on line 1",
       "output_type": "pyerr",
       "traceback": [
        "syntax: incomplete: \"function\" at In[34]:1 requires end\nwhile loading In[34], in expression starting on line 1"
       ]
      }
     ],
     "prompt_number": 34
    },
    {
     "cell_type": "code",
     "collapsed": false,
     "input": [
      "function fact(x)\n",
      "    if typeof(x)!=Int64\n",
      "        y=\"tonto, eso no es un entero\"\n",
      "    elseif x==0\n",
      "        y=1\n",
      "        elseif x<0\n",
      "            y=\"tonto, eso no es un natural\"\n",
      "    else\n",
      "    y=1\n",
      "    for j=1:x\n",
      "        y=y*j\n",
      "    end\n",
      "    end\n",
      "    return y\n",
      "end"
     ],
     "language": "python",
     "metadata": {},
     "outputs": [
      {
       "metadata": {},
       "output_type": "pyout",
       "prompt_number": 35,
       "text": [
        "fact (generic function with 1 method)"
       ]
      }
     ],
     "prompt_number": 35
    },
    {
     "cell_type": "code",
     "collapsed": false,
     "input": [
      "fact(0)"
     ],
     "language": "python",
     "metadata": {},
     "outputs": [
      {
       "metadata": {},
       "output_type": "pyout",
       "prompt_number": 36,
       "text": [
        "1"
       ]
      }
     ],
     "prompt_number": 36
    },
    {
     "cell_type": "code",
     "collapsed": false,
     "input": [
      "fact(5.3)"
     ],
     "language": "python",
     "metadata": {},
     "outputs": [
      {
       "metadata": {},
       "output_type": "pyout",
       "prompt_number": 37,
       "text": [
        "\"tonto, eso no es un entero\""
       ]
      }
     ],
     "prompt_number": 37
    },
    {
     "cell_type": "code",
     "collapsed": false,
     "input": [
      "fact(6)"
     ],
     "language": "python",
     "metadata": {},
     "outputs": [
      {
       "metadata": {},
       "output_type": "pyout",
       "prompt_number": 38,
       "text": [
        "720"
       ]
      }
     ],
     "prompt_number": 38
    },
    {
     "cell_type": "code",
     "collapsed": false,
     "input": [
      "fact(-1)"
     ],
     "language": "python",
     "metadata": {},
     "outputs": [
      {
       "metadata": {},
       "output_type": "pyout",
       "prompt_number": 39,
       "text": [
        "\"tonto, eso no es un natural\""
       ]
      }
     ],
     "prompt_number": 39
    },
    {
     "cell_type": "code",
     "collapsed": false,
     "input": [
      "fact(-2)"
     ],
     "language": "python",
     "metadata": {},
     "outputs": [
      {
       "metadata": {},
       "output_type": "pyout",
       "prompt_number": 40,
       "text": [
        "\"tonto, eso no es un natural\""
       ]
      }
     ],
     "prompt_number": 40
    },
    {
     "cell_type": "code",
     "collapsed": false,
     "input": [
      "function facto(n)\n",
      "    if typeof(n)!=Int64\n",
      "    \"tonto, eso no es un entero\"\n",
      "    elseif n==0\n",
      "        1\n",
      "    elseif n<0\n",
      "    \"tonto, eso no es un natural\"\n",
      "    else\n",
      "        n*fact(n-1)\n",
      "    end\n",
      "end"
     ],
     "language": "python",
     "metadata": {},
     "outputs": [
      {
       "metadata": {},
       "output_type": "pyout",
       "prompt_number": 41,
       "text": [
        "facto (generic function with 1 method)"
       ]
      }
     ],
     "prompt_number": 41
    },
    {
     "cell_type": "code",
     "collapsed": false,
     "input": [
      "facto(5)"
     ],
     "language": "python",
     "metadata": {},
     "outputs": [
      {
       "metadata": {},
       "output_type": "pyout",
       "prompt_number": 42,
       "text": [
        "120"
       ]
      }
     ],
     "prompt_number": 42
    },
    {
     "cell_type": "code",
     "collapsed": false,
     "input": [
      "facto(8)"
     ],
     "language": "python",
     "metadata": {},
     "outputs": [
      {
       "metadata": {},
       "output_type": "pyout",
       "prompt_number": 43,
       "text": [
        "40320"
       ]
      }
     ],
     "prompt_number": 43
    },
    {
     "cell_type": "code",
     "collapsed": false,
     "input": [
      "facto(0)"
     ],
     "language": "python",
     "metadata": {},
     "outputs": [
      {
       "metadata": {},
       "output_type": "pyout",
       "prompt_number": 44,
       "text": [
        "1"
       ]
      }
     ],
     "prompt_number": 44
    },
    {
     "cell_type": "code",
     "collapsed": false,
     "input": [
      "e"
     ],
     "language": "python",
     "metadata": {},
     "outputs": [
      {
       "metadata": {},
       "output_type": "pyout",
       "prompt_number": 45,
       "text": [
        "e = 2.7182818284590..."
       ]
      }
     ],
     "prompt_number": 45
    },
    {
     "cell_type": "code",
     "collapsed": false,
     "input": [
      "function mi_exp(x,n)\n",
      "    if n==0\n",
      "        1\n",
      "    else\n",
      "        (x^n)/(factorial(big(n)))+mi_exp(x,n-1)\n",
      "    end\n",
      "end"
     ],
     "language": "python",
     "metadata": {},
     "outputs": [
      {
       "metadata": {},
       "output_type": "pyout",
       "prompt_number": 46,
       "text": [
        "mi_exp (generic function with 1 method)"
       ]
      }
     ],
     "prompt_number": 46
    },
    {
     "cell_type": "code",
     "collapsed": false,
     "input": [
      "mi_exp(1,101)"
     ],
     "language": "python",
     "metadata": {},
     "outputs": [
      {
       "metadata": {},
       "output_type": "pyout",
       "prompt_number": 47,
       "text": [
        "2.718281828459045235360287471352662497757247093699959574966967627724076630353416e+00 with 256 bits of precision"
       ]
      }
     ],
     "prompt_number": 47
    },
    {
     "cell_type": "code",
     "collapsed": false,
     "input": [
      "function mi_exp(x)\n",
      "    k=100\n",
      "    n=k\n",
      "    if n==0\n",
      "        1\n",
      "    else\n",
      "        n=k-1\n",
      "        (x^n)/(factorial(big(n)))+mi_exp(x,n-1)\n",
      "    end\n",
      "end"
     ],
     "language": "python",
     "metadata": {},
     "outputs": [
      {
       "metadata": {},
       "output_type": "pyout",
       "prompt_number": 48,
       "text": [
        "mi_exp (generic function with 2 methods)"
       ]
      }
     ],
     "prompt_number": 48
    },
    {
     "cell_type": "code",
     "collapsed": false,
     "input": [
      "mi_exp(1)"
     ],
     "language": "python",
     "metadata": {},
     "outputs": [
      {
       "metadata": {},
       "output_type": "pyout",
       "prompt_number": 49,
       "text": [
        "2.718281828459045235360287471352662497757247093699959574966967627724076630353416e+00 with 256 bits of precision"
       ]
      }
     ],
     "prompt_number": 49
    },
    {
     "cell_type": "code",
     "collapsed": false,
     "input": [
      "mi_exp(15)"
     ],
     "language": "python",
     "metadata": {},
     "outputs": [
      {
       "metadata": {},
       "output_type": "pyout",
       "prompt_number": 50,
       "text": [
        "2.189021247228850422847999185072435431732838459090759134158979709737682856079467e+06 with 256 bits of precision"
       ]
      }
     ],
     "prompt_number": 50
    },
    {
     "cell_type": "code",
     "collapsed": false,
     "input": [
      "methods(mi_exp)"
     ],
     "language": "python",
     "metadata": {},
     "outputs": [
      {
       "html": [
        "2 methods for generic function <b>mi_exp</b>:<ul><li> mi_exp(x,n) at In[46]:2<li> mi_exp(x) at In[48]:2</ul>"
       ],
       "metadata": {},
       "output_type": "pyout",
       "prompt_number": 51,
       "text": [
        "# 2 methods for generic function \"mi_exp\":\n",
        "mi_exp(x,n) at In[46]:2\n",
        "mi_exp(x) at In[48]:2"
       ]
      }
     ],
     "prompt_number": 51
    },
    {
     "cell_type": "code",
     "collapsed": false,
     "input": [
      "factorial(big(100))"
     ],
     "language": "python",
     "metadata": {},
     "outputs": [
      {
       "metadata": {},
       "output_type": "pyout",
       "prompt_number": 52,
       "text": [
        "93326215443944152681699238856266700490715968264381621468592963895217599993229915608941463976156518286253697920827223758251185210916864000000000000000000000000"
       ]
      }
     ],
     "prompt_number": 52
    },
    {
     "cell_type": "code",
     "collapsed": false,
     "input": [
      "-3%2"
     ],
     "language": "python",
     "metadata": {},
     "outputs": [
      {
       "metadata": {},
       "output_type": "pyout",
       "prompt_number": 57,
       "text": [
        "-1"
       ]
      }
     ],
     "prompt_number": 57
    },
    {
     "cell_type": "code",
     "collapsed": false,
     "input": [
      "function mi_cos(x,n)\n",
      "    if n==0\n",
      "        1\n",
      "    else\n",
      "        ((-1)^((n)))*(x^(2*n))/(factorial(2*big(n)))+mi_cos(x,n-1)\n",
      "    end\n",
      "end\n",
      "        "
     ],
     "language": "python",
     "metadata": {},
     "outputs": [
      {
       "metadata": {},
       "output_type": "pyout",
       "prompt_number": 77,
       "text": [
        "mi_cos (generic function with 1 method)"
       ]
      }
     ],
     "prompt_number": 77
    },
    {
     "cell_type": "code",
     "collapsed": false,
     "input": [
      "mi_cos(0,21)"
     ],
     "language": "python",
     "metadata": {},
     "outputs": [
      {
       "metadata": {},
       "output_type": "pyout",
       "prompt_number": 80,
       "text": [
        "1e+00 with 256 bits of precision"
       ]
      }
     ],
     "prompt_number": 80
    },
    {
     "cell_type": "code",
     "collapsed": false,
     "input": [
      "1:10"
     ],
     "language": "python",
     "metadata": {},
     "outputs": [
      {
       "metadata": {},
       "output_type": "pyout",
       "prompt_number": 81,
       "text": [
        "1:10"
       ]
      }
     ],
     "prompt_number": 81
    },
    {
     "cell_type": "code",
     "collapsed": false,
     "input": [
      "typeof(1:10)"
     ],
     "language": "python",
     "metadata": {},
     "outputs": [
      {
       "metadata": {},
       "output_type": "pyout",
       "prompt_number": 82,
       "text": [
        "UnitRange{Int64} (constructor with 1 method)"
       ]
      }
     ],
     "prompt_number": 82
    },
    {
     "cell_type": "code",
     "collapsed": false,
     "input": [
      "typeof(1.1:1.2)"
     ],
     "language": "python",
     "metadata": {},
     "outputs": [
      {
       "metadata": {},
       "output_type": "pyout",
       "prompt_number": 83,
       "text": [
        "FloatRange{Float64} (constructor with 2 methods)"
       ]
      }
     ],
     "prompt_number": 83
    },
    {
     "cell_type": "code",
     "collapsed": false,
     "input": [
      "1.1:1.2"
     ],
     "language": "python",
     "metadata": {},
     "outputs": [
      {
       "metadata": {},
       "output_type": "pyout",
       "prompt_number": 84,
       "text": [
        "1.1:1.0:1.1"
       ]
      }
     ],
     "prompt_number": 84
    },
    {
     "cell_type": "code",
     "collapsed": false,
     "input": [
      "[1:10]"
     ],
     "language": "python",
     "metadata": {},
     "outputs": [
      {
       "metadata": {},
       "output_type": "pyout",
       "prompt_number": 85,
       "text": [
        "10-element Array{Int64,1}:\n",
        "  1\n",
        "  2\n",
        "  3\n",
        "  4\n",
        "  5\n",
        "  6\n",
        "  7\n",
        "  8\n",
        "  9\n",
        " 10"
       ]
      }
     ],
     "prompt_number": 85
    },
    {
     "cell_type": "code",
     "collapsed": false,
     "input": [
      "typeof([1:10])"
     ],
     "language": "python",
     "metadata": {},
     "outputs": [
      {
       "metadata": {},
       "output_type": "pyout",
       "prompt_number": 86,
       "text": [
        "Array{Int64,1}"
       ]
      }
     ],
     "prompt_number": 86
    },
    {
     "cell_type": "code",
     "collapsed": false,
     "input": [
      "[1.1:1.3]"
     ],
     "language": "python",
     "metadata": {},
     "outputs": [
      {
       "metadata": {},
       "output_type": "pyout",
       "prompt_number": 87,
       "text": [
        "1-element Array{Float64,1}:\n",
        " 1.1"
       ]
      }
     ],
     "prompt_number": 87
    },
    {
     "cell_type": "code",
     "collapsed": false,
     "input": [
      "@which [1:10]"
     ],
     "language": "python",
     "metadata": {},
     "outputs": [
      {
       "html": [
        "vcat<i>{T}</i>(r::<b>Range{T}</b>) at <a href=\"https://github.com/JuliaLang/julia/tree/6dfbe719f926120a62ce5d74416ee3527b5bb9d6/base/range.jl#L468\" target=\"_blank\">range.jl:468</a>"
       ],
       "metadata": {},
       "output_type": "pyout",
       "prompt_number": 88,
       "text": [
        "vcat{T}(r::Range{T}) at range.jl:468"
       ]
      }
     ],
     "prompt_number": 88
    },
    {
     "cell_type": "code",
     "collapsed": false,
     "input": [
      "[StepRange(1,2,10)]"
     ],
     "language": "python",
     "metadata": {},
     "outputs": [
      {
       "metadata": {},
       "output_type": "pyout",
       "prompt_number": 92,
       "text": [
        "5-element Array{Int64,1}:\n",
        " 1\n",
        " 3\n",
        " 5\n",
        " 7\n",
        " 9"
       ]
      }
     ],
     "prompt_number": 92
    },
    {
     "cell_type": "code",
     "collapsed": false,
     "input": [
      "@which sum"
     ],
     "language": "python",
     "metadata": {},
     "outputs": [
      {
       "ename": "LoadError",
       "evalue": "expression is not a function call\nwhile loading In[94], in expression starting on line 1",
       "output_type": "pyerr",
       "traceback": [
        "expression is not a function call\nwhile loading In[94], in expression starting on line 1",
        " in error at error.jl:21"
       ]
      }
     ],
     "prompt_number": 94
    },
    {
     "cell_type": "code",
     "collapsed": false,
     "input": [
      "sum(StepRange(0,2,100))"
     ],
     "language": "python",
     "metadata": {},
     "outputs": [
      {
       "metadata": {},
       "output_type": "pyout",
       "prompt_number": 97,
       "text": [
        "2550"
       ]
      }
     ],
     "prompt_number": 97
    },
    {
     "cell_type": "code",
     "collapsed": false,
     "input": [
      "sum(0:50)"
     ],
     "language": "python",
     "metadata": {},
     "outputs": [
      {
       "metadata": {},
       "output_type": "pyout",
       "prompt_number": 98,
       "text": [
        "1275"
       ]
      }
     ],
     "prompt_number": 98
    },
    {
     "cell_type": "code",
     "collapsed": false,
     "input": [
      "prod(big(1:100))-factorial(big(100))"
     ],
     "language": "python",
     "metadata": {},
     "outputs": [
      {
       "metadata": {},
       "output_type": "pyout",
       "prompt_number": 104,
       "text": [
        "0"
       ]
      }
     ],
     "prompt_number": 104
    },
    {
     "cell_type": "code",
     "collapsed": false,
     "input": [
      "[x^2 for x in 1:10]"
     ],
     "language": "python",
     "metadata": {},
     "outputs": [
      {
       "metadata": {},
       "output_type": "pyout",
       "prompt_number": 105,
       "text": [
        "10-element Array{Int64,1}:\n",
        "   1\n",
        "   4\n",
        "   9\n",
        "  16\n",
        "  25\n",
        "  36\n",
        "  49\n",
        "  64\n",
        "  81\n",
        " 100"
       ]
      }
     ],
     "prompt_number": 105
    },
    {
     "cell_type": "code",
     "collapsed": false,
     "input": [
      "sum([x^2 for x in 1:10])"
     ],
     "language": "python",
     "metadata": {},
     "outputs": [
      {
       "metadata": {},
       "output_type": "pyout",
       "prompt_number": 106,
       "text": [
        "385"
       ]
      }
     ],
     "prompt_number": 106
    },
    {
     "cell_type": "code",
     "collapsed": false,
     "input": [
      "my_exp(x)=sum([(big(x)^n)/(factorial(big(n))) for n in 0:3000])\n",
      "    "
     ],
     "language": "python",
     "metadata": {},
     "outputs": [
      {
       "metadata": {},
       "output_type": "pyout",
       "prompt_number": 133,
       "text": [
        "my_exp (generic function with 1 method)"
       ]
      }
     ],
     "prompt_number": 133
    },
    {
     "cell_type": "code",
     "collapsed": false,
     "input": [
      "my_exp(202.51)"
     ],
     "language": "python",
     "metadata": {},
     "outputs": [
      {
       "metadata": {},
       "output_type": "pyout",
       "prompt_number": 134,
       "text": [
        "8.891510183586941432364007347920440369130355099399068550525887485481256876867353e+87 with 256 bits of precision"
       ]
      }
     ],
     "prompt_number": 134
    },
    {
     "cell_type": "code",
     "collapsed": false,
     "input": [
      "exp(202.51)"
     ],
     "language": "python",
     "metadata": {},
     "outputs": [
      {
       "metadata": {},
       "output_type": "pyout",
       "prompt_number": 135,
       "text": [
        "8.891510183586942e87"
       ]
      }
     ],
     "prompt_number": 135
    },
    {
     "cell_type": "code",
     "collapsed": false,
     "input": [
      "arreglo1=[3,5,7,11,17]"
     ],
     "language": "python",
     "metadata": {},
     "outputs": [
      {
       "metadata": {},
       "output_type": "pyout",
       "prompt_number": 48,
       "text": [
        "5-element Array{Int64,1}:\n",
        "  3\n",
        "  5\n",
        "  7\n",
        " 11\n",
        " 17"
       ]
      }
     ],
     "prompt_number": 48
    },
    {
     "cell_type": "code",
     "collapsed": false,
     "input": [
      "typeof(arreglo1)"
     ],
     "language": "python",
     "metadata": {},
     "outputs": [
      {
       "metadata": {},
       "output_type": "pyout",
       "prompt_number": 137,
       "text": [
        "Array{Int64,1}"
       ]
      }
     ],
     "prompt_number": 137
    },
    {
     "cell_type": "code",
     "collapsed": false,
     "input": [
      "sum(arreglo1)"
     ],
     "language": "python",
     "metadata": {},
     "outputs": [
      {
       "metadata": {},
       "output_type": "pyout",
       "prompt_number": 138,
       "text": [
        "15"
       ]
      }
     ],
     "prompt_number": 138
    },
    {
     "cell_type": "code",
     "collapsed": false,
     "input": [
      "arreglo2=[0.251,874.14,-98.1507]"
     ],
     "language": "python",
     "metadata": {},
     "outputs": [
      {
       "metadata": {},
       "output_type": "pyout",
       "prompt_number": 139,
       "text": [
        "3-element Array{Float64,1}:\n",
        "   0.251 \n",
        " 874.14  \n",
        " -98.1507"
       ]
      }
     ],
     "prompt_number": 139
    },
    {
     "cell_type": "code",
     "collapsed": false,
     "input": [
      "cuadrados = [x^2 for x in arreglo1]"
     ],
     "language": "python",
     "metadata": {},
     "outputs": [
      {
       "metadata": {},
       "output_type": "pyout",
       "prompt_number": 142,
       "text": [
        "5-element Array{Any,1}:\n",
        "   9\n",
        "  25\n",
        "  49\n",
        " 121\n",
        " 289"
       ]
      }
     ],
     "prompt_number": 142
    },
    {
     "cell_type": "code",
     "collapsed": false,
     "input": [
      "Pkg.add(\"PyPlot\")"
     ],
     "language": "python",
     "metadata": {},
     "outputs": [
      {
       "output_type": "stream",
       "stream": "stderr",
       "text": [
        "INFO: Updating cache of PyPlot...\n"
       ]
      },
      {
       "output_type": "stream",
       "stream": "stderr",
       "text": [
        "INFO: Installing Color v0.2.11\n"
       ]
      },
      {
       "output_type": "stream",
       "stream": "stderr",
       "text": [
        "fatal: destination path 'Color' already exists and is not an empty directory.\n"
       ]
      },
      {
       "ename": "LoadError",
       "evalue": "failed process: Process(`git clone -q /home/est2/.julia/v0.3/.cache/Color Color`, ProcessExited(128)) [128]\nwhile loading In[143], in expression starting on line 1",
       "output_type": "pyerr",
       "traceback": [
        "failed process: Process(`git clone -q /home/est2/.julia/v0.3/.cache/Color Color`, ProcessExited(128)) [128]\nwhile loading In[143], in expression starting on line 1",
        " in wait at ./task.jl:279",
        " in wait at ./task.jl:189",
        " in wait at task.jl:48",
        " in sync_end at ./task.jl:306",
        " in add at pkg/entry.jl:314",
        " in add at pkg/entry.jl:71",
        " in anonymous at pkg/dir.jl:28",
        " in cd at file.jl:20",
        " in cd at pkg/dir.jl:28",
        " in add at pkg.jl:20"
       ]
      }
     ],
     "prompt_number": 143
    },
    {
     "cell_type": "code",
     "collapsed": false,
     "input": [
      "Pkg.update()"
     ],
     "language": "python",
     "metadata": {},
     "outputs": [
      {
       "output_type": "stream",
       "stream": "stderr",
       "text": [
        "INFO: Updating METADATA...\n"
       ]
      },
      {
       "output_type": "stream",
       "stream": "stderr",
       "text": [
        "INFO: Computing changes...\n",
        "INFO: No packages to install, update or remove\n"
       ]
      }
     ],
     "prompt_number": 147
    },
    {
     "cell_type": "code",
     "collapsed": false,
     "input": [
      "using PyPlot"
     ],
     "language": "python",
     "metadata": {},
     "outputs": [],
     "prompt_number": 158
    },
    {
     "cell_type": "code",
     "collapsed": false,
     "input": [
      "using(PyCall)\n",
      "pygui(:gtk)\n",
      "using PyPlot"
     ],
     "language": "python",
     "metadata": {},
     "outputs": [
      {
       "output_type": "stream",
       "stream": "stderr",
       "text": [
        "INFO: Loading help data...\n"
       ]
      }
     ],
     "prompt_number": 1
    },
    {
     "cell_type": "code",
     "collapsed": false,
     "input": [
      "help(plot)"
     ],
     "language": "python",
     "metadata": {},
     "outputs": [
      {
       "output_type": "stream",
       "stream": "stdout",
       "text": [
        "Plot lines and/or markers to the\n",
        ":class:`~matplotlib.axes.Axes`.  *args* is a variable length\n",
        "argument, allowing for multiple *x*, *y* pairs with an\n",
        "optional format string.  For example, each of the following is\n",
        "legal::\n",
        "\n",
        "    plot(x, y)        # plot x and y using default line style and color\n",
        "    plot(x, y, 'bo')  # plot x and y using blue circle markers\n",
        "    plot(y)           # plot y using x as index array 0..N-1\n",
        "    plot(y, 'r+')     # ditto, but with red plusses\n",
        "\n",
        "If *x* and/or *y* is 2-dimensional, then the corresponding columns\n",
        "will be plotted.\n",
        "\n",
        "An arbitrary number of *x*, *y*, *fmt* groups can be\n",
        "specified, as in::\n",
        "\n",
        "    a.plot(x1, y1, 'g^', x2, y2, 'g-')\n",
        "\n",
        "Return value is a list of lines that were added.\n",
        "\n",
        "By default, each line is assigned a different color specified by a\n",
        "'color cycle'.  To change this behavior, you can edit the\n",
        "axes.color_cycle rcParam. Alternatively, you can use\n",
        ":meth:`~matplotlib.axes.Axes.set_default_color_cycle`.\n",
        "\n",
        "The following format string characters are accepted to control\n",
        "the line style or marker:\n",
        "\n",
        "================    ===============================\n",
        "character           description\n",
        "================    ===============================\n",
        "``'-'``             solid line style\n",
        "``'--'``            dashed line style\n",
        "``'-.'``            dash-dot line style\n",
        "``':'``             dotted line style\n",
        "``'.'``             point marker\n",
        "``','``             pixel marker\n",
        "``'o'``             circle marker\n",
        "``'v'``             triangle_down marker\n",
        "``'^'``             triangle_up marker\n",
        "``'<'``             triangle_left marker\n",
        "``'>'``             triangle_right marker\n",
        "``'1'``             tri_down marker\n",
        "``'2'``             tri_up marker\n",
        "``'3'``             tri_left marker\n",
        "``'4'``             tri_right marker\n",
        "``'s'``             square marker\n",
        "``'p'``             pentagon marker\n",
        "``'*'``             star marker\n",
        "``'h'``             hexagon1 marker\n",
        "``'H'``             hexagon2 marker\n",
        "``'+'``             plus marker\n",
        "``'x'``             x marker\n",
        "``'D'``             diamond marker\n",
        "``'d'``             thin_diamond marker\n",
        "``'|'``             vline marker\n",
        "``'_'``             hline marker\n",
        "================    ===============================\n",
        "\n",
        "\n",
        "The following color abbreviations are supported:\n",
        "\n",
        "==========  ========\n",
        "character   color\n",
        "==========  ========\n",
        "'b'         blue\n",
        "'g'         green\n",
        "'r'         red\n",
        "'c'         cyan\n",
        "'m'         magenta\n",
        "'y'         yellow\n",
        "'k'         black\n",
        "'w'         white\n",
        "==========  ========\n",
        "\n",
        "In addition, you can specify colors in many weird and\n",
        "wonderful ways, including full names (``'green'``), hex\n",
        "strings (``'#008000'``), RGB or RGBA tuples (``(0,1,0,1)``) or\n",
        "grayscale intensities as a string (``'0.8'``).  Of these, the\n",
        "string specifications can be used in place of a ``fmt`` group,\n",
        "but the tuple forms can be used only as ``kwargs``.\n",
        "\n",
        "Line styles and colors are combined in a single format string, as in\n",
        "``'bo'`` for blue circles.\n",
        "\n",
        "The *kwargs* can be used to set line properties (any property that has\n",
        "a ``set_*`` method).  You can use this to set a line label (for auto\n",
        "legends), linewidth, anitialising, marker face color, etc.  Here is an\n",
        "example::\n",
        "\n",
        "    plot([1,2,3], [1,2,3], 'go-', label='line 1', linewidth=2)\n",
        "    plot([1,2,3], [1,4,9], 'rs',  label='line 2')\n",
        "    axis([0, 4, 0, 10])\n",
        "    legend()\n",
        "\n",
        "If you make multiple lines with one plot command, the kwargs\n",
        "apply to all those lines, e.g.::\n",
        "\n",
        "    plot(x1, y1, x2, y2, antialised=False)\n",
        "\n",
        "Neither line will be antialiased.\n",
        "\n",
        "You do not need to use format strings, which are just\n",
        "abbreviations.  All of the line properties can be controlled\n",
        "by keyword arguments.  For example, you can set the color,\n",
        "marker, linestyle, and markercolor with::\n",
        "\n",
        "    plot(x, y, color='green', linestyle='dashed', marker='o',\n",
        "         markerfacecolor='blue', markersize=12).\n",
        "\n",
        "See :class:`~matplotlib.lines.Line2D` for details.\n",
        "\n",
        "The kwargs are :class:`~matplotlib.lines.Line2D` properties:\n",
        "\n",
        "  agg_filter: unknown\n",
        "  alpha: float (0.0 transparent through 1.0 opaque)         \n",
        "  animated: [True | False]         \n",
        "  antialiased or aa: [True | False]         \n",
        "  axes: an :class:`~matplotlib.axes.Axes` instance         \n",
        "  clip_box: a :class:`matplotlib.transforms.Bbox` instance         \n",
        "  clip_on: [True | False]         \n",
        "  clip_path: [ (:class:`~matplotlib.path.Path`,         :class:`~matplotlib.transforms.Transform`) |         :class:`~matplotlib.patches.Patch` | None ]         \n",
        "  color or c: any matplotlib color         \n",
        "  contains: a callable function         \n",
        "  dash_capstyle: ['butt' | 'round' | 'projecting']         \n",
        "  dash_joinstyle: ['miter' | 'round' | 'bevel']         \n",
        "  dashes: sequence of on/off ink in points         \n",
        "  drawstyle: ['default' | 'steps' | 'steps-pre' | 'steps-mid' |                   'steps-post']         \n",
        "  figure: a :class:`matplotlib.figure.Figure` instance         \n",
        "  fillstyle: ['full' | 'left' | 'right' | 'bottom' | 'top' | 'none']         \n",
        "  gid: an id string         \n",
        "  label: string or anything printable with '%s' conversion.         \n",
        "  linestyle or ls: [``'-'`` | ``'--'`` | ``'-.'`` | ``':'`` | ``'None'`` |                   ``' '`` | ``''``]         and any drawstyle in combination with a linestyle, e.g., ``'steps--'``.         \n",
        "  linewidth or lw: float value in points         \n",
        "  lod: [True | False]         \n",
        "  marker: unknown\n",
        "  markeredgecolor or mec: any matplotlib color         \n",
        "  markeredgewidth or mew: float value in points         \n",
        "  markerfacecolor or mfc: any matplotlib color         \n",
        "  markerfacecoloralt or mfcalt: any matplotlib color         \n",
        "  markersize or ms: float         \n",
        "  markevery: None | integer | (startind, stride)\n",
        "  path_effects: unknown\n",
        "  picker: float distance in points or callable pick function         ``fn(artist, event)``         \n",
        "  pickradius: float distance in points         \n",
        "  rasterized: [True | False | None]         \n",
        "  sketch_params: unknown\n",
        "  snap: unknown\n",
        "  solid_capstyle: ['butt' | 'round' |  'projecting']         \n",
        "  solid_joinstyle: ['miter' | 'round' | 'bevel']         \n",
        "  transform: a :class:`matplotlib.transforms.Transform` instance         \n",
        "  url: a url string         \n",
        "  visible: [True | False]         \n",
        "  xdata: 1D array         \n",
        "  ydata: 1D array         \n",
        "  zorder: any number         \n",
        "\n",
        "kwargs *scalex* and *scaley*, if defined, are passed on to\n",
        ":meth:`~matplotlib.axes.Axes.autoscale_view` to determine\n",
        "whether the *x* and *y* axes are autoscaled; the default is\n",
        "*True*.\n",
        "\n",
        "Additional kwargs: hold = [True|False] overrides default hold state\n"
       ]
      }
     ],
     "prompt_number": 2
    },
    {
     "cell_type": "code",
     "collapsed": false,
     "input": [
      "plot(rand(10))"
     ],
     "language": "python",
     "metadata": {},
     "outputs": [
      {
       "metadata": {},
       "output_type": "display_data",
       "png": "[encoded data removed]",
       "text": [
        "Figure(PyObject <matplotlib.figure.Figure object at 0x9fb9390>)"
       ]
      },
      {
       "metadata": {},
       "output_type": "pyout",
       "prompt_number": 3,
       "text": [
        "1-element Array{Any,1}:\n",
        " PyObject <matplotlib.lines.Line2D object at 0xb83c190>"
       ]
      }
     ],
     "prompt_number": 3
    },
    {
     "cell_type": "code",
     "collapsed": false,
     "input": [
      "rangex=[-3:0.2:3]"
     ],
     "language": "python",
     "metadata": {},
     "outputs": [
      {
       "metadata": {},
       "output_type": "pyout",
       "prompt_number": 1,
       "text": [
        "31-element Array{Float64,1}:\n",
        " -3.0\n",
        " -2.8\n",
        " -2.6\n",
        " -2.4\n",
        " -2.2\n",
        " -2.0\n",
        " -1.8\n",
        " -1.6\n",
        " -1.4\n",
        " -1.2\n",
        " -1.0\n",
        " -0.8\n",
        " -0.6\n",
        "  \u22ee  \n",
        "  0.8\n",
        "  1.0\n",
        "  1.2\n",
        "  1.4\n",
        "  1.6\n",
        "  1.8\n",
        "  2.0\n",
        "  2.2\n",
        "  2.4\n",
        "  2.6\n",
        "  2.8\n",
        "  3.0"
       ]
      }
     ],
     "prompt_number": 1
    },
    {
     "cell_type": "code",
     "collapsed": false,
     "input": [
      "rangex"
     ],
     "language": "python",
     "metadata": {},
     "outputs": [
      {
       "metadata": {},
       "output_type": "pyout",
       "prompt_number": 2,
       "text": [
        "31-element Array{Float64,1}:\n",
        " -3.0\n",
        " -2.8\n",
        " -2.6\n",
        " -2.4\n",
        " -2.2\n",
        " -2.0\n",
        " -1.8\n",
        " -1.6\n",
        " -1.4\n",
        " -1.2\n",
        " -1.0\n",
        " -0.8\n",
        " -0.6\n",
        "  \u22ee  \n",
        "  0.8\n",
        "  1.0\n",
        "  1.2\n",
        "  1.4\n",
        "  1.6\n",
        "  1.8\n",
        "  2.0\n",
        "  2.2\n",
        "  2.4\n",
        "  2.6\n",
        "  2.8\n",
        "  3.0"
       ]
      }
     ],
     "prompt_number": 2
    },
    {
     "cell_type": "code",
     "collapsed": false,
     "input": [
      "rangey=[(3*x^2-2) for x in rangex]"
     ],
     "language": "python",
     "metadata": {},
     "outputs": [
      {
       "metadata": {},
       "output_type": "pyout",
       "prompt_number": 3,
       "text": [
        "31-element Array{Any,1}:\n",
        " 25.0 \n",
        " 21.52\n",
        " 18.28\n",
        " 15.28\n",
        " 12.52\n",
        " 10.0 \n",
        "  7.72\n",
        "  5.68\n",
        "  3.88\n",
        "  2.32\n",
        "  1.0 \n",
        " -0.08\n",
        " -0.92\n",
        "  \u22ee   \n",
        " -0.08\n",
        "  1.0 \n",
        "  2.32\n",
        "  3.88\n",
        "  5.68\n",
        "  7.72\n",
        " 10.0 \n",
        " 12.52\n",
        " 15.28\n",
        " 18.28\n",
        " 21.52\n",
        " 25.0 "
       ]
      }
     ],
     "prompt_number": 3
    },
    {
     "cell_type": "code",
     "collapsed": false,
     "input": [
      "plot(rangex,rangey)"
     ],
     "language": "python",
     "metadata": {},
     "outputs": [
      {
       "ename": "LoadError",
       "evalue": "plot not defined\nwhile loading In[4], in expression starting on line 1",
       "output_type": "pyerr",
       "traceback": [
        "plot not defined\nwhile loading In[4], in expression starting on line 1"
       ]
      }
     ],
     "prompt_number": 4
    },
    {
     "cell_type": "code",
     "collapsed": false,
     "input": [
      "plot(rangex,rangey,\"r-\")"
     ],
     "language": "python",
     "metadata": {},
     "outputs": [
      {
       "metadata": {},
       "output_type": "display_data",
       "png": "[encoded data removed]",
       "text": [
        "Figure(PyObject <matplotlib.figure.Figure object at 0xa458a90>)"
       ]
      },
      {
       "metadata": {},
       "output_type": "pyout",
       "prompt_number": 29,
       "text": [
        "1-element Array{Any,1}:\n",
        " PyObject <matplotlib.lines.Line2D object at 0xff9e290>"
       ]
      }
     ],
     "prompt_number": 29
    },
    {
     "cell_type": "code",
     "collapsed": false,
     "input": [
      "plot(rangex,rangey,\"g.\")\n",
      "xlabel(\"Eje x\")\n",
      "ylabel(\"Eje y\")\n",
      "title(\"Grafica\")\n",
      "legend(\"datos\")"
     ],
     "language": "python",
     "metadata": {},
     "outputs": [
      {
       "metadata": {},
       "output_type": "display_data",
       "png": "[encoded data removed]",
       "text": [
        "Figure(PyObject <matplotlib.figure.Figure object at 0x12d9c350>)"
       ]
      },
      {
       "metadata": {},
       "output_type": "pyout",
       "prompt_number": 45,
       "text": [
        "PyObject <matplotlib.legend.Legend object at 0x132d12d0>"
       ]
      }
     ],
     "prompt_number": 45
    },
    {
     "cell_type": "code",
     "collapsed": false,
     "input": [
      "help(plot)"
     ],
     "language": "python",
     "metadata": {},
     "outputs": [
      {
       "output_type": "stream",
       "stream": "stdout",
       "text": [
        "Plot lines and/or markers to the\n",
        ":class:`~matplotlib.axes.Axes`.  *args* is a variable length\n",
        "argument, allowing for multiple *x*, *y* pairs with an\n",
        "optional format string.  For example, each of the following is\n",
        "legal::\n",
        "\n",
        "    plot(x, y)        # plot x and y using default line style and color\n",
        "    plot(x, y, 'bo')  # plot x and y using blue circle markers\n",
        "    plot(y)           # plot y using x as index array 0..N-1\n",
        "    plot(y, 'r+')     # ditto, but with red plusses\n",
        "\n",
        "If *x* and/or *y* is 2-dimensional, then the corresponding columns\n",
        "will be plotted.\n",
        "\n",
        "An arbitrary number of *x*, *y*, *fmt* groups can be\n",
        "specified, as in::\n",
        "\n",
        "    a.plot(x1, y1, 'g^', x2, y2, 'g-')\n",
        "\n",
        "Return value is a list of lines that were added.\n",
        "\n",
        "By default, each line is assigned a different color specified by a\n",
        "'color cycle'.  To change this behavior, you can edit the\n",
        "axes.color_cycle rcParam. Alternatively, you can use\n",
        ":meth:`~matplotlib.axes.Axes.set_default_color_cycle`.\n",
        "\n",
        "The following format string characters are accepted to control\n",
        "the line style or marker:\n",
        "\n",
        "================    ===============================\n",
        "character           description\n",
        "================    ===============================\n",
        "``'-'``             solid line style\n",
        "``'--'``            dashed line style\n",
        "``'-.'``            dash-dot line style\n",
        "``':'``             dotted line style\n",
        "``'.'``             point marker\n",
        "``','``             pixel marker\n",
        "``'o'``             circle marker\n",
        "``'v'``             triangle_down marker\n",
        "``'^'``             triangle_up marker\n",
        "``'<'``             triangle_left marker\n",
        "``'>'``             triangle_right marker\n",
        "``'1'``             tri_down marker\n",
        "``'2'``             tri_up marker\n",
        "``'3'``             tri_left marker\n",
        "``'4'``             tri_right marker\n",
        "``'s'``             square marker\n",
        "``'p'``             pentagon marker\n",
        "``'*'``             star marker\n",
        "``'h'``             hexagon1 marker\n",
        "``'H'``             hexagon2 marker\n",
        "``'+'``             plus marker\n",
        "``'x'``             x marker\n",
        "``'D'``             diamond marker\n",
        "``'d'``             thin_diamond marker\n",
        "``'|'``             vline marker\n",
        "``'_'``             hline marker\n",
        "================    ===============================\n",
        "\n",
        "\n",
        "The following color abbreviations are supported:\n",
        "\n",
        "==========  ========\n",
        "character   color\n",
        "==========  ========\n",
        "'b'         blue\n",
        "'g'         green\n",
        "'r'         red\n",
        "'c'         cyan\n",
        "'m'         magenta\n",
        "'y'         yellow\n",
        "'k'         black\n",
        "'w'         white\n",
        "==========  ========\n",
        "\n",
        "In addition, you can specify colors in many weird and\n",
        "wonderful ways, including full names (``'green'``), hex\n",
        "strings (``'#008000'``), RGB or RGBA tuples (``(0,1,0,1)``) or\n",
        "grayscale intensities as a string (``'0.8'``).  Of these, the\n",
        "string specifications can be used in place of a ``fmt`` group,\n",
        "but the tuple forms can be used only as ``kwargs``.\n",
        "\n",
        "Line styles and colors are combined in a single format string, as in\n",
        "``'bo'`` for blue circles.\n",
        "\n",
        "The *kwargs* can be used to set line properties (any property that has\n",
        "a ``set_*`` method).  You can use this to set a line label (for auto\n",
        "legends), linewidth, anitialising, marker face color, etc.  Here is an\n",
        "example::\n",
        "\n",
        "    plot([1,2,3], [1,2,3], 'go-', label='line 1', linewidth=2)\n",
        "    plot([1,2,3], [1,4,9], 'rs',  label='line 2')\n",
        "    axis([0, 4, 0, 10])\n",
        "    legend()\n",
        "\n",
        "If you make multiple lines with one plot command, the kwargs\n",
        "apply to all those lines, e.g.::\n",
        "\n",
        "    plot(x1, y1, x2, y2, antialised=False)\n",
        "\n",
        "Neither line will be antialiased.\n",
        "\n",
        "You do not need to use format strings, which are just\n",
        "abbreviations.  All of the line properties can be controlled\n",
        "by keyword arguments.  For example, you can set the color,\n",
        "marker, linestyle, and markercolor with::\n",
        "\n",
        "    plot(x, y, color='green', linestyle='dashed', marker='o',\n",
        "         markerfacecolor='blue', markersize=12).\n",
        "\n",
        "See :class:`~matplotlib.lines.Line2D` for details.\n",
        "\n",
        "The kwargs are :class:`~matplotlib.lines.Line2D` properties:\n",
        "\n",
        "  agg_filter: unknown\n",
        "  alpha: float (0.0 transparent through 1.0 opaque)         \n",
        "  animated: [True | False]         \n",
        "  antialiased or aa: [True | False]         \n",
        "  axes: an :class:`~matplotlib.axes.Axes` instance         \n",
        "  clip_box: a :class:`matplotlib.transforms.Bbox` instance         \n",
        "  clip_on: [True | False]         \n",
        "  clip_path: [ (:class:`~matplotlib.path.Path`,         :class:`~matplotlib.transforms.Transform`) |         :class:`~matplotlib.patches.Patch` | None ]         \n",
        "  color or c: any matplotlib color         \n",
        "  contains: a callable function         \n",
        "  dash_capstyle: ['butt' | 'round' | 'projecting']         \n",
        "  dash_joinstyle: ['miter' | 'round' | 'bevel']         \n",
        "  dashes: sequence of on/off ink in points         \n",
        "  drawstyle: ['default' | 'steps' | 'steps-pre' | 'steps-mid' |                   'steps-post']         \n",
        "  figure: a :class:`matplotlib.figure.Figure` instance         \n",
        "  fillstyle: ['full' | 'left' | 'right' | 'bottom' | 'top' | 'none']         \n",
        "  gid: an id string         \n",
        "  label: string or anything printable with '%s' conversion.         \n",
        "  linestyle or ls: [``'-'`` | ``'--'`` | ``'-.'`` | ``':'`` | ``'None'`` |                   ``' '`` | ``''``]         and any drawstyle in combination with a linestyle, e.g., ``'steps--'``.         \n",
        "  linewidth or lw: float value in points         \n",
        "  lod: [True | False]         \n",
        "  marker: unknown\n",
        "  markeredgecolor or mec: any matplotlib color         \n",
        "  markeredgewidth or mew: float value in points         \n",
        "  markerfacecolor or mfc: any matplotlib color         \n",
        "  markerfacecoloralt or mfcalt: any matplotlib color         \n",
        "  markersize or ms: float         \n",
        "  markevery: None | integer | (startind, stride)\n",
        "  path_effects: unknown\n",
        "  picker: float distance in points or callable pick function         ``fn(artist, event)``         \n",
        "  pickradius: float distance in points         \n",
        "  rasterized: [True | False | None]         \n",
        "  sketch_params: unknown\n",
        "  snap: unknown\n",
        "  solid_capstyle: ['butt' | 'round' |  'projecting']         \n",
        "  solid_joinstyle: ['miter' | 'round' | 'bevel']         \n",
        "  transform: a :class:`matplotlib.transforms.Transform` instance         \n",
        "  url: a url string         \n",
        "  visible: [True | False]         \n",
        "  xdata: 1D array         \n",
        "  ydata: 1D array         \n",
        "  zorder: any number         \n",
        "\n",
        "kwargs *scalex* and *scaley*, if defined, are passed on to\n",
        ":meth:`~matplotlib.axes.Axes.autoscale_view` to determine\n",
        "whether the *x* and *y* axes are autoscaled; the default is\n",
        "*True*.\n",
        "\n",
        "Additional kwargs: hold = [True|False] overrides default hold state\n"
       ]
      }
     ],
     "prompt_number": 35
    },
    {
     "cell_type": "code",
     "collapsed": false,
     "input": [
      "plot(rangex,rangey)\n",
      "xlabel(\"Eje x2\")\n",
      "ylabel(\"Eje y2\")\n",
      "title(\"Grafica2\")\n",
      "legend(\"datos2\")"
     ],
     "language": "python",
     "metadata": {},
     "outputs": [
      {
       "metadata": {},
       "output_type": "display_data",
       "png": "[encoded data removed]",
       "text": [
        "Figure(PyObject <matplotlib.figure.Figure object at 0x13cc7410>)"
       ]
      },
      {
       "metadata": {},
       "output_type": "pyout",
       "prompt_number": 87,
       "text": [
        "PyObject <matplotlib.legend.Legend object at 0x1445f510>"
       ]
      }
     ],
     "prompt_number": 87
    },
    {
     "cell_type": "code",
     "collapsed": false,
     "input": [
      "arreglo1[2]"
     ],
     "language": "python",
     "metadata": {},
     "outputs": [
      {
       "metadata": {},
       "output_type": "pyout",
       "prompt_number": 51,
       "text": [
        "5"
       ]
      }
     ],
     "prompt_number": 51
    },
    {
     "cell_type": "code",
     "collapsed": false,
     "input": [
      "punto1(x,y,t)=[x*t,y*t-4.905*t^2]"
     ],
     "language": "python",
     "metadata": {},
     "outputs": [
      {
       "metadata": {},
       "output_type": "pyout",
       "prompt_number": 52,
       "text": [
        "punto1 (generic function with 1 method)"
       ]
      }
     ],
     "prompt_number": 52
    },
    {
     "cell_type": "code",
     "collapsed": false,
     "input": [
      "puntos1(x,y)=[punto1(x,y,t) for t in 0:0.001:10]"
     ],
     "language": "python",
     "metadata": {},
     "outputs": [
      {
       "metadata": {},
       "output_type": "pyout",
       "prompt_number": 60,
       "text": [
        "puntos1 (generic function with 1 method)"
       ]
      }
     ],
     "prompt_number": 60
    },
    {
     "cell_type": "code",
     "collapsed": false,
     "input": [
      "puntos1(2,3)"
     ],
     "language": "python",
     "metadata": {},
     "outputs": [
      {
       "metadata": {},
       "output_type": "pyout",
       "prompt_number": 61,
       "text": [
        "10001-element Array{Array{Float64,1},1}:\n",
        " [0.0,0.0]         \n",
        " [0.002,0.0029951] \n",
        " [0.004,0.00598038]\n",
        " [0.006,0.00895586]\n",
        " [0.008,0.0119215] \n",
        " [0.01,0.0148774]  \n",
        " [0.012,0.0178234] \n",
        " [0.014,0.0207597] \n",
        " [0.016,0.0236861] \n",
        " [0.018,0.0266027] \n",
        " [0.02,0.0295095]  \n",
        " [0.022,0.0324065] \n",
        " [0.024,0.0352937] \n",
        " \u22ee                 \n",
        " [19.978,-459.454] \n",
        " [19.98,-459.549]  \n",
        " [19.982,-459.644] \n",
        " [19.984,-459.74]  \n",
        " [19.986,-459.835] \n",
        " [19.988,-459.93]  \n",
        " [19.99,-460.025]  \n",
        " [19.992,-460.12]  \n",
        " [19.994,-460.215] \n",
        " [19.996,-460.31]  \n",
        " [19.998,-460.405] \n",
        " [20.0,-460.5]     "
       ]
      }
     ],
     "prompt_number": 61
    },
    {
     "cell_type": "code",
     "collapsed": false,
     "input": [
      "trayectoria1x(x,y)=[r[1] for r in puntos1(x,y)]"
     ],
     "language": "python",
     "metadata": {},
     "outputs": [
      {
       "metadata": {},
       "output_type": "pyout",
       "prompt_number": 64,
       "text": [
        "trayectoria1x (generic function with 1 method)"
       ]
      }
     ],
     "prompt_number": 64
    },
    {
     "cell_type": "code",
     "collapsed": false,
     "input": [
      "trayectoria1y(x,y)=[r[2] for r in puntos1(x,y)]"
     ],
     "language": "python",
     "metadata": {},
     "outputs": [
      {
       "metadata": {},
       "output_type": "pyout",
       "prompt_number": 66,
       "text": [
        "trayectoria1y (generic function with 1 method)"
       ]
      }
     ],
     "prompt_number": 66
    },
    {
     "cell_type": "code",
     "collapsed": false,
     "input": [
      "trayectoria1(x,y)=plot(trayectoria1x(x,y),trayectoria1y(x,y),\"g.\")"
     ],
     "language": "python",
     "metadata": {},
     "outputs": [
      {
       "metadata": {},
       "output_type": "pyout",
       "prompt_number": 67,
       "text": [
        "trayectoria1 (generic function with 1 method)"
       ]
      }
     ],
     "prompt_number": 67
    },
    {
     "cell_type": "code",
     "collapsed": false,
     "input": [
      "trayectoria1(20,20)"
     ],
     "language": "python",
     "metadata": {},
     "outputs": [
      {
       "metadata": {},
       "output_type": "display_data",
       "png": "[encoded data removed]",
       "text": [
        "Figure(PyObject <matplotlib.figure.Figure object at 0xa155650>)"
       ]
      },
      {
       "metadata": {},
       "output_type": "pyout",
       "prompt_number": 71,
       "text": [
        "1-element Array{Any,1}:\n",
        " PyObject <matplotlib.lines.Line2D object at 0xa12c350>"
       ]
      }
     ],
     "prompt_number": 71
    },
    {
     "cell_type": "code",
     "collapsed": false,
     "input": [
      "arreglox=[0:0.001:200]"
     ],
     "language": "python",
     "metadata": {},
     "outputs": [
      {
       "metadata": {},
       "output_type": "pyout",
       "prompt_number": 163,
       "text": [
        "200001-element Array{Float64,1}:\n",
        "   0.0  \n",
        "   0.001\n",
        "   0.002\n",
        "   0.003\n",
        "   0.004\n",
        "   0.005\n",
        "   0.006\n",
        "   0.007\n",
        "   0.008\n",
        "   0.009\n",
        "   0.01 \n",
        "   0.011\n",
        "   0.012\n",
        "   \u22ee    \n",
        " 199.989\n",
        " 199.99 \n",
        " 199.991\n",
        " 199.992\n",
        " 199.993\n",
        " 199.994\n",
        " 199.995\n",
        " 199.996\n",
        " 199.997\n",
        " 199.998\n",
        " 199.999\n",
        " 200.0  "
       ]
      }
     ],
     "prompt_number": 163
    },
    {
     "cell_type": "code",
     "collapsed": false,
     "input": [
      "tan(2)"
     ],
     "language": "python",
     "metadata": {},
     "outputs": [
      {
       "metadata": {},
       "output_type": "pyout",
       "prompt_number": 164,
       "text": [
        "-2.185039863261519"
       ]
      }
     ],
     "prompt_number": 164
    },
    {
     "cell_type": "code",
     "collapsed": false,
     "input": [
      "function cordy(x,g)\n",
      "    if tan(g)*x-4.905*(x^2)/(1600*cos(g)^2)>0\n",
      "        y=tan(g)*x-4.905*(x^2)/(1600*cos(g)^2)\n",
      "    else\n",
      "        y=0\n",
      "    end\n",
      "    return y\n",
      "end"
     ],
     "language": "python",
     "metadata": {},
     "outputs": [
      {
       "metadata": {},
       "output_type": "pyout",
       "prompt_number": 165,
       "text": [
        "cordy (generic function with 1 method)"
       ]
      }
     ],
     "prompt_number": 165
    },
    {
     "cell_type": "code",
     "collapsed": false,
     "input": [
      "arregloy(g)=[cordy(x,g) for x in arreglox]"
     ],
     "language": "python",
     "metadata": {},
     "outputs": [
      {
       "metadata": {},
       "output_type": "pyout",
       "prompt_number": 166,
       "text": [
        "arregloy (generic function with 1 method)"
       ]
      }
     ],
     "prompt_number": 166
    },
    {
     "cell_type": "code",
     "collapsed": false,
     "input": [
      "function trayectoria2(g)\n",
      "    plot(arreglox,arregloy(g),label=string(g)[1:5])\n",
      "    xlabel(\"Eje x\")\n",
      "    ylabel(\"Eje y\")\n",
      "    title(\"Trayectorias\")\n",
      "    legend()\n",
      "end"
     ],
     "language": "python",
     "metadata": {},
     "outputs": [
      {
       "metadata": {},
       "output_type": "pyout",
       "prompt_number": 176,
       "text": [
        "trayectoria2 (generic function with 1 method)"
       ]
      }
     ],
     "prompt_number": 176
    },
    {
     "cell_type": "code",
     "collapsed": false,
     "input": [
      "trayectoria2(pi/4)"
     ],
     "language": "python",
     "metadata": {},
     "outputs": [
      {
       "metadata": {},
       "output_type": "display_data",
       "png": "[encoded data removed]",
       "text": [
        "Figure(PyObject <matplotlib.figure.Figure object at 0x173e3190>)"
       ]
      },
      {
       "metadata": {},
       "output_type": "pyout",
       "prompt_number": 177,
       "text": [
        "PyObject <matplotlib.legend.Legend object at 0x1b1e2d10>"
       ]
      }
     ],
     "prompt_number": 177
    },
    {
     "cell_type": "code",
     "collapsed": false,
     "input": [
      "for n=1:19\n",
      "    trayectoria2((pi/4)*(n/10))\n",
      "end"
     ],
     "language": "python",
     "metadata": {},
     "outputs": [
      {
       "metadata": {},
       "output_type": "display_data",
       "png": "[encoded data removed]",
       "text": [
        "Figure(PyObject <matplotlib.figure.Figure object at 0x1b1f09d0>)"
       ]
      }
     ],
     "prompt_number": 178
    }
   ],
   "metadata": {}
  }
 ]
}