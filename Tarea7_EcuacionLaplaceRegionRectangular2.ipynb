{
 "metadata": {
  "language": "Julia",
  "name": "",
  "signature": "sha256:578b06688eab74e31e3760f27cfbf1f907a19be5f52d38589bda93a912f388bd"
 },
 "nbformat": 3,
 "nbformat_minor": 0,
 "worksheets": [
  {
   "cells": [
    {
     "cell_type": "heading",
     "level": 1,
     "metadata": {},
     "source": [
      "Villegas Burgos Carlos Mauricio "
     ]
    },
    {
     "cell_type": "heading",
     "level": 2,
     "metadata": {},
     "source": [
      "Tarea 7"
     ]
    },
    {
     "cell_type": "heading",
     "level": 3,
     "metadata": {},
     "source": [
      "Preguntas"
     ]
    },
    {
     "cell_type": "markdown",
     "metadata": {},
     "source": [
      "En el cuaderno [Laplace equation](../notas/Laplace equation.ipynb) se ha implementado la soluci\u00f3n num\u00e9rica de la ecuaci\u00f3n de Laplace en 2D con base en el [art\u00edculo de Cornock](../notas/Cornock1954.pdf)."
     ]
    },
    {
     "cell_type": "markdown",
     "metadata": {},
     "source": [
      "**1.** Revisa el art\u00edculo y utiliza el c\u00f3digo del cuaderno de arriba como punto de partida para resolver la ecuaci\u00f3n de Laplace en una regi\u00f3n rectangular irregular. Puede ser una L, una placa con un hueco en el centro, una U, etc.\n",
      "\n",
      "Para definir la regi\u00f3n rectangular la debes dibujar en [gimp](http://www.gimp.org/):\n",
      "\n",
      "1. Abre gimp y crea un documento de 16 x 16 px.\n",
      "\n",
      "2. Con la herramienta de selecci\u00f3n rectangular dibuja un rect\u00e1ngulo.\n",
      "\n",
      "3. En el men\u00fa **Select** escoge **Selection Editor**.\n",
      "\n",
      "4. En la barra de la izquierda aparece un recuadro donde puedes especificar la posici\u00f3n y el tama\u00f1o de la selecci\u00f3n en p\u00edxeles.\n",
      "\n",
      "5. Cuando la selecci\u00f3n est\u00e9 lista, en la barra de la izquierda, donde est\u00e1n los iconitos, selecciona la cubeta y rellena la selecci\u00f3n rectangular de negro.\n",
      "\n",
      "6. En el men\u00fa **File** selecciona **Export as**. Guarda la imagen en un archivo sin acentos y sin espacios, con extensi\u00f3n **.pbm**.\n",
      "\n",
      "7. Aparece un recuadro que dice **Data Formatting**. Selecciona **ASCII**."
     ]
    },
    {
     "cell_type": "heading",
     "level": 3,
     "metadata": {},
     "source": [
      "Respuestas:"
     ]
    },
    {
     "cell_type": "code",
     "collapsed": false,
     "input": [
      "using Images\n",
      "using FixedPointNumbers"
     ],
     "language": "python",
     "metadata": {},
     "outputs": [],
     "prompt_number": 1
    },
    {
     "cell_type": "markdown",
     "metadata": {},
     "source": [
      "Despu\u00e9s de crear la imagen, la llamamos en una variable con el comando imread."
     ]
    },
    {
     "cell_type": "code",
     "collapsed": false,
     "input": [
      "img = imread(\"RegionVillegas.pbm\")"
     ],
     "language": "python",
     "metadata": {},
     "outputs": [
      {
       "metadata": {},
       "output_type": "pyout",
       "png": "[encoded data removed]",
       "prompt_number": 2,
       "text": [
        "RGB Image with:\n",
        "  data: 16x16 Array{RGB{UfixedBase{Uint8,8}},2}\n",
        "  properties:\n",
        "    IMcs: RGB\n",
        "    spatialorder:  x y\n",
        "    pixelspacing:  1 1"
       ]
      }
     ],
     "prompt_number": 2
    },
    {
     "cell_type": "code",
     "collapsed": false,
     "input": [
      "show(img)"
     ],
     "language": "python",
     "metadata": {},
     "outputs": [
      {
       "output_type": "stream",
       "stream": "stdout",
       "text": [
        "RGB "
       ]
      },
      {
       "output_type": "stream",
       "stream": "stdout",
       "text": [
        "Image with:\n",
        "  data: 16x16 Array{RGB{UfixedBase{Uint8,8}},2}\n",
        "  properties:\n",
        "    IMcs: RGB\n",
        "    spatialorder:  x y\n",
        "    pixelspacing:  1 1"
       ]
      }
     ],
     "prompt_number": 3
    },
    {
     "cell_type": "code",
     "collapsed": false,
     "input": [
      "domain = int(data(reinterpret(Ufixed8, img))');\n",
      "nx, ny = size(domain)"
     ],
     "language": "python",
     "metadata": {},
     "outputs": [
      {
       "metadata": {},
       "output_type": "pyout",
       "prompt_number": 4,
       "text": [
        "(3,16,16)"
       ]
      }
     ],
     "prompt_number": 4
    },
    {
     "cell_type": "markdown",
     "metadata": {},
     "source": [
      "Del mismo modo que en el notebook, obtenemos la regi\u00f3n en forma de matriz"
     ]
    },
    {
     "cell_type": "code",
     "collapsed": false,
     "input": [
      "domain"
     ],
     "language": "python",
     "metadata": {},
     "outputs": [
      {
       "metadata": {},
       "output_type": "pyout",
       "prompt_number": 5,
       "text": [
        "3x16x16 Array{Int64,3}:\n",
        "[:, :, 1] =\n",
        " 1  1  1  1  1  1  1  1  1  1  1  1  1  1  1  1\n",
        " 1  1  1  1  1  1  1  1  1  1  1  1  1  1  1  1\n",
        " 1  1  1  1  1  1  1  1  1  1  1  1  1  1  1  1\n",
        "\n",
        "[:, :, 2] =\n",
        " 1  1  1  1  1  1  1  1  1  1  1  1  1  1  1  1\n",
        " 1  1  1  1  1  1  1  1  1  1  1  1  1  1  1  1\n",
        " 1  1  1  1  1  1  1  1  1  1  1  1  1  1  1  1\n",
        "\n",
        "[:, :, 3] =\n",
        " 1  1  0  0  0  0  1  1  1  1  0  0  0  0  1  1\n",
        " 1  1  0  0  0  0  1  1  1  1  0  0  0  0  1  1\n",
        " 1  1  0  0  0  0  1  1  1  1  0  0  0  0  1  1\n",
        "\n",
        "...\n",
        "\n",
        "[:, :, 14] =\n",
        " 1  1  0  0  0  0  0  0  0  0  0  0  0  0  1  1\n",
        " 1  1  0  0  0  0  0  0  0  0  0  0  0  0  1  1\n",
        " 1  1  0  0  0  0  0  0  0  0  0  0  0  0  1  1\n",
        "\n",
        "[:, :, 15] =\n",
        " 1  1  1  1  1  1  1  1  1  1  1  1  1  1  1  1\n",
        " 1  1  1  1  1  1  1  1  1  1  1  1  1  1  1  1\n",
        " 1  1  1  1  1  1  1  1  1  1  1  1  1  1  1  1\n",
        "\n",
        "[:, :, 16] =\n",
        " 1  1  1  1  1  1  1  1  1  1  1  1  1  1  1  1\n",
        " 1  1  1  1  1  1  1  1  1  1  1  1  1  1  1  1\n",
        " 1  1  1  1  1  1  1  1  1  1  1  1  1  1  1  1"
       ]
      }
     ],
     "prompt_number": 5
    },
    {
     "cell_type": "markdown",
     "metadata": {},
     "source": [
      "A mi me aparece el domain como una matriz tridimensional, pero no quiero eso, por lo que tendr\u00e9 que construir la matriz bidimensional por mi cuenta, donde sean ceros y unos. Como en el documento `Laplace equation.ipynb`, los 1 son para puntos interiores (que son negros) y los 0 son para los puntos de frontera (que son blancos)."
     ]
    },
    {
     "cell_type": "code",
     "collapsed": false,
     "input": [
      "domain=int(zeros(16,16))\n",
      "for j in 3:6\n",
      "    for i in 3:14\n",
      "        domain[i,j]=1\n",
      "    end\n",
      "end\n",
      "for j in 3:14\n",
      "    for i in 11:14\n",
      "        domain[i,j]=1\n",
      "    end\n",
      "end\n",
      "for j in 11:14\n",
      "    for i in 3:14\n",
      "        domain[i,j]=1\n",
      "    end\n",
      "end\n",
      "ny, nx = size(domain)"
     ],
     "language": "python",
     "metadata": {},
     "outputs": [
      {
       "metadata": {},
       "output_type": "pyout",
       "prompt_number": 6,
       "text": [
        "(16,16)"
       ]
      }
     ],
     "prompt_number": 6
    },
    {
     "cell_type": "code",
     "collapsed": false,
     "input": [
      "domain"
     ],
     "language": "python",
     "metadata": {},
     "outputs": [
      {
       "metadata": {},
       "output_type": "pyout",
       "prompt_number": 7,
       "text": [
        "16x16 Array{Int64,2}:\n",
        " 0  0  0  0  0  0  0  0  0  0  0  0  0  0  0  0\n",
        " 0  0  0  0  0  0  0  0  0  0  0  0  0  0  0  0\n",
        " 0  0  1  1  1  1  0  0  0  0  1  1  1  1  0  0\n",
        " 0  0  1  1  1  1  0  0  0  0  1  1  1  1  0  0\n",
        " 0  0  1  1  1  1  0  0  0  0  1  1  1  1  0  0\n",
        " 0  0  1  1  1  1  0  0  0  0  1  1  1  1  0  0\n",
        " 0  0  1  1  1  1  0  0  0  0  1  1  1  1  0  0\n",
        " 0  0  1  1  1  1  0  0  0  0  1  1  1  1  0  0\n",
        " 0  0  1  1  1  1  0  0  0  0  1  1  1  1  0  0\n",
        " 0  0  1  1  1  1  0  0  0  0  1  1  1  1  0  0\n",
        " 0  0  1  1  1  1  1  1  1  1  1  1  1  1  0  0\n",
        " 0  0  1  1  1  1  1  1  1  1  1  1  1  1  0  0\n",
        " 0  0  1  1  1  1  1  1  1  1  1  1  1  1  0  0\n",
        " 0  0  1  1  1  1  1  1  1  1  1  1  1  1  0  0\n",
        " 0  0  0  0  0  0  0  0  0  0  0  0  0  0  0  0\n",
        " 0  0  0  0  0  0  0  0  0  0  0  0  0  0  0  0"
       ]
      }
     ],
     "prompt_number": 7
    },
    {
     "cell_type": "code",
     "collapsed": false,
     "input": [
      "using PyPlot"
     ],
     "language": "python",
     "metadata": {},
     "outputs": [
      {
       "output_type": "stream",
       "stream": "stderr",
       "text": [
        "INFO: Loading help data...\n",
        "Warning: using PyPlot.imread in module Main conflicts with an existing identifier.\n"
       ]
      }
     ],
     "prompt_number": 8
    },
    {
     "cell_type": "markdown",
     "metadata": {},
     "source": [
      "Usamos PyPlot hasta aqu\u00ed porque conflictuaba con Image."
     ]
    },
    {
     "cell_type": "code",
     "collapsed": false,
     "input": [
      "imshow(domain)"
     ],
     "language": "python",
     "metadata": {},
     "outputs": [
      {
       "metadata": {},
       "output_type": "display_data",
       "png": "[encoded data removed]",
       "text": [
        "Figure(PyObject <matplotlib.figure.Figure object at 0x7f235708cbd0>)"
       ]
      },
      {
       "metadata": {},
       "output_type": "pyout",
       "prompt_number": 9,
       "text": [
        "PyObject <matplotlib.image.AxesImage object at 0x7f237f218a10>"
       ]
      }
     ],
     "prompt_number": 9
    },
    {
     "cell_type": "markdown",
     "metadata": {},
     "source": [
      "La funci\u00f3n findn se encarga de encontrar los indices de los puntos que son 1, o sea, de los puntos interiores."
     ]
    },
    {
     "cell_type": "code",
     "collapsed": false,
     "input": [
      "int_i, int_j = findn(domain)"
     ],
     "language": "python",
     "metadata": {},
     "outputs": [
      {
       "metadata": {},
       "output_type": "pyout",
       "prompt_number": 10,
       "text": [
        "([3,4,5,6,7,8,9,10,11,12  \u2026  5,6,7,8,9,10,11,12,13,14],[3,3,3,3,3,3,3,3,3,3  \u2026  14,14,14,14,14,14,14,14,14,14])"
       ]
      }
     ],
     "prompt_number": 10
    },
    {
     "cell_type": "markdown",
     "metadata": {},
     "source": [
      "Para hallar los puntos de frontera, tomamos el complemento de domain como lo hacen en el documento de ejemplo, y usamos findn nuevamente."
     ]
    },
    {
     "cell_type": "code",
     "collapsed": false,
     "input": [
      "c_domain = int((domain+ones(size(domain)))%2)"
     ],
     "language": "python",
     "metadata": {},
     "outputs": [
      {
       "metadata": {},
       "output_type": "pyout",
       "prompt_number": 11,
       "text": [
        "16x16 Array{Int64,2}:\n",
        " 1  1  1  1  1  1  1  1  1  1  1  1  1  1  1  1\n",
        " 1  1  1  1  1  1  1  1  1  1  1  1  1  1  1  1\n",
        " 1  1  0  0  0  0  1  1  1  1  0  0  0  0  1  1\n",
        " 1  1  0  0  0  0  1  1  1  1  0  0  0  0  1  1\n",
        " 1  1  0  0  0  0  1  1  1  1  0  0  0  0  1  1\n",
        " 1  1  0  0  0  0  1  1  1  1  0  0  0  0  1  1\n",
        " 1  1  0  0  0  0  1  1  1  1  0  0  0  0  1  1\n",
        " 1  1  0  0  0  0  1  1  1  1  0  0  0  0  1  1\n",
        " 1  1  0  0  0  0  1  1  1  1  0  0  0  0  1  1\n",
        " 1  1  0  0  0  0  1  1  1  1  0  0  0  0  1  1\n",
        " 1  1  0  0  0  0  0  0  0  0  0  0  0  0  1  1\n",
        " 1  1  0  0  0  0  0  0  0  0  0  0  0  0  1  1\n",
        " 1  1  0  0  0  0  0  0  0  0  0  0  0  0  1  1\n",
        " 1  1  0  0  0  0  0  0  0  0  0  0  0  0  1  1\n",
        " 1  1  1  1  1  1  1  1  1  1  1  1  1  1  1  1\n",
        " 1  1  1  1  1  1  1  1  1  1  1  1  1  1  1  1"
       ]
      }
     ],
     "prompt_number": 11
    },
    {
     "cell_type": "code",
     "collapsed": false,
     "input": [
      "b_i, b_j = findn(c_domain)"
     ],
     "language": "python",
     "metadata": {},
     "outputs": [
      {
       "metadata": {},
       "output_type": "pyout",
       "prompt_number": 12,
       "text": [
        "([1,2,3,4,5,6,7,8,9,10  \u2026  7,8,9,10,11,12,13,14,15,16],[1,1,1,1,1,1,1,1,1,1  \u2026  16,16,16,16,16,16,16,16,16,16])"
       ]
      }
     ],
     "prompt_number": 12
    },
    {
     "cell_type": "markdown",
     "metadata": {},
     "source": [
      "Ahora, hay que armar la matriz U con el potencial de cada punto. Primero empezamos d\u00e1ndole valores a los puntos de frontera."
     ]
    },
    {
     "cell_type": "code",
     "collapsed": false,
     "input": [
      "U = zeros(size(domain));"
     ],
     "language": "python",
     "metadata": {},
     "outputs": [],
     "prompt_number": 13
    },
    {
     "cell_type": "code",
     "collapsed": false,
     "input": [
      "for n in 1:length(b_i)\n",
      "    if 7<=b_j[n]<=10&&7<=b_i[n]<=10\n",
      "    U[b_i[n],b_j[n]] = 100\n",
      "    elseif b_i[n]>=13\n",
      "        U[b_i[n],b_j[n]] = 70\n",
      "    elseif b_i[n]<=3\n",
      "        U[b_i[n],b_j[n]] = 50\n",
      "    else\n",
      "        U[b_i[n],b_j[n]] = 30\n",
      "    end\n",
      "end"
     ],
     "language": "python",
     "metadata": {},
     "outputs": [],
     "prompt_number": 14
    },
    {
     "cell_type": "markdown",
     "metadata": {},
     "source": [
      "Damos la matriz `F` para que represente los valores del potencial en los puntos de frontera."
     ]
    },
    {
     "cell_type": "code",
     "collapsed": false,
     "input": [
      "F=U"
     ],
     "language": "python",
     "metadata": {},
     "outputs": [
      {
       "metadata": {},
       "output_type": "pyout",
       "prompt_number": 15,
       "text": [
        "16x16 Array{Float64,2}:\n",
        " 50.0  50.0  50.0  50.0  50.0  50.0  \u2026  50.0  50.0  50.0  50.0  50.0  50.0\n",
        " 50.0  50.0  50.0  50.0  50.0  50.0     50.0  50.0  50.0  50.0  50.0  50.0\n",
        " 50.0  50.0   0.0   0.0   0.0   0.0      0.0   0.0   0.0   0.0  50.0  50.0\n",
        " 30.0  30.0   0.0   0.0   0.0   0.0      0.0   0.0   0.0   0.0  30.0  30.0\n",
        " 30.0  30.0   0.0   0.0   0.0   0.0      0.0   0.0   0.0   0.0  30.0  30.0\n",
        " 30.0  30.0   0.0   0.0   0.0   0.0  \u2026   0.0   0.0   0.0   0.0  30.0  30.0\n",
        " 30.0  30.0   0.0   0.0   0.0   0.0      0.0   0.0   0.0   0.0  30.0  30.0\n",
        " 30.0  30.0   0.0   0.0   0.0   0.0      0.0   0.0   0.0   0.0  30.0  30.0\n",
        " 30.0  30.0   0.0   0.0   0.0   0.0      0.0   0.0   0.0   0.0  30.0  30.0\n",
        " 30.0  30.0   0.0   0.0   0.0   0.0      0.0   0.0   0.0   0.0  30.0  30.0\n",
        " 30.0  30.0   0.0   0.0   0.0   0.0  \u2026   0.0   0.0   0.0   0.0  30.0  30.0\n",
        " 30.0  30.0   0.0   0.0   0.0   0.0      0.0   0.0   0.0   0.0  30.0  30.0\n",
        " 70.0  70.0   0.0   0.0   0.0   0.0      0.0   0.0   0.0   0.0  70.0  70.0\n",
        " 70.0  70.0   0.0   0.0   0.0   0.0      0.0   0.0   0.0   0.0  70.0  70.0\n",
        " 70.0  70.0  70.0  70.0  70.0  70.0     70.0  70.0  70.0  70.0  70.0  70.0\n",
        " 70.0  70.0  70.0  70.0  70.0  70.0  \u2026  70.0  70.0  70.0  70.0  70.0  70.0"
       ]
      }
     ],
     "prompt_number": 15
    },
    {
     "cell_type": "code",
     "collapsed": false,
     "input": [
      "imshow(F)"
     ],
     "language": "python",
     "metadata": {},
     "outputs": [
      {
       "metadata": {},
       "output_type": "display_data",
       "png": "[encoded data removed]",
       "text": [
        "Figure(PyObject <matplotlib.figure.Figure object at 0x7f237f25b090>)"
       ]
      },
      {
       "metadata": {},
       "output_type": "pyout",
       "prompt_number": 16,
       "text": [
        "PyObject <matplotlib.image.AxesImage object at 0x7f2356750cd0>"
       ]
      }
     ],
     "prompt_number": 16
    },
    {
     "cell_type": "markdown",
     "metadata": {},
     "source": [
      "Todos los puntos de frontera tienen un potencial distinto de cero. Un cuadradito en la boca de la regi\u00f3n de inter\u00e9s (la U) est\u00e1 a un potencial de 100 (est\u00e1 en rojo). Una base en forma de U que est\u00e1 debajo de la regi\u00f3n de inter\u00e9s tiene potencial 70 (est\u00e1 en amarillo). Una M apoyada en las patas de la U tiene potencial 50 (est\u00e1 en verde).El resto de la frontera est\u00e1 a potencial 30 (est\u00e1 en azul cielo)."
     ]
    },
    {
     "cell_type": "markdown",
     "metadata": {},
     "source": [
      "Ahora, construimos las matrices que definen al sistema de ecuaciones, pero no usaremos las funciones Laplace1D ni Laplace2D del cuaderno. Primero debemos tomar en cuenta que el sistema de ecuaciones tiene tantos renglones como columnas, y que esa cantidad es igual al n\u00famero de puntos en la matriz que define a nuestra regi\u00f3n (nxny, que en este caso es 16x16=256). Para ello, hay que encontrar el modo de asignarle a cada punto un rengl\u00f3n en la matriz del sistema de ecuaciones (o sea, a cada punto hay que asignarle una ecuaci\u00f3n). Para ello est\u00e1 la funci\u00f3n `ConvertirIJaK`. Despu\u00e9s de haber resuelto el potencial para cada uno de los puntos (que son las variables del sistema de ecuaciones), debemos volver a pasarlos a la matriz ue representa a la regi\u00f3n rectangular y sus fronteras (la matriz nxny). PAra eso est\u00e1 la funci\u00f3n `ConvertirKaIJ`."
     ]
    },
    {
     "cell_type": "code",
     "collapsed": false,
     "input": [
      "function ConvertirIJaK(rengloni::Int,columnaj::Int,renglones::Int,columnas::Int)\n",
      "    k=int(columnas*(rengloni-1)+columnaj)\n",
      "    return k\n",
      "end"
     ],
     "language": "python",
     "metadata": {},
     "outputs": [
      {
       "metadata": {},
       "output_type": "pyout",
       "prompt_number": 17,
       "text": [
        "ConvertirIJaK (generic function with 1 method)"
       ]
      }
     ],
     "prompt_number": 17
    },
    {
     "cell_type": "code",
     "collapsed": false,
     "input": [
      "function ConvertirKaIJ(elementok::Int,renglones::Int,columnas::Int)\n",
      "    i=int(ceil(elementok/columnas))\n",
      "    if elementok%columnas==0\n",
      "        j=columnas\n",
      "    else\n",
      "        j=elementok%columnas\n",
      "    end\n",
      "    return i,j\n",
      "end"
     ],
     "language": "python",
     "metadata": {},
     "outputs": [
      {
       "metadata": {},
       "output_type": "pyout",
       "prompt_number": 18,
       "text": [
        "ConvertirKaIJ (generic function with 1 method)"
       ]
      }
     ],
     "prompt_number": 18
    },
    {
     "cell_type": "code",
     "collapsed": false,
     "input": [
      "S=zeros(nx*ny,nx*ny);\n",
      "b=zeros(nx*ny);"
     ],
     "language": "python",
     "metadata": {},
     "outputs": [],
     "prompt_number": 19
    },
    {
     "cell_type": "markdown",
     "metadata": {},
     "source": [
      "`S` es la matriz cuyos renglones son las ecuaciones del potencial en cada punto del espacio. `b` es el vector columna que representa a qu\u00e9 est\u00e1n igualadas cada una de esas ecuaciones. "
     ]
    },
    {
     "cell_type": "markdown",
     "metadata": {},
     "source": [
      "Para construir las ecuaciones, simplemente debemos ver cu\u00e1les son los puntos de frontera y cu\u00e1les son los puntos interiores. Si un punto es de frontera, la ecuaci\u00f3n correspondiente (rengl\u00f3n en `S`) s\u00f3lo debe tener un 1 como coeficiente en la variable (columna en ese rengl\u00f3n) a la que representa dicha ecuaci\u00f3n, y debe estar igualada (en el correspondiente rengl\u00f3n de `b`) al valor del potencial que tiene como punto de frontera. Si es un punto interior, el rengl\u00f3n debe representar la ecuaci\u00f3n de Laplace en ese punto, $\\nabla^{2}V=0$, que es lo mismo que  $V_{i,\\,j+1}+V_{i,\\,j-1}+V_{i-1,\\,j}+V_{i+1,\\,j}-4V_{i,\\,j}=0$, donde los \u00edndices $i$ y $j$ son los \u00edndices del elemento de la matriz que representa a la regi\u00f3n que queremos resolver. "
     ]
    },
    {
     "cell_type": "code",
     "collapsed": false,
     "input": [
      "for i in 1:ny\n",
      "        for j in 1:nx\n",
      "        if domain[i,j]==0\n",
      "            S[ConvertirIJaK(i,j,ny,nx),ConvertirIJaK(i,j,ny,nx)]=1\n",
      "            b[ConvertirIJaK(i,j,ny,nx)]=F[i,j]\n",
      "            else\n",
      "            S[ConvertirIJaK(i,j,ny,nx),ConvertirIJaK(i,j+1,ny,nx)]=1\n",
      "            S[ConvertirIJaK(i,j,ny,nx),ConvertirIJaK(i,j-1,ny,nx)]=1\n",
      "            S[ConvertirIJaK(i,j,ny,nx),ConvertirIJaK(i-1,j,ny,nx)]=1\n",
      "            S[ConvertirIJaK(i,j,ny,nx),ConvertirIJaK(i+1,j,ny,nx)]=1\n",
      "            S[ConvertirIJaK(i,j,ny,nx),ConvertirIJaK(i,j,ny,nx)]=-4       \n",
      "            b[ConvertirIJaK(i,j,ny,nx)]=0\n",
      "            end\n",
      "        end\n",
      "    end"
     ],
     "language": "python",
     "metadata": {},
     "outputs": [],
     "prompt_number": 20
    },
    {
     "cell_type": "markdown",
     "metadata": {},
     "source": [
      "La celda de arriba sirve para armar el sistema de ecuaciones sin importar la forma y tama\u00f1o que tenga la regi\u00f3n en la cual quiere resolverse la ecuaci\u00f3n de Laplace. Es un c\u00f3digo gen\u00e9rico."
     ]
    },
    {
     "cell_type": "markdown",
     "metadata": {},
     "source": [
      "Despu\u00e9s de construir la matriz del sistema `S` y `b`, simplemente la resolver con \\"
     ]
    },
    {
     "cell_type": "code",
     "collapsed": false,
     "input": [
      "X=S\\b"
     ],
     "language": "python",
     "metadata": {},
     "outputs": [
      {
       "metadata": {},
       "output_type": "pyout",
       "prompt_number": 21,
       "text": [
        "256-element Array{Float64,1}:\n",
        " 50.0\n",
        " 50.0\n",
        " 50.0\n",
        " 50.0\n",
        " 50.0\n",
        " 50.0\n",
        " 50.0\n",
        " 50.0\n",
        " 50.0\n",
        " 50.0\n",
        " 50.0\n",
        " 50.0\n",
        " 50.0\n",
        "  \u22ee  \n",
        " 70.0\n",
        " 70.0\n",
        " 70.0\n",
        " 70.0\n",
        " 70.0\n",
        " 70.0\n",
        " 70.0\n",
        " 70.0\n",
        " 70.0\n",
        " 70.0\n",
        " 70.0\n",
        " 70.0"
       ]
      }
     ],
     "prompt_number": 21
    },
    {
     "cell_type": "markdown",
     "metadata": {},
     "source": [
      "Ahora pasamos esos valores del potencial a la matriz `U` con `ConvertirKaIJ`:"
     ]
    },
    {
     "cell_type": "code",
     "collapsed": false,
     "input": [
      "    for k in 1:length(X)\n",
      "    i,j=ConvertirKaIJ(k,ny,nx)\n",
      "        U[i,j]=X[k]\n",
      "    end"
     ],
     "language": "python",
     "metadata": {},
     "outputs": [],
     "prompt_number": 22
    },
    {
     "cell_type": "markdown",
     "metadata": {},
     "source": [
      "Vemos `U` antes de graficarlo."
     ]
    },
    {
     "cell_type": "code",
     "collapsed": false,
     "input": [
      "U"
     ],
     "language": "python",
     "metadata": {},
     "outputs": [
      {
       "metadata": {},
       "output_type": "pyout",
       "prompt_number": 23,
       "text": [
        "16x16 Array{Float64,2}:\n",
        " 50.0  50.0  50.0     50.0     50.0     \u2026  50.0     50.0     50.0  50.0\n",
        " 50.0  50.0  50.0     50.0     50.0        50.0     50.0     50.0  50.0\n",
        " 50.0  50.0  46.3172  46.3196  46.4859     46.3196  46.3172  50.0  50.0\n",
        " 30.0  30.0  38.9493  42.4751  43.0195     42.4751  38.9493  30.0  30.0\n",
        " 30.0  30.0  37.0047  41.6122  43.1853     41.6122  37.0047  30.0  30.0\n",
        " 30.0  30.0  37.4574  43.7835  48.0062  \u2026  43.7835  37.4574  30.0  30.0\n",
        " 30.0  30.0  39.0416  48.0581  57.7598     48.0581  39.0416  30.0  30.0\n",
        " 30.0  30.0  40.6509  51.6474  63.8995     51.6474  40.6509  30.0  30.0\n",
        " 30.0  30.0  41.9147  53.9811  66.9451     53.9811  41.9147  30.0  30.0\n",
        " 30.0  30.0  43.0267  55.4171  67.8917     55.4171  43.0267  30.0  30.0\n",
        " 30.0  30.0  44.7751  56.769   67.3633  \u2026  56.769   44.7751  30.0  30.0\n",
        " 30.0  30.0  49.3048  59.5202  67.3275     59.5202  49.3048  30.0  30.0\n",
        " 70.0  70.0  62.924   64.6797  68.3527     64.6797  62.924   70.0  70.0\n",
        " 70.0  70.0  67.7115  67.9219  69.2963     67.9219  67.7115  70.0  70.0\n",
        " 70.0  70.0  70.0     70.0     70.0        70.0     70.0     70.0  70.0\n",
        " 70.0  70.0  70.0     70.0     70.0     \u2026  70.0     70.0     70.0  70.0"
       ]
      }
     ],
     "prompt_number": 23
    },
    {
     "cell_type": "code",
     "collapsed": false,
     "input": [
      "imshow(U)"
     ],
     "language": "python",
     "metadata": {},
     "outputs": [
      {
       "metadata": {},
       "output_type": "display_data",
       "png": "[encoded data removed]",
       "text": [
        "Figure(PyObject <matplotlib.figure.Figure object at 0x7f237f25ba10>)"
       ]
      },
      {
       "metadata": {},
       "output_type": "pyout",
       "prompt_number": 24,
       "text": [
        "PyObject <matplotlib.image.AxesImage object at 0x7f235661fa10>"
       ]
      }
     ],
     "prompt_number": 24
    },
    {
     "cell_type": "markdown",
     "metadata": {},
     "source": [
      "Notamos que los valores del potencial en la frontera se respetaron (aunque los colores hayan cambiado por el cambio de escala tras resolver el problema, los n\u00fameros en la malla del potencial siguen siendo los mismos), por lo que la soluci\u00f3n satisface las condiciones de frontera. En los puntos interiores, la soluci\u00f3n s\u00ed parece cumplir la ecuaci\u00f3n de Laplace (que el potencial en un punto de la malla sea igual al promedio del potencial en sus cuatro vecinos m\u00e1s pr\u00f3ximos). Por ende, nuestra soluci\u00f3n para regiones rectangulares fue correcta."
     ]
    }
   ],
   "metadata": {}
  }
 ]
}