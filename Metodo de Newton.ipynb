{
 "metadata": {
  "language": "Julia",
  "name": "",
  "signature": "sha256:c51c59f2c889759ef9534e7ab17c5d6f278368e2d2130ff2eafcc54b2babbc4d"
 },
 "nbformat": 3,
 "nbformat_minor": 0,
 "worksheets": [
  {
   "cells": [
    {
     "cell_type": "code",
     "collapsed": false,
     "input": [
      "function newton(f::Function,deriv_f::Function,adivinanza::Real)\n",
      "        tolerancia=0.000000000000001\n",
      "        x0=adivinanza\n",
      "        if deriv_f(x0)==0\n",
      "            error(\"Aborto\")\n",
      "        end\n",
      "        if abs(f(x0))<=tolerancia\n",
      "            x0\n",
      "        else\n",
      "            x0=x0-(f(x0)/deriv_f(x0))\n",
      "            newton(f,deriv_f,x0)\n",
      "        end\n",
      "    end"
     ],
     "language": "python",
     "metadata": {},
     "outputs": [
      {
       "metadata": {},
       "output_type": "pyout",
       "prompt_number": 19,
       "text": [
        "newton (generic function with 1 method)"
       ]
      }
     ],
     "prompt_number": 19
    },
    {
     "cell_type": "code",
     "collapsed": false,
     "input": [
      "newton(x->x^2-2,x->2x,5)"
     ],
     "language": "python",
     "metadata": {},
     "outputs": [
      {
       "metadata": {},
       "output_type": "pyout",
       "prompt_number": 20,
       "text": [
        "1.4142135623730951"
       ]
      }
     ],
     "prompt_number": 20
    },
    {
     "cell_type": "code",
     "collapsed": false,
     "input": [
      "sqrt(2)"
     ],
     "language": "python",
     "metadata": {},
     "outputs": [
      {
       "metadata": {},
       "output_type": "pyout",
       "prompt_number": 21,
       "text": [
        "1.4142135623730951"
       ]
      }
     ],
     "prompt_number": 21
    },
    {
     "cell_type": "code",
     "collapsed": false,
     "input": [
      "newton(x->tan(x)-x,x->(tan(x))^2,5)"
     ],
     "language": "python",
     "metadata": {},
     "outputs": [
      {
       "ename": "LoadError",
       "evalue": "DomainError\nwhile loading In[33], in expression starting on line 1",
       "output_type": "pyerr",
       "traceback": [
        "DomainError\nwhile loading In[33], in expression starting on line 1",
        " in tan at math.jl:122",
        " in anonymous at In[33]:1",
        " in newton at In[19]:4",
        " in newton at In[19]:11 (repeats 494 times)"
       ]
      }
     ],
     "prompt_number": 33
    },
    {
     "cell_type": "code",
     "collapsed": false,
     "input": [],
     "language": "python",
     "metadata": {},
     "outputs": []
    }
   ],
   "metadata": {}
  }
 ]
}